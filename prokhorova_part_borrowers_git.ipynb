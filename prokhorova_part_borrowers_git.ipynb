{
 "cells": [
  {
   "cell_type": "markdown",
   "metadata": {},
   "source": [
    "# Исследование надёжности заёмщиков\n",
    "\n",
    "Заказчик — кредитный отдел банка. Нужно разобраться, влияет ли семейное положение и количество детей клиента на факт погашения кредита в срок. Входные данные от банка — статистика о платёжеспособности клиентов.\n",
    "\n",
    "Результаты исследования будут учтены при построении модели **кредитного скоринга** — специальной системы, которая оценивает способность потенциального заёмщика вернуть кредит банку."
   ]
  },
  {
   "cell_type": "markdown",
   "metadata": {},
   "source": [
    "## Шаг 1. Откройте файл с данными и изучите общую информацию"
   ]
  },
  {
   "cell_type": "markdown",
   "metadata": {},
   "source": [
    "Прочитаем файл /datasets/data.csv и сохраним его в переменной borrowers.\n",
    "Для наглядности отобразим первые 10 верхних строк таблицы.\n",
    "\n",
    "Рассмотрим полученную информацию подробнее.\n",
    "Столбцы содержат следующующие данные:\n",
    "\n",
    "•\tchildren — количество детей в семье\n",
    "\n",
    "•\tdays_employed — общий трудовой стаж в днях\n",
    "\n",
    "•\tdob_years — возраст клиента в годах\n",
    "\n",
    "•\teducation — уровень образования клиента\n",
    "\n",
    "•\teducation_id — идентификатор уровня образования\n",
    "\n",
    "•\tfamily_status — семейное положение\n",
    "\n",
    "•\tfamily_status_id — идентификатор семейного положения\n",
    "\n",
    "•\tgender — пол клиента\n",
    "\n",
    "•\tincome_type — тип занятости\n",
    "\n",
    "•\tdebt — имел ли задолженность по возврату кредитов\n",
    "\n",
    "•\ttotal_income — ежемесячный доход\n",
    "    \n",
    "•\tpurpose — цель получения кредита\n",
    "\n",
    "Для того, чтобы проанализировать качество данных, запрашиваем информацию"
   ]
  },
  {
   "cell_type": "code",
   "execution_count": 1,
   "metadata": {
    "scrolled": true
   },
   "outputs": [
    {
     "data": {
      "text/html": [
       "<div>\n",
       "<style scoped>\n",
       "    .dataframe tbody tr th:only-of-type {\n",
       "        vertical-align: middle;\n",
       "    }\n",
       "\n",
       "    .dataframe tbody tr th {\n",
       "        vertical-align: top;\n",
       "    }\n",
       "\n",
       "    .dataframe thead th {\n",
       "        text-align: right;\n",
       "    }\n",
       "</style>\n",
       "<table border=\"1\" class=\"dataframe\">\n",
       "  <thead>\n",
       "    <tr style=\"text-align: right;\">\n",
       "      <th></th>\n",
       "      <th>children</th>\n",
       "      <th>days_employed</th>\n",
       "      <th>dob_years</th>\n",
       "      <th>education</th>\n",
       "      <th>education_id</th>\n",
       "      <th>family_status</th>\n",
       "      <th>family_status_id</th>\n",
       "      <th>gender</th>\n",
       "      <th>income_type</th>\n",
       "      <th>debt</th>\n",
       "      <th>total_income</th>\n",
       "      <th>purpose</th>\n",
       "    </tr>\n",
       "  </thead>\n",
       "  <tbody>\n",
       "    <tr>\n",
       "      <td>0</td>\n",
       "      <td>1</td>\n",
       "      <td>-8437.673028</td>\n",
       "      <td>42</td>\n",
       "      <td>высшее</td>\n",
       "      <td>0</td>\n",
       "      <td>женат / замужем</td>\n",
       "      <td>0</td>\n",
       "      <td>F</td>\n",
       "      <td>сотрудник</td>\n",
       "      <td>0</td>\n",
       "      <td>253875.639453</td>\n",
       "      <td>покупка жилья</td>\n",
       "    </tr>\n",
       "    <tr>\n",
       "      <td>1</td>\n",
       "      <td>1</td>\n",
       "      <td>-4024.803754</td>\n",
       "      <td>36</td>\n",
       "      <td>среднее</td>\n",
       "      <td>1</td>\n",
       "      <td>женат / замужем</td>\n",
       "      <td>0</td>\n",
       "      <td>F</td>\n",
       "      <td>сотрудник</td>\n",
       "      <td>0</td>\n",
       "      <td>112080.014102</td>\n",
       "      <td>приобретение автомобиля</td>\n",
       "    </tr>\n",
       "    <tr>\n",
       "      <td>2</td>\n",
       "      <td>0</td>\n",
       "      <td>-5623.422610</td>\n",
       "      <td>33</td>\n",
       "      <td>Среднее</td>\n",
       "      <td>1</td>\n",
       "      <td>женат / замужем</td>\n",
       "      <td>0</td>\n",
       "      <td>M</td>\n",
       "      <td>сотрудник</td>\n",
       "      <td>0</td>\n",
       "      <td>145885.952297</td>\n",
       "      <td>покупка жилья</td>\n",
       "    </tr>\n",
       "    <tr>\n",
       "      <td>3</td>\n",
       "      <td>3</td>\n",
       "      <td>-4124.747207</td>\n",
       "      <td>32</td>\n",
       "      <td>среднее</td>\n",
       "      <td>1</td>\n",
       "      <td>женат / замужем</td>\n",
       "      <td>0</td>\n",
       "      <td>M</td>\n",
       "      <td>сотрудник</td>\n",
       "      <td>0</td>\n",
       "      <td>267628.550329</td>\n",
       "      <td>дополнительное образование</td>\n",
       "    </tr>\n",
       "    <tr>\n",
       "      <td>4</td>\n",
       "      <td>0</td>\n",
       "      <td>340266.072047</td>\n",
       "      <td>53</td>\n",
       "      <td>среднее</td>\n",
       "      <td>1</td>\n",
       "      <td>гражданский брак</td>\n",
       "      <td>1</td>\n",
       "      <td>F</td>\n",
       "      <td>пенсионер</td>\n",
       "      <td>0</td>\n",
       "      <td>158616.077870</td>\n",
       "      <td>сыграть свадьбу</td>\n",
       "    </tr>\n",
       "    <tr>\n",
       "      <td>5</td>\n",
       "      <td>0</td>\n",
       "      <td>-926.185831</td>\n",
       "      <td>27</td>\n",
       "      <td>высшее</td>\n",
       "      <td>0</td>\n",
       "      <td>гражданский брак</td>\n",
       "      <td>1</td>\n",
       "      <td>M</td>\n",
       "      <td>компаньон</td>\n",
       "      <td>0</td>\n",
       "      <td>255763.565419</td>\n",
       "      <td>покупка жилья</td>\n",
       "    </tr>\n",
       "    <tr>\n",
       "      <td>6</td>\n",
       "      <td>0</td>\n",
       "      <td>-2879.202052</td>\n",
       "      <td>43</td>\n",
       "      <td>высшее</td>\n",
       "      <td>0</td>\n",
       "      <td>женат / замужем</td>\n",
       "      <td>0</td>\n",
       "      <td>F</td>\n",
       "      <td>компаньон</td>\n",
       "      <td>0</td>\n",
       "      <td>240525.971920</td>\n",
       "      <td>операции с жильем</td>\n",
       "    </tr>\n",
       "    <tr>\n",
       "      <td>7</td>\n",
       "      <td>0</td>\n",
       "      <td>-152.779569</td>\n",
       "      <td>50</td>\n",
       "      <td>СРЕДНЕЕ</td>\n",
       "      <td>1</td>\n",
       "      <td>женат / замужем</td>\n",
       "      <td>0</td>\n",
       "      <td>M</td>\n",
       "      <td>сотрудник</td>\n",
       "      <td>0</td>\n",
       "      <td>135823.934197</td>\n",
       "      <td>образование</td>\n",
       "    </tr>\n",
       "    <tr>\n",
       "      <td>8</td>\n",
       "      <td>2</td>\n",
       "      <td>-6929.865299</td>\n",
       "      <td>35</td>\n",
       "      <td>ВЫСШЕЕ</td>\n",
       "      <td>0</td>\n",
       "      <td>гражданский брак</td>\n",
       "      <td>1</td>\n",
       "      <td>F</td>\n",
       "      <td>сотрудник</td>\n",
       "      <td>0</td>\n",
       "      <td>95856.832424</td>\n",
       "      <td>на проведение свадьбы</td>\n",
       "    </tr>\n",
       "    <tr>\n",
       "      <td>9</td>\n",
       "      <td>0</td>\n",
       "      <td>-2188.756445</td>\n",
       "      <td>41</td>\n",
       "      <td>среднее</td>\n",
       "      <td>1</td>\n",
       "      <td>женат / замужем</td>\n",
       "      <td>0</td>\n",
       "      <td>M</td>\n",
       "      <td>сотрудник</td>\n",
       "      <td>0</td>\n",
       "      <td>144425.938277</td>\n",
       "      <td>покупка жилья для семьи</td>\n",
       "    </tr>\n",
       "  </tbody>\n",
       "</table>\n",
       "</div>"
      ],
      "text/plain": [
       "   children  days_employed  dob_years education  education_id  \\\n",
       "0         1   -8437.673028         42    высшее             0   \n",
       "1         1   -4024.803754         36   среднее             1   \n",
       "2         0   -5623.422610         33   Среднее             1   \n",
       "3         3   -4124.747207         32   среднее             1   \n",
       "4         0  340266.072047         53   среднее             1   \n",
       "5         0    -926.185831         27    высшее             0   \n",
       "6         0   -2879.202052         43    высшее             0   \n",
       "7         0    -152.779569         50   СРЕДНЕЕ             1   \n",
       "8         2   -6929.865299         35    ВЫСШЕЕ             0   \n",
       "9         0   -2188.756445         41   среднее             1   \n",
       "\n",
       "      family_status  family_status_id gender income_type  debt   total_income  \\\n",
       "0   женат / замужем                 0      F   сотрудник     0  253875.639453   \n",
       "1   женат / замужем                 0      F   сотрудник     0  112080.014102   \n",
       "2   женат / замужем                 0      M   сотрудник     0  145885.952297   \n",
       "3   женат / замужем                 0      M   сотрудник     0  267628.550329   \n",
       "4  гражданский брак                 1      F   пенсионер     0  158616.077870   \n",
       "5  гражданский брак                 1      M   компаньон     0  255763.565419   \n",
       "6   женат / замужем                 0      F   компаньон     0  240525.971920   \n",
       "7   женат / замужем                 0      M   сотрудник     0  135823.934197   \n",
       "8  гражданский брак                 1      F   сотрудник     0   95856.832424   \n",
       "9   женат / замужем                 0      M   сотрудник     0  144425.938277   \n",
       "\n",
       "                      purpose  \n",
       "0               покупка жилья  \n",
       "1     приобретение автомобиля  \n",
       "2               покупка жилья  \n",
       "3  дополнительное образование  \n",
       "4             сыграть свадьбу  \n",
       "5               покупка жилья  \n",
       "6           операции с жильем  \n",
       "7                 образование  \n",
       "8       на проведение свадьбы  \n",
       "9     покупка жилья для семьи  "
      ]
     },
     "metadata": {},
     "output_type": "display_data"
    }
   ],
   "source": [
    "import pandas as pd\n",
    "try:\n",
    "    borrowers = pd.read_csv('/datasets/data.csv')\n",
    "except: \n",
    "    borrowers = pd.read_csv('data.csv')\n",
    "display(borrowers.head(5))"
   ]
  },
  {
   "cell_type": "markdown",
   "metadata": {},
   "source": [
    "Видим, что нужно обработать данные, поскольку есть столбцы с отрицательными значениями, например, days_employed. Отрицательные значения, вероятно, возникли из-за совмещения данных из нескольких источников.\n",
    "Необходимо привести чиловые данные к целочисленным."
   ]
  },
  {
   "cell_type": "code",
   "execution_count": 2,
   "metadata": {},
   "outputs": [
    {
     "name": "stdout",
     "output_type": "stream",
     "text": [
      "<class 'pandas.core.frame.DataFrame'>\n",
      "RangeIndex: 21525 entries, 0 to 21524\n",
      "Data columns (total 12 columns):\n",
      "children            21525 non-null int64\n",
      "days_employed       19351 non-null float64\n",
      "dob_years           21525 non-null int64\n",
      "education           21525 non-null object\n",
      "education_id        21525 non-null int64\n",
      "family_status       21525 non-null object\n",
      "family_status_id    21525 non-null int64\n",
      "gender              21525 non-null object\n",
      "income_type         21525 non-null object\n",
      "debt                21525 non-null int64\n",
      "total_income        19351 non-null float64\n",
      "purpose             21525 non-null object\n",
      "dtypes: float64(2), int64(5), object(5)\n",
      "memory usage: 2.0+ MB\n"
     ]
    }
   ],
   "source": [
    "borrowers.info()"
   ]
  },
  {
   "cell_type": "markdown",
   "metadata": {},
   "source": [
    "Количество значений в столбцах различается. Это говорит о том, что в данных есть пропущенные значения. Видно, что строк с данными в разделах days_employed и total_income меньше, чем в остальных столбцах. Необходимо будет заполнить пропуски.\n"
   ]
  },
  {
   "cell_type": "code",
   "execution_count": 3,
   "metadata": {},
   "outputs": [
    {
     "data": {
      "text/plain": [
       "children               0\n",
       "days_employed       2174\n",
       "dob_years              0\n",
       "education              0\n",
       "education_id           0\n",
       "family_status          0\n",
       "family_status_id       0\n",
       "gender                 0\n",
       "income_type            0\n",
       "debt                   0\n",
       "total_income        2174\n",
       "purpose                0\n",
       "dtype: int64"
      ]
     },
     "execution_count": 3,
     "metadata": {},
     "output_type": "execute_result"
    }
   ],
   "source": [
    "borrowers.isna().sum()"
   ]
  },
  {
   "cell_type": "markdown",
   "metadata": {},
   "source": [
    "Интересно посмотреть информацию по столбцам, какие категории данных в каждом столбце содержатся. Таким образом, станет очевиднее, какие данные следует очистить."
   ]
  },
  {
   "cell_type": "code",
   "execution_count": 4,
   "metadata": {},
   "outputs": [
    {
     "name": "stdout",
     "output_type": "stream",
     "text": [
      "среднее                13750\n",
      "высшее                  4718\n",
      "СРЕДНЕЕ                  772\n",
      "Среднее                  711\n",
      "неоконченное высшее      668\n",
      "ВЫСШЕЕ                   274\n",
      "Высшее                   268\n",
      "начальное                250\n",
      "Неоконченное высшее       47\n",
      "НЕОКОНЧЕННОЕ ВЫСШЕЕ       29\n",
      "НАЧАЛЬНОЕ                 17\n",
      "Начальное                 15\n",
      "ученая степень             4\n",
      "УЧЕНАЯ СТЕПЕНЬ             1\n",
      "Ученая степень             1\n",
      "Name: education, dtype: int64\n"
     ]
    }
   ],
   "source": [
    "print(borrowers['education'].value_counts())"
   ]
  },
  {
   "cell_type": "markdown",
   "metadata": {},
   "source": [
    "Видно, что нужно будет обработать наименования в столбце education, привести к нижнему регистру"
   ]
  },
  {
   "cell_type": "code",
   "execution_count": 5,
   "metadata": {},
   "outputs": [
    {
     "name": "stdout",
     "output_type": "stream",
     "text": [
      " 0     14149\n",
      " 1      4818\n",
      " 2      2055\n",
      " 3       330\n",
      " 20       76\n",
      "-1        47\n",
      " 4        41\n",
      " 5         9\n",
      "Name: children, dtype: int64\n"
     ]
    }
   ],
   "source": [
    "print(borrowers['children'].value_counts())"
   ]
  },
  {
   "cell_type": "markdown",
   "metadata": {},
   "source": [
    "В столбце children есть отрицательные значения, нужно это поправить"
   ]
  },
  {
   "cell_type": "code",
   "execution_count": 6,
   "metadata": {},
   "outputs": [
    {
     "name": "stdout",
     "output_type": "stream",
     "text": [
      "свадьба                                   797\n",
      "на проведение свадьбы                     777\n",
      "сыграть свадьбу                           774\n",
      "операции с недвижимостью                  676\n",
      "покупка коммерческой недвижимости         664\n",
      "покупка жилья для сдачи                   653\n",
      "операции с жильем                         653\n",
      "операции с коммерческой недвижимостью     651\n",
      "жилье                                     647\n",
      "покупка жилья                             647\n",
      "покупка жилья для семьи                   641\n",
      "строительство собственной недвижимости    635\n",
      "недвижимость                              634\n",
      "операции со своей недвижимостью           630\n",
      "строительство жилой недвижимости          626\n",
      "покупка недвижимости                      624\n",
      "строительство недвижимости                620\n",
      "покупка своего жилья                      620\n",
      "ремонт жилью                              612\n",
      "покупка жилой недвижимости                607\n",
      "на покупку своего автомобиля              505\n",
      "заняться высшим образованием              496\n",
      "автомобиль                                495\n",
      "сделка с подержанным автомобилем          489\n",
      "свой автомобиль                           480\n",
      "на покупку подержанного автомобиля        479\n",
      "автомобили                                478\n",
      "на покупку автомобиля                     472\n",
      "дополнительное образование                462\n",
      "приобретение автомобиля                   462\n",
      "сделка с автомобилем                      455\n",
      "высшее образование                        453\n",
      "образование                               447\n",
      "получение дополнительного образования     447\n",
      "получение образования                     443\n",
      "профильное образование                    436\n",
      "получение высшего образования             426\n",
      "заняться образованием                     412\n",
      "Name: purpose, dtype: int64\n"
     ]
    }
   ],
   "source": [
    "print(borrowers['purpose'].value_counts())"
   ]
  },
  {
   "cell_type": "markdown",
   "metadata": {},
   "source": [
    "Чтобы систематизировать данные в зависимости от целей кредита, нужно применить лемматизацию, выделив основные цели кредита\n"
   ]
  },
  {
   "cell_type": "code",
   "execution_count": 7,
   "metadata": {},
   "outputs": [
    {
     "name": "stdout",
     "output_type": "stream",
     "text": [
      "сотрудник          11119\n",
      "компаньон           5085\n",
      "пенсионер           3856\n",
      "госслужащий         1459\n",
      "предприниматель        2\n",
      "безработный            2\n",
      "в декрете              1\n",
      "студент                1\n",
      "Name: income_type, dtype: int64\n"
     ]
    }
   ],
   "source": [
    "print(borrowers['income_type'].value_counts())"
   ]
  },
  {
   "cell_type": "markdown",
   "metadata": {},
   "source": [
    "Любопытно, что двум безработным дали кредит"
   ]
  },
  {
   "cell_type": "code",
   "execution_count": 8,
   "metadata": {},
   "outputs": [
    {
     "name": "stdout",
     "output_type": "stream",
     "text": [
      "F      14236\n",
      "M       7288\n",
      "XNA        1\n",
      "Name: gender, dtype: int64\n"
     ]
    }
   ],
   "source": [
    "print(borrowers['gender'].value_counts())"
   ]
  },
  {
   "cell_type": "markdown",
   "metadata": {},
   "source": [
    "Обнаружились три типа гендера"
   ]
  },
  {
   "cell_type": "code",
   "execution_count": 9,
   "metadata": {},
   "outputs": [
    {
     "name": "stdout",
     "output_type": "stream",
     "text": [
      "женат / замужем          12380\n",
      "гражданский брак          4177\n",
      "Не женат / не замужем     2813\n",
      "в разводе                 1195\n",
      "вдовец / вдова             960\n",
      "Name: family_status, dtype: int64\n",
      "0    12380\n",
      "1     4177\n",
      "4     2813\n",
      "3     1195\n",
      "2      960\n",
      "Name: family_status_id, dtype: int64\n"
     ]
    }
   ],
   "source": [
    "print(borrowers['family_status'].value_counts())\n",
    "print(borrowers['family_status_id'].value_counts())"
   ]
  },
  {
   "cell_type": "markdown",
   "metadata": {},
   "source": [
    "Количество соотвествующих позиций по family_status_id и family_status одинаково, очищать и править данные не нужно"
   ]
  },
  {
   "cell_type": "code",
   "execution_count": 10,
   "metadata": {},
   "outputs": [
    {
     "data": {
      "text/plain": [
       "children              int64\n",
       "days_employed       float64\n",
       "dob_years             int64\n",
       "education            object\n",
       "education_id          int64\n",
       "family_status        object\n",
       "family_status_id      int64\n",
       "gender               object\n",
       "income_type          object\n",
       "debt                  int64\n",
       "total_income        float64\n",
       "purpose              object\n",
       "dtype: object"
      ]
     },
     "execution_count": 10,
     "metadata": {},
     "output_type": "execute_result"
    }
   ],
   "source": [
    "borrowers.dtypes"
   ]
  },
  {
   "cell_type": "markdown",
   "metadata": {},
   "source": [
    "Всего в таблице 12 столбцов, тип данных у столбцов int64 и float64, что не вполне удобно, следует привести их к занчениям int."
   ]
  },
  {
   "cell_type": "markdown",
   "metadata": {},
   "source": [
    "**Вывод**\n"
   ]
  },
  {
   "cell_type": "markdown",
   "metadata": {},
   "source": [
    "Мы изучаем зависимость погашения кредита в срок от семейного положения и количества детей.  Для поверки требуемых основных гипотез понадобятся данные из столбцов debt, family_status и children.\n",
    "\n",
    "Поскольку столбцы days_employed и total_income, в которых есть пропущенные данные — не ключевые по основной теме данного исследования, то пропуски в этих данных можно будет заполнить и это не повлияет на выводы.\n",
    "\n",
    "Если потребуется рассмотреть другие связи, а именно, условие своевременного погашения кредита в зависимости от трудового стажа и ежемесячного дохода, то  строки с пропущенными данными лучше будет удалить."
   ]
  },
  {
   "cell_type": "markdown",
   "metadata": {},
   "source": [
    "## Шаг 2. Предобработка данных"
   ]
  },
  {
   "cell_type": "markdown",
   "metadata": {},
   "source": [
    "### Поиск артефактов и избавление от отрицательных величин"
   ]
  },
  {
   "cell_type": "markdown",
   "metadata": {},
   "source": [
    "Данные по столбцу children до преобразований:"
   ]
  },
  {
   "cell_type": "code",
   "execution_count": 11,
   "metadata": {},
   "outputs": [
    {
     "data": {
      "text/plain": [
       " 0     14149\n",
       " 1      4818\n",
       " 2      2055\n",
       " 3       330\n",
       " 20       76\n",
       "-1        47\n",
       " 4        41\n",
       " 5         9\n",
       "Name: children, dtype: int64"
      ]
     },
     "execution_count": 11,
     "metadata": {},
     "output_type": "execute_result"
    }
   ],
   "source": [
    "borrowers['children'].value_counts()"
   ]
  },
  {
   "cell_type": "markdown",
   "metadata": {},
   "source": [
    "Видно, что попало отрицательное занчение, что повлияет на расчет, нужно избавиться от минуса."
   ]
  },
  {
   "cell_type": "markdown",
   "metadata": {},
   "source": [
    "Замечание по данным. Странно, что в данных оказался резкий скачок от 5 к 20 детям в семье, нужно разбираться с источником данных, чтобы исключить ошибки и понять причины такого скачка.\n",
    "Максимально в семьях по 20 детей, заемщиков с таки количеством детей 76, что приводит к выводу, что это не единичный артефакт. Предположим, что в значение 20 попали семьи, в которых более 5 детей."
   ]
  },
  {
   "cell_type": "code",
   "execution_count": 12,
   "metadata": {},
   "outputs": [
    {
     "name": "stdout",
     "output_type": "stream",
     "text": [
      "0     14149\n",
      "1      4865\n",
      "2      2055\n",
      "3       330\n",
      "20       76\n",
      "4        41\n",
      "5         9\n",
      "Name: children, dtype: int64\n"
     ]
    }
   ],
   "source": [
    "#Приведем значение в столбце к значению по модулю\n",
    "borrowers['children'] = borrowers['children'].abs()\n",
    "\n",
    "#Теперь разбиение по количеству детей в семье верное\n",
    "print(borrowers['children'].value_counts())"
   ]
  },
  {
   "cell_type": "markdown",
   "metadata": {},
   "source": [
    "Избавимся от минусов и в столбцах days_employed, total_income"
   ]
  },
  {
   "cell_type": "code",
   "execution_count": 13,
   "metadata": {},
   "outputs": [
    {
     "data": {
      "text/html": [
       "<div>\n",
       "<style scoped>\n",
       "    .dataframe tbody tr th:only-of-type {\n",
       "        vertical-align: middle;\n",
       "    }\n",
       "\n",
       "    .dataframe tbody tr th {\n",
       "        vertical-align: top;\n",
       "    }\n",
       "\n",
       "    .dataframe thead th {\n",
       "        text-align: right;\n",
       "    }\n",
       "</style>\n",
       "<table border=\"1\" class=\"dataframe\">\n",
       "  <thead>\n",
       "    <tr style=\"text-align: right;\">\n",
       "      <th></th>\n",
       "      <th>children</th>\n",
       "      <th>days_employed</th>\n",
       "      <th>dob_years</th>\n",
       "      <th>education</th>\n",
       "      <th>education_id</th>\n",
       "      <th>family_status</th>\n",
       "      <th>family_status_id</th>\n",
       "      <th>gender</th>\n",
       "      <th>income_type</th>\n",
       "      <th>debt</th>\n",
       "      <th>total_income</th>\n",
       "      <th>purpose</th>\n",
       "    </tr>\n",
       "  </thead>\n",
       "  <tbody>\n",
       "    <tr>\n",
       "      <td>17437</td>\n",
       "      <td>1</td>\n",
       "      <td>24.141633</td>\n",
       "      <td>31</td>\n",
       "      <td>среднее</td>\n",
       "      <td>1</td>\n",
       "      <td>женат / замужем</td>\n",
       "      <td>0</td>\n",
       "      <td>F</td>\n",
       "      <td>сотрудник</td>\n",
       "      <td>1</td>\n",
       "      <td>166952.415427</td>\n",
       "      <td>высшее образование</td>\n",
       "    </tr>\n",
       "  </tbody>\n",
       "</table>\n",
       "</div>"
      ],
      "text/plain": [
       "       children  days_employed  dob_years education  education_id  \\\n",
       "17437         1      24.141633         31   среднее             1   \n",
       "\n",
       "         family_status  family_status_id gender income_type  debt  \\\n",
       "17437  женат / замужем                 0      F   сотрудник     1   \n",
       "\n",
       "        total_income             purpose  \n",
       "17437  166952.415427  высшее образование  "
      ]
     },
     "execution_count": 13,
     "metadata": {},
     "output_type": "execute_result"
    }
   ],
   "source": [
    "borrowers['days_employed'] = borrowers['days_employed'].abs()\n",
    "borrowers['total_income'] = borrowers['total_income'].abs()\n",
    "\n",
    "# проверим новые минимальные значения days_employed после избавления от минусов\n",
    "borrowers[borrowers['days_employed'] == borrowers['days_employed'].min()]"
   ]
  },
  {
   "cell_type": "code",
   "execution_count": 14,
   "metadata": {},
   "outputs": [
    {
     "data": {
      "text/html": [
       "<div>\n",
       "<style scoped>\n",
       "    .dataframe tbody tr th:only-of-type {\n",
       "        vertical-align: middle;\n",
       "    }\n",
       "\n",
       "    .dataframe tbody tr th {\n",
       "        vertical-align: top;\n",
       "    }\n",
       "\n",
       "    .dataframe thead th {\n",
       "        text-align: right;\n",
       "    }\n",
       "</style>\n",
       "<table border=\"1\" class=\"dataframe\">\n",
       "  <thead>\n",
       "    <tr style=\"text-align: right;\">\n",
       "      <th></th>\n",
       "      <th>children</th>\n",
       "      <th>days_employed</th>\n",
       "      <th>dob_years</th>\n",
       "      <th>education</th>\n",
       "      <th>education_id</th>\n",
       "      <th>family_status</th>\n",
       "      <th>family_status_id</th>\n",
       "      <th>gender</th>\n",
       "      <th>income_type</th>\n",
       "      <th>debt</th>\n",
       "      <th>total_income</th>\n",
       "      <th>purpose</th>\n",
       "    </tr>\n",
       "  </thead>\n",
       "  <tbody>\n",
       "    <tr>\n",
       "      <td>14585</td>\n",
       "      <td>0</td>\n",
       "      <td>359219.059341</td>\n",
       "      <td>57</td>\n",
       "      <td>среднее</td>\n",
       "      <td>1</td>\n",
       "      <td>женат / замужем</td>\n",
       "      <td>0</td>\n",
       "      <td>F</td>\n",
       "      <td>пенсионер</td>\n",
       "      <td>1</td>\n",
       "      <td>20667.263793</td>\n",
       "      <td>недвижимость</td>\n",
       "    </tr>\n",
       "  </tbody>\n",
       "</table>\n",
       "</div>"
      ],
      "text/plain": [
       "       children  days_employed  dob_years education  education_id  \\\n",
       "14585         0  359219.059341         57   среднее             1   \n",
       "\n",
       "         family_status  family_status_id gender income_type  debt  \\\n",
       "14585  женат / замужем                 0      F   пенсионер     1   \n",
       "\n",
       "       total_income       purpose  \n",
       "14585  20667.263793  недвижимость  "
      ]
     },
     "execution_count": 14,
     "metadata": {},
     "output_type": "execute_result"
    }
   ],
   "source": [
    "# проверим новые минимальные значения total_income после избавления от минусов\n",
    "borrowers[borrowers['total_income'] == borrowers['total_income'].min()]"
   ]
  },
  {
   "cell_type": "markdown",
   "metadata": {},
   "source": [
    "Замечание по данным. \n",
    "Как видно, максимальный трудовой стаж составил 359219 дней, если бы человек работал 365 дней в году и начал работать сразу после рожления, то его возраст составлял бы 984 года. Надо проверять исходные данные."
   ]
  },
  {
   "cell_type": "markdown",
   "metadata": {},
   "source": [
    "**Вывод**"
   ]
  },
  {
   "cell_type": "markdown",
   "metadata": {},
   "source": [
    "Проведена замена отрицательных значений в столбцах на равные им по модулю положительные. Выявлены несколько столбцов, требующих уточнения по исходным данным (days_employed, children)"
   ]
  },
  {
   "cell_type": "markdown",
   "metadata": {},
   "source": [
    "### Обработка пропусков"
   ]
  },
  {
   "cell_type": "markdown",
   "metadata": {},
   "source": [
    "#### Заполнение пропусков раздела days_employed"
   ]
  },
  {
   "cell_type": "markdown",
   "metadata": {},
   "source": [
    "Можно предположить, что трудовой стаж в днях days_employed будет зависеть от возраста клиента dob_years, чтобы заполнить пустые строки days_employed наиболее релевантными занчениями. \n",
    "\n",
    "Заполним пропуски, применив медианные значения, как более объективные по сравнению со средними."
   ]
  },
  {
   "cell_type": "code",
   "execution_count": 15,
   "metadata": {},
   "outputs": [
    {
     "name": "stdout",
     "output_type": "stream",
     "text": [
      "Пропуски до - 2174\n",
      "Пропуски после - 0\n"
     ]
    }
   ],
   "source": [
    "print('Пропуски до -', borrowers['days_employed'].isna().sum())\n",
    "\n",
    "#заполняем пропущенные значения в days_employed медианными\n",
    "borrowers['days_employed'] = borrowers['days_employed'].fillna(borrowers.groupby('dob_years')['days_employed'].transform(lambda x: x.fillna(x.mean())))\n",
    "\n",
    "print('Пропуски после -', borrowers['days_employed'].isna().sum())"
   ]
  },
  {
   "cell_type": "code",
   "execution_count": 16,
   "metadata": {},
   "outputs": [
    {
     "data": {
      "text/html": [
       "<div>\n",
       "<style scoped>\n",
       "    .dataframe tbody tr th:only-of-type {\n",
       "        vertical-align: middle;\n",
       "    }\n",
       "\n",
       "    .dataframe tbody tr th {\n",
       "        vertical-align: top;\n",
       "    }\n",
       "\n",
       "    .dataframe thead th {\n",
       "        text-align: right;\n",
       "    }\n",
       "</style>\n",
       "<table border=\"1\" class=\"dataframe\">\n",
       "  <thead>\n",
       "    <tr style=\"text-align: right;\">\n",
       "      <th></th>\n",
       "      <th>children</th>\n",
       "      <th>days_employed</th>\n",
       "      <th>dob_years</th>\n",
       "      <th>education</th>\n",
       "      <th>education_id</th>\n",
       "      <th>family_status</th>\n",
       "      <th>family_status_id</th>\n",
       "      <th>gender</th>\n",
       "      <th>income_type</th>\n",
       "      <th>debt</th>\n",
       "      <th>total_income</th>\n",
       "      <th>purpose</th>\n",
       "    </tr>\n",
       "  </thead>\n",
       "  <tbody>\n",
       "    <tr>\n",
       "      <td>6954</td>\n",
       "      <td>0</td>\n",
       "      <td>401755.400475</td>\n",
       "      <td>56</td>\n",
       "      <td>среднее</td>\n",
       "      <td>1</td>\n",
       "      <td>вдовец / вдова</td>\n",
       "      <td>2</td>\n",
       "      <td>F</td>\n",
       "      <td>пенсионер</td>\n",
       "      <td>0</td>\n",
       "      <td>176278.441171</td>\n",
       "      <td>ремонт жилью</td>\n",
       "    </tr>\n",
       "    <tr>\n",
       "      <td>10006</td>\n",
       "      <td>0</td>\n",
       "      <td>401715.811749</td>\n",
       "      <td>69</td>\n",
       "      <td>высшее</td>\n",
       "      <td>0</td>\n",
       "      <td>Не женат / не замужем</td>\n",
       "      <td>4</td>\n",
       "      <td>F</td>\n",
       "      <td>пенсионер</td>\n",
       "      <td>0</td>\n",
       "      <td>57390.256908</td>\n",
       "      <td>получение образования</td>\n",
       "    </tr>\n",
       "    <tr>\n",
       "      <td>7664</td>\n",
       "      <td>1</td>\n",
       "      <td>401675.093434</td>\n",
       "      <td>61</td>\n",
       "      <td>среднее</td>\n",
       "      <td>1</td>\n",
       "      <td>женат / замужем</td>\n",
       "      <td>0</td>\n",
       "      <td>F</td>\n",
       "      <td>пенсионер</td>\n",
       "      <td>0</td>\n",
       "      <td>126214.519212</td>\n",
       "      <td>операции с жильем</td>\n",
       "    </tr>\n",
       "    <tr>\n",
       "      <td>2156</td>\n",
       "      <td>0</td>\n",
       "      <td>401674.466633</td>\n",
       "      <td>60</td>\n",
       "      <td>среднее</td>\n",
       "      <td>1</td>\n",
       "      <td>женат / замужем</td>\n",
       "      <td>0</td>\n",
       "      <td>M</td>\n",
       "      <td>пенсионер</td>\n",
       "      <td>0</td>\n",
       "      <td>325395.724541</td>\n",
       "      <td>автомобили</td>\n",
       "    </tr>\n",
       "    <tr>\n",
       "      <td>7794</td>\n",
       "      <td>0</td>\n",
       "      <td>401663.850046</td>\n",
       "      <td>61</td>\n",
       "      <td>среднее</td>\n",
       "      <td>1</td>\n",
       "      <td>гражданский брак</td>\n",
       "      <td>1</td>\n",
       "      <td>F</td>\n",
       "      <td>пенсионер</td>\n",
       "      <td>0</td>\n",
       "      <td>48286.441362</td>\n",
       "      <td>свадьба</td>\n",
       "    </tr>\n",
       "  </tbody>\n",
       "</table>\n",
       "</div>"
      ],
      "text/plain": [
       "       children  days_employed  dob_years education  education_id  \\\n",
       "6954          0  401755.400475         56   среднее             1   \n",
       "10006         0  401715.811749         69    высшее             0   \n",
       "7664          1  401675.093434         61   среднее             1   \n",
       "2156          0  401674.466633         60   среднее             1   \n",
       "7794          0  401663.850046         61   среднее             1   \n",
       "\n",
       "               family_status  family_status_id gender income_type  debt  \\\n",
       "6954          вдовец / вдова                 2      F   пенсионер     0   \n",
       "10006  Не женат / не замужем                 4      F   пенсионер     0   \n",
       "7664         женат / замужем                 0      F   пенсионер     0   \n",
       "2156         женат / замужем                 0      M   пенсионер     0   \n",
       "7794        гражданский брак                 1      F   пенсионер     0   \n",
       "\n",
       "        total_income                purpose  \n",
       "6954   176278.441171           ремонт жилью  \n",
       "10006   57390.256908  получение образования  \n",
       "7664   126214.519212      операции с жильем  \n",
       "2156   325395.724541             автомобили  \n",
       "7794    48286.441362                свадьба  "
      ]
     },
     "metadata": {},
     "output_type": "display_data"
    }
   ],
   "source": [
    "borrowers = borrowers.sort_values(by = 'days_employed', ascending = False)\n",
    "display(borrowers.head(5))"
   ]
  },
  {
   "cell_type": "markdown",
   "metadata": {},
   "source": [
    "**Вывод**"
   ]
  },
  {
   "cell_type": "markdown",
   "metadata": {},
   "source": [
    "Заполнены данные по пустым строкам столбца days_employed\n",
    "\n",
    "При переходе стажа между 56 и 57 годами, резко возрастает среднее значение трудового стажа в днях. Очевидна ошибка в данных, после 56 лет, данные, вероятно, предоставлены в других единицах изменрения. "
   ]
  },
  {
   "cell_type": "markdown",
   "metadata": {},
   "source": [
    "#### Заполнение пропусков раздела total_income"
   ]
  },
  {
   "cell_type": "markdown",
   "metadata": {},
   "source": [
    "Для заполнения пропусков раздела ежемесячного дохода total_income применим группировку по двум переменным (education_id, gender). "
   ]
  },
  {
   "cell_type": "code",
   "execution_count": 17,
   "metadata": {},
   "outputs": [
    {
     "name": "stdout",
     "output_type": "stream",
     "text": [
      "Пропуски до - 2174\n"
     ]
    },
    {
     "data": {
      "text/html": [
       "<div>\n",
       "<style scoped>\n",
       "    .dataframe tbody tr th:only-of-type {\n",
       "        vertical-align: middle;\n",
       "    }\n",
       "\n",
       "    .dataframe tbody tr th {\n",
       "        vertical-align: top;\n",
       "    }\n",
       "\n",
       "    .dataframe thead th {\n",
       "        text-align: right;\n",
       "    }\n",
       "</style>\n",
       "<table border=\"1\" class=\"dataframe\">\n",
       "  <thead>\n",
       "    <tr style=\"text-align: right;\">\n",
       "      <th></th>\n",
       "      <th>children</th>\n",
       "      <th>days_employed</th>\n",
       "      <th>dob_years</th>\n",
       "      <th>education</th>\n",
       "      <th>education_id</th>\n",
       "      <th>family_status</th>\n",
       "      <th>family_status_id</th>\n",
       "      <th>gender</th>\n",
       "      <th>income_type</th>\n",
       "      <th>debt</th>\n",
       "      <th>total_income</th>\n",
       "      <th>purpose</th>\n",
       "      <th>median_total_income</th>\n",
       "    </tr>\n",
       "  </thead>\n",
       "  <tbody>\n",
       "    <tr>\n",
       "      <td>0</td>\n",
       "      <td>0</td>\n",
       "      <td>401755.400475</td>\n",
       "      <td>56</td>\n",
       "      <td>среднее</td>\n",
       "      <td>1</td>\n",
       "      <td>вдовец / вдова</td>\n",
       "      <td>2</td>\n",
       "      <td>F</td>\n",
       "      <td>пенсионер</td>\n",
       "      <td>0</td>\n",
       "      <td>176278.441171</td>\n",
       "      <td>ремонт жилью</td>\n",
       "      <td>125632.935658</td>\n",
       "    </tr>\n",
       "    <tr>\n",
       "      <td>1</td>\n",
       "      <td>1</td>\n",
       "      <td>401675.093434</td>\n",
       "      <td>61</td>\n",
       "      <td>среднее</td>\n",
       "      <td>1</td>\n",
       "      <td>женат / замужем</td>\n",
       "      <td>0</td>\n",
       "      <td>F</td>\n",
       "      <td>пенсионер</td>\n",
       "      <td>0</td>\n",
       "      <td>126214.519212</td>\n",
       "      <td>операции с жильем</td>\n",
       "      <td>125632.935658</td>\n",
       "    </tr>\n",
       "    <tr>\n",
       "      <td>2</td>\n",
       "      <td>0</td>\n",
       "      <td>401663.850046</td>\n",
       "      <td>61</td>\n",
       "      <td>среднее</td>\n",
       "      <td>1</td>\n",
       "      <td>гражданский брак</td>\n",
       "      <td>1</td>\n",
       "      <td>F</td>\n",
       "      <td>пенсионер</td>\n",
       "      <td>0</td>\n",
       "      <td>48286.441362</td>\n",
       "      <td>свадьба</td>\n",
       "      <td>125632.935658</td>\n",
       "    </tr>\n",
       "  </tbody>\n",
       "</table>\n",
       "</div>"
      ],
      "text/plain": [
       "   children  days_employed  dob_years education  education_id  \\\n",
       "0         0  401755.400475         56   среднее             1   \n",
       "1         1  401675.093434         61   среднее             1   \n",
       "2         0  401663.850046         61   среднее             1   \n",
       "\n",
       "      family_status  family_status_id gender income_type  debt   total_income  \\\n",
       "0    вдовец / вдова                 2      F   пенсионер     0  176278.441171   \n",
       "1   женат / замужем                 0      F   пенсионер     0  126214.519212   \n",
       "2  гражданский брак                 1      F   пенсионер     0   48286.441362   \n",
       "\n",
       "             purpose  median_total_income  \n",
       "0       ремонт жилью        125632.935658  \n",
       "1  операции с жильем        125632.935658  \n",
       "2            свадьба        125632.935658  "
      ]
     },
     "metadata": {},
     "output_type": "display_data"
    },
    {
     "name": "stdout",
     "output_type": "stream",
     "text": [
      "Пропуски после - 0\n"
     ]
    }
   ],
   "source": [
    "print('Пропуски до -', borrowers['total_income'].isna().sum())\n",
    "\n",
    "#фрейм с группированными значениями\n",
    "medians = (borrowers.groupby(['education_id', 'gender']).agg({'total_income': 'median'}).rename(columns = {'total_income': 'median_total_income'}))\n",
    "\n",
    "#прикрепляем к исходному файлу\n",
    "borrowers = borrowers.merge(medians, on = ['education_id', 'gender'])\n",
    "display(borrowers.head(3))\n",
    "\n",
    "#заполняем пустые значения total_income на медианные median_total_income\n",
    "borrowers.loc[borrowers['total_income'].isna(), 'total_income'] = borrowers.loc[borrowers['total_income'].isna(), 'median_total_income']\n",
    "print('Пропуски после -', borrowers['total_income'].isna().sum())"
   ]
  },
  {
   "cell_type": "markdown",
   "metadata": {},
   "source": [
    "**Вывод**"
   ]
  },
  {
   "cell_type": "markdown",
   "metadata": {},
   "source": [
    "Заполнены данные по пустым строкам столбца total_income на медианные значения по двум столбцам education_id, gender"
   ]
  },
  {
   "cell_type": "markdown",
   "metadata": {},
   "source": [
    "### Замена типа данных"
   ]
  },
  {
   "cell_type": "markdown",
   "metadata": {},
   "source": [
    "Удобнее работать с целочисленными значениями, поэтому приведем тип данных в столбцах days_employed и total_income к типу int64()"
   ]
  },
  {
   "cell_type": "code",
   "execution_count": 18,
   "metadata": {},
   "outputs": [
    {
     "data": {
      "text/html": [
       "<div>\n",
       "<style scoped>\n",
       "    .dataframe tbody tr th:only-of-type {\n",
       "        vertical-align: middle;\n",
       "    }\n",
       "\n",
       "    .dataframe tbody tr th {\n",
       "        vertical-align: top;\n",
       "    }\n",
       "\n",
       "    .dataframe thead th {\n",
       "        text-align: right;\n",
       "    }\n",
       "</style>\n",
       "<table border=\"1\" class=\"dataframe\">\n",
       "  <thead>\n",
       "    <tr style=\"text-align: right;\">\n",
       "      <th></th>\n",
       "      <th>days_employed</th>\n",
       "      <th>total_income</th>\n",
       "      <th>median_total_income</th>\n",
       "    </tr>\n",
       "  </thead>\n",
       "  <tbody>\n",
       "    <tr>\n",
       "      <td>0</td>\n",
       "      <td>401755</td>\n",
       "      <td>176278</td>\n",
       "      <td>125632</td>\n",
       "    </tr>\n",
       "    <tr>\n",
       "      <td>1</td>\n",
       "      <td>401675</td>\n",
       "      <td>126214</td>\n",
       "      <td>125632</td>\n",
       "    </tr>\n",
       "    <tr>\n",
       "      <td>2</td>\n",
       "      <td>401663</td>\n",
       "      <td>48286</td>\n",
       "      <td>125632</td>\n",
       "    </tr>\n",
       "  </tbody>\n",
       "</table>\n",
       "</div>"
      ],
      "text/plain": [
       "   days_employed  total_income  median_total_income\n",
       "0         401755        176278               125632\n",
       "1         401675        126214               125632\n",
       "2         401663         48286               125632"
      ]
     },
     "execution_count": 18,
     "metadata": {},
     "output_type": "execute_result"
    }
   ],
   "source": [
    "borrowers['days_employed'] = borrowers['days_employed'].astype('int')\n",
    "borrowers['total_income'] = borrowers['total_income'].astype('int')\n",
    "borrowers['median_total_income'] = borrowers['median_total_income'].astype('int')\n",
    "borrowers[['days_employed', 'total_income', 'median_total_income']].head(3)"
   ]
  },
  {
   "cell_type": "markdown",
   "metadata": {},
   "source": [
    "**Вывод**"
   ]
  },
  {
   "cell_type": "markdown",
   "metadata": {},
   "source": [
    "Заменили тип данных в столбцах days_employed и total_income на целочисленный"
   ]
  },
  {
   "cell_type": "markdown",
   "metadata": {},
   "source": [
    "### Обработка дубликатов"
   ]
  },
  {
   "cell_type": "markdown",
   "metadata": {},
   "source": [
    "Посмотрим, какие есть уникальные наименования уровня образования клиентов"
   ]
  },
  {
   "cell_type": "code",
   "execution_count": 19,
   "metadata": {},
   "outputs": [
    {
     "name": "stdout",
     "output_type": "stream",
     "text": [
      "['среднее' 'Среднее' 'СРЕДНЕЕ' 'высшее' 'Высшее' 'ВЫСШЕЕ' 'начальное'\n",
      " 'НАЧАЛЬНОЕ' 'Начальное' 'неоконченное высшее' 'Неоконченное высшее'\n",
      " 'НЕОКОНЧЕННОЕ ВЫСШЕЕ' 'ученая степень' 'Ученая степень' 'УЧЕНАЯ СТЕПЕНЬ']\n"
     ]
    }
   ],
   "source": [
    "print(borrowers['education'].unique())"
   ]
  },
  {
   "cell_type": "markdown",
   "metadata": {},
   "source": [
    "Приведем к единообразию эти наименования. Сперва приведем слова к нижнему регистру."
   ]
  },
  {
   "cell_type": "code",
   "execution_count": 20,
   "metadata": {},
   "outputs": [
    {
     "name": "stdout",
     "output_type": "stream",
     "text": [
      "['среднее' 'высшее' 'начальное' 'неоконченное высшее' 'ученая степень']\n"
     ]
    }
   ],
   "source": [
    "borrowers['education'] = borrowers['education'].str.lower()\n",
    "print(borrowers['education'].unique())"
   ]
  },
  {
   "cell_type": "markdown",
   "metadata": {},
   "source": [
    "Теперь можно удалить дубликаты, которые могли появиться из-за разных регистров"
   ]
  },
  {
   "cell_type": "code",
   "execution_count": 21,
   "metadata": {},
   "outputs": [
    {
     "name": "stdout",
     "output_type": "stream",
     "text": [
      "Количество дубликатов - 71\n"
     ]
    }
   ],
   "source": [
    "# Сперва подсчитаем их количество\n",
    "print('Количество дубликатов -', borrowers.duplicated().sum())"
   ]
  },
  {
   "cell_type": "code",
   "execution_count": 22,
   "metadata": {},
   "outputs": [
    {
     "name": "stdout",
     "output_type": "stream",
     "text": [
      "Количество дубликатов - 0\n"
     ]
    }
   ],
   "source": [
    "# Удаляем дубликаты\n",
    "borrowers = borrowers.drop_duplicates().reset_index(drop=True)\n",
    "print('Количество дубликатов -', borrowers.duplicated().sum())"
   ]
  },
  {
   "cell_type": "markdown",
   "metadata": {},
   "source": [
    "**Вывод**"
   ]
  },
  {
   "cell_type": "markdown",
   "metadata": {},
   "source": [
    "Избавились от повторов, привели к единообразию стобец education"
   ]
  },
  {
   "cell_type": "markdown",
   "metadata": {},
   "source": [
    "### Лемматизация"
   ]
  },
  {
   "cell_type": "markdown",
   "metadata": {},
   "source": [
    "Чтобы изучить цели заемщиков, применим лемматизацию.\n",
    "Посмотрим,сколько всего уникальных целей"
   ]
  },
  {
   "cell_type": "code",
   "execution_count": 23,
   "metadata": {},
   "outputs": [
    {
     "name": "stdout",
     "output_type": "stream",
     "text": [
      "['ремонт жилью' 'операции с жильем' 'свадьба' 'покупка недвижимости'\n",
      " 'сыграть свадьбу' 'покупка жилья для сдачи'\n",
      " 'получение дополнительного образования' 'образование'\n",
      " 'покупка коммерческой недвижимости' 'приобретение автомобиля'\n",
      " 'покупка жилой недвижимости' 'строительство жилой недвижимости'\n",
      " 'дополнительное образование' 'на покупку своего автомобиля'\n",
      " 'на покупку автомобиля' 'автомобили' 'операции с недвижимостью'\n",
      " 'операции со своей недвижимостью' 'сделка с подержанным автомобилем'\n",
      " 'на покупку подержанного автомобиля' 'заняться высшим образованием'\n",
      " 'строительство собственной недвижимости' 'получение образования'\n",
      " 'покупка жилья для семьи' 'профильное образование' 'покупка своего жилья'\n",
      " 'сделка с автомобилем' 'покупка жилья' 'высшее образование'\n",
      " 'недвижимость' 'жилье' 'операции с коммерческой недвижимостью'\n",
      " 'автомобиль' 'свой автомобиль' 'строительство недвижимости'\n",
      " 'получение высшего образования' 'на проведение свадьбы'\n",
      " 'заняться образованием']\n"
     ]
    }
   ],
   "source": [
    "from pymystem3 import Mystem\n",
    "m = Mystem()\n",
    "from collections import Counter\n",
    "\n",
    "print(borrowers['purpose'].unique())"
   ]
  },
  {
   "cell_type": "markdown",
   "metadata": {},
   "source": [
    "Видно, что леммы слов повторяются. Посчитаем, сколько раз употребляются слова"
   ]
  },
  {
   "cell_type": "code",
   "execution_count": 24,
   "metadata": {
    "scrolled": true
   },
   "outputs": [
    {
     "name": "stdout",
     "output_type": "stream",
     "text": [
      "Counter({' ': 59, \"' '\": 22, \"'\\n\": 15, \" '\": 15, 'покупка': 10, 'недвижимость': 10, 'образование': 9, 'автомобиль': 9, 'жилье': 7, 'с': 5, 'операция': 4, 'на': 4, 'свой': 4, 'свадьба': 3, 'получение': 3, 'строительство': 3, 'высокий': 3, 'заниматься': 2, 'жилой': 2, 'сделка': 2, 'подержать': 2, 'коммерческий': 2, 'дополнительный': 2, 'для': 2, '\\n': 1, \"['\": 1, 'сыграть': 1, 'приобретение': 1, 'сдача': 1, 'ремонт': 1, 'семья': 1, 'проведение': 1, 'собственный': 1, 'профильный': 1, 'со': 1, \"']\\n\": 1, ' \\n': 1})\n"
     ]
    }
   ],
   "source": [
    "purposes_lemmas = \"\"\"\n",
    "['заняться образованием' 'автомобили' 'сыграть свадьбу'\n",
    " 'приобретение автомобиля' 'покупка жилой недвижимости'\n",
    " 'сделка с подержанным автомобилем' 'покупка коммерческой недвижимости'\n",
    " 'операции с коммерческой недвижимостью' 'покупка жилья'\n",
    " 'дополнительное образование' 'покупка жилья для сдачи'\n",
    " 'на покупку своего автомобиля' 'ремонт жилью' 'операции с жильем'\n",
    " 'покупка жилья для семьи' 'получение дополнительного образования'\n",
    " 'сделка с автомобилем' 'строительство недвижимости' 'жилье'\n",
    " 'на проведение свадьбы' 'недвижимость' 'автомобиль' 'свадьба'\n",
    " 'заняться высшим образованием' 'строительство жилой недвижимости'\n",
    " 'строительство собственной недвижимости' 'профильное образование'\n",
    " 'покупка недвижимости' 'операции со своей недвижимостью' 'образование'\n",
    " 'покупка своего жилья' 'свой автомобиль' 'операции с недвижимостью'\n",
    " 'высшее образование' 'на покупку автомобиля'\n",
    " 'получение высшего образования' 'на покупку подержанного автомобиля'\n",
    " 'получение образования']\n",
    " \"\"\"\n",
    "\n",
    "lemmas = m.lemmatize(purposes_lemmas)\n",
    "print(Counter(lemmas))"
   ]
  },
  {
   "cell_type": "markdown",
   "metadata": {},
   "source": [
    "Самые популярные цели кредитов: недвижимость, образование, автомобиль, свадьба.\n",
    "Напишем функцию, которая будет разделять цели на эти четыре группы. "
   ]
  },
  {
   "cell_type": "code",
   "execution_count": 25,
   "metadata": {},
   "outputs": [
    {
     "name": "stdout",
     "output_type": "stream",
     "text": [
      "                                 purpose purpose_group\n",
      "0                           ремонт жилью  недвижимость\n",
      "1                      операции с жильем  недвижимость\n",
      "2                                свадьба       свадьба\n",
      "3                   покупка недвижимости  недвижимость\n",
      "4                        сыграть свадьбу       свадьба\n",
      "5                покупка жилья для сдачи  недвижимость\n",
      "6  получение дополнительного образования   образование\n",
      "7                            образование   образование\n",
      "8      покупка коммерческой недвижимости  недвижимость\n",
      "9                приобретение автомобиля    автомобиль\n"
     ]
    }
   ],
   "source": [
    "#возвращает одну из четырех целей заема средств: недвижимость, образование, автомобиль, свадьба\n",
    "def purpose_group_loan(row):\n",
    "\n",
    "    lemm = m.lemmatize(row['purpose'])\n",
    "    if 'недвижимость' in lemm or 'жилье' in lemm or 'операция' in lemm or 'строительство' in lemm or 'жилой' in lemm:\n",
    "        return 'недвижимость'\n",
    "    elif 'автомобиль' in lemm:\n",
    "        return 'автомобиль'    \n",
    "    elif 'образование' in lemm:\n",
    "        return 'образование'\n",
    "    return 'свадьба'\n",
    "\n",
    "#распечатаем первые 10 строк для проверки  \n",
    "borrowers['purpose_group'] = borrowers.apply(purpose_group_loan, axis = 1)\n",
    "print(borrowers[['purpose', 'purpose_group']].head(10))\n"
   ]
  },
  {
   "cell_type": "code",
   "execution_count": 26,
   "metadata": {},
   "outputs": [
    {
     "name": "stdout",
     "output_type": "stream",
     "text": [
      "Количество займов по целям:\n",
      "недвижимость    10811\n",
      "автомобиль       4306\n",
      "образование      4013\n",
      "свадьба          2324\n",
      "Name: purpose_group, dtype: int64\n"
     ]
    }
   ],
   "source": [
    "#Заменим цели на группированные цели и подсчитаем их количество.\n",
    "print('Количество займов по целям:')\n",
    "print(borrowers['purpose_group'].value_counts())"
   ]
  },
  {
   "cell_type": "markdown",
   "metadata": {},
   "source": [
    "Видно, что чаще всего кредит берут на недвижимость."
   ]
  },
  {
   "cell_type": "markdown",
   "metadata": {},
   "source": [
    "**Вывод**"
   ]
  },
  {
   "cell_type": "markdown",
   "metadata": {},
   "source": [
    "Основных групп, по которым берут займы, четыре. Из них основная — это операции с недвижимостью. На покупку автомобиля и на образование берут займы примерно в 2,5 раза реже, а на свадьбы - еще реже.\n",
    "\n",
    "Лемматизация показала, что одно из ключевых слов - \"операция\", казалось бы, это медицинские цели, но подразумеваются операции с недвижимостью. Стоит избегать таких формулировок для более корректной выдачи результатов. Поскольку уникальных значений не так много по сравнению с количеством строк, процесс заполнения, вероятно, автоматизирован. Поэтому как рекомендация отделу, контролирующему этот процесс, заменить \"операции с жильем\" на \"покупку жилья\", например."
   ]
  },
  {
   "cell_type": "markdown",
   "metadata": {},
   "source": [
    "### Категоризация данных"
   ]
  },
  {
   "cell_type": "markdown",
   "metadata": {},
   "source": [
    "Создадим словарь, ставящий в соответствие family_status и family_status_id"
   ]
  },
  {
   "cell_type": "code",
   "execution_count": 27,
   "metadata": {},
   "outputs": [
    {
     "data": {
      "text/html": [
       "<div>\n",
       "<style scoped>\n",
       "    .dataframe tbody tr th:only-of-type {\n",
       "        vertical-align: middle;\n",
       "    }\n",
       "\n",
       "    .dataframe tbody tr th {\n",
       "        vertical-align: top;\n",
       "    }\n",
       "\n",
       "    .dataframe thead th {\n",
       "        text-align: right;\n",
       "    }\n",
       "</style>\n",
       "<table border=\"1\" class=\"dataframe\">\n",
       "  <thead>\n",
       "    <tr style=\"text-align: right;\">\n",
       "      <th></th>\n",
       "      <th>family_status</th>\n",
       "      <th>family_status_id</th>\n",
       "    </tr>\n",
       "  </thead>\n",
       "  <tbody>\n",
       "    <tr>\n",
       "      <td>1</td>\n",
       "      <td>женат / замужем</td>\n",
       "      <td>0</td>\n",
       "    </tr>\n",
       "    <tr>\n",
       "      <td>2</td>\n",
       "      <td>гражданский брак</td>\n",
       "      <td>1</td>\n",
       "    </tr>\n",
       "    <tr>\n",
       "      <td>0</td>\n",
       "      <td>вдовец / вдова</td>\n",
       "      <td>2</td>\n",
       "    </tr>\n",
       "    <tr>\n",
       "      <td>3</td>\n",
       "      <td>в разводе</td>\n",
       "      <td>3</td>\n",
       "    </tr>\n",
       "    <tr>\n",
       "      <td>4</td>\n",
       "      <td>Не женат / не замужем</td>\n",
       "      <td>4</td>\n",
       "    </tr>\n",
       "  </tbody>\n",
       "</table>\n",
       "</div>"
      ],
      "text/plain": [
       "           family_status  family_status_id\n",
       "1        женат / замужем                 0\n",
       "2       гражданский брак                 1\n",
       "0         вдовец / вдова                 2\n",
       "3              в разводе                 3\n",
       "4  Не женат / не замужем                 4"
      ]
     },
     "execution_count": 27,
     "metadata": {},
     "output_type": "execute_result"
    }
   ],
   "source": [
    "borrowers_family_dict = borrowers[['family_status', 'family_status_id']]\n",
    "borrowers_family_dict = borrowers_family_dict.drop_duplicates().reset_index(drop = True)\n",
    "borrowers_family_dict.sort_values('family_status_id')"
   ]
  },
  {
   "cell_type": "markdown",
   "metadata": {},
   "source": [
    "Напишем функцию, которая на вход принимает доход заемщика и\n",
    "распределяет его по группам по уровням дохода."
   ]
  },
  {
   "cell_type": "code",
   "execution_count": 28,
   "metadata": {},
   "outputs": [],
   "source": [
    "\n",
    "def income_group(total_income):\n",
    "    \"\"\"\n",
    "    Возвращает  группу доходов по значению возраста total_income, используя правила:\n",
    "    - 'первая' при значении total_income < 50 000 \n",
    "    - 'вторая' при значениии total_income более и равно 50 000 и менее и равно 100 000\n",
    "    - 'третья' более 100 000 и менее и равно 200 000\n",
    "    - 'четвертая' во всех остальных случаях\n",
    "    \"\"\"\n",
    "   \n",
    "    if total_income < 50000:\n",
    "        return 'первая'\n",
    "    if (total_income >= 50000) & (total_income <= 100000):\n",
    "        return 'вторая'\n",
    "    if (total_income > 100000) & (total_income <= 200000):\n",
    "        return 'третья'\n",
    "    return 'четвертая'\n"
   ]
  },
  {
   "cell_type": "markdown",
   "metadata": {},
   "source": [
    "Применим фунцию, создав столбец total_income_group, \n",
    "который распределяет по четырем категориям клиентов "
   ]
  },
  {
   "cell_type": "code",
   "execution_count": 29,
   "metadata": {},
   "outputs": [
    {
     "name": "stdout",
     "output_type": "stream",
     "text": [
      "третья       11756\n",
      "четвертая     5235\n",
      "вторая        4091\n",
      "первая         372\n",
      "Name: total_income_group, dtype: int64\n"
     ]
    }
   ],
   "source": [
    "borrowers['total_income_group'] = borrowers['total_income'].apply(income_group)\n",
    "print(borrowers['total_income_group'].value_counts())"
   ]
  },
  {
   "cell_type": "markdown",
   "metadata": {},
   "source": [
    "Рассмотрим категориальные очищенные данные подробнее."
   ]
  },
  {
   "cell_type": "code",
   "execution_count": 30,
   "metadata": {},
   "outputs": [
    {
     "name": "stdout",
     "output_type": "stream",
     "text": [
      "Всего заемщиков - 21454\n"
     ]
    }
   ],
   "source": [
    "total_bor = borrowers['education'].count()\n",
    "print('Всего заемщиков -', total_bor)"
   ]
  },
  {
   "cell_type": "code",
   "execution_count": 31,
   "metadata": {},
   "outputs": [
    {
     "data": {
      "text/plain": [
       "среднее                15172\n",
       "высшее                  5250\n",
       "неоконченное высшее      744\n",
       "начальное                282\n",
       "ученая степень             6\n",
       "Name: education, dtype: int64"
      ]
     },
     "execution_count": 31,
     "metadata": {},
     "output_type": "execute_result"
    }
   ],
   "source": [
    "borrowers['education'].value_counts()"
   ]
  },
  {
   "cell_type": "markdown",
   "metadata": {},
   "source": [
    "Большая часть заемщиков имеет среднее образование"
   ]
  },
  {
   "cell_type": "code",
   "execution_count": 32,
   "metadata": {},
   "outputs": [
    {
     "name": "stdout",
     "output_type": "stream",
     "text": [
      "F      14174\n",
      "M       7279\n",
      "XNA        1\n",
      "Name: gender, dtype: int64\n"
     ]
    }
   ],
   "source": [
    "print(borrowers['gender'].value_counts())"
   ]
  },
  {
   "cell_type": "markdown",
   "metadata": {},
   "source": [
    "Большая часть заемщиков - женщины"
   ]
  },
  {
   "cell_type": "code",
   "execution_count": 33,
   "metadata": {},
   "outputs": [
    {
     "name": "stdout",
     "output_type": "stream",
     "text": [
      "сотрудник          11084\n",
      "компаньон           5078\n",
      "пенсионер           3829\n",
      "госслужащий         1457\n",
      "предприниматель        2\n",
      "безработный            2\n",
      "в декрете              1\n",
      "студент                1\n",
      "Name: income_type, dtype: int64\n"
     ]
    }
   ],
   "source": [
    "print(borrowers['income_type'].value_counts())"
   ]
  },
  {
   "cell_type": "markdown",
   "metadata": {},
   "source": [
    "Чаще всего кредиты берут сотрудники компаний"
   ]
  },
  {
   "cell_type": "markdown",
   "metadata": {},
   "source": [
    "**Вывод**"
   ]
  },
  {
   "cell_type": "markdown",
   "metadata": {},
   "source": [
    "Процесс категоризации позволяет выделить в датафрейме определенный сегмент данных, разбить данные по категориям. Создав столбец total_income_group, сможем разделить клиентов на четыре категории по уровню достатка, чтобы проанализировать, какая категория имеет больше долгов.\n",
    "\n",
    "Словарь family_status family_status_id позволит обращаться не к строке, а к ее численному обозначению, что позволит исключить опечатки при обращении к столбцу family_status."
   ]
  },
  {
   "cell_type": "markdown",
   "metadata": {},
   "source": [
    "## Шаг 3. Ответьте на вопросы"
   ]
  },
  {
   "cell_type": "markdown",
   "metadata": {},
   "source": [
    "- Есть ли зависимость между наличием детей и возвратом кредита в срок?"
   ]
  },
  {
   "cell_type": "markdown",
   "metadata": {},
   "source": [
    "По заданию проекта, нам интересны следующие категории:\n",
    "    количество детей children,   \n",
    "    семейное положение family_status и family_status_id, \n",
    "    есть ли задолженность debt"
   ]
  },
  {
   "cell_type": "markdown",
   "metadata": {},
   "source": [
    "Создадим сводную таблицу"
   ]
  },
  {
   "cell_type": "code",
   "execution_count": 34,
   "metadata": {},
   "outputs": [
    {
     "data": {
      "text/html": [
       "<div>\n",
       "<style scoped>\n",
       "    .dataframe tbody tr th:only-of-type {\n",
       "        vertical-align: middle;\n",
       "    }\n",
       "\n",
       "    .dataframe tbody tr th {\n",
       "        vertical-align: top;\n",
       "    }\n",
       "\n",
       "    .dataframe thead tr th {\n",
       "        text-align: left;\n",
       "    }\n",
       "\n",
       "    .dataframe thead tr:last-of-type th {\n",
       "        text-align: right;\n",
       "    }\n",
       "</style>\n",
       "<table border=\"1\" class=\"dataframe\">\n",
       "  <thead>\n",
       "    <tr>\n",
       "      <th></th>\n",
       "      <th colspan=\"7\" halign=\"left\">debt</th>\n",
       "    </tr>\n",
       "    <tr>\n",
       "      <th>children</th>\n",
       "      <th>0</th>\n",
       "      <th>1</th>\n",
       "      <th>2</th>\n",
       "      <th>3</th>\n",
       "      <th>4</th>\n",
       "      <th>5</th>\n",
       "      <th>20</th>\n",
       "    </tr>\n",
       "    <tr>\n",
       "      <th>family_status</th>\n",
       "      <th></th>\n",
       "      <th></th>\n",
       "      <th></th>\n",
       "      <th></th>\n",
       "      <th></th>\n",
       "      <th></th>\n",
       "      <th></th>\n",
       "    </tr>\n",
       "  </thead>\n",
       "  <tbody>\n",
       "    <tr>\n",
       "      <td>Не женат / не замужем</td>\n",
       "      <td>210.0</td>\n",
       "      <td>52.0</td>\n",
       "      <td>9.0</td>\n",
       "      <td>1.0</td>\n",
       "      <td>1.0</td>\n",
       "      <td>NaN</td>\n",
       "      <td>1.0</td>\n",
       "    </tr>\n",
       "    <tr>\n",
       "      <td>в разводе</td>\n",
       "      <td>55.0</td>\n",
       "      <td>21.0</td>\n",
       "      <td>7.0</td>\n",
       "      <td>1.0</td>\n",
       "      <td>0.0</td>\n",
       "      <td>NaN</td>\n",
       "      <td>1.0</td>\n",
       "    </tr>\n",
       "    <tr>\n",
       "      <td>вдовец / вдова</td>\n",
       "      <td>53.0</td>\n",
       "      <td>7.0</td>\n",
       "      <td>3.0</td>\n",
       "      <td>0.0</td>\n",
       "      <td>0.0</td>\n",
       "      <td>NaN</td>\n",
       "      <td>0.0</td>\n",
       "    </tr>\n",
       "    <tr>\n",
       "      <td>гражданский брак</td>\n",
       "      <td>229.0</td>\n",
       "      <td>118.0</td>\n",
       "      <td>30.0</td>\n",
       "      <td>8.0</td>\n",
       "      <td>0.0</td>\n",
       "      <td>0.0</td>\n",
       "      <td>3.0</td>\n",
       "    </tr>\n",
       "    <tr>\n",
       "      <td>женат / замужем</td>\n",
       "      <td>516.0</td>\n",
       "      <td>247.0</td>\n",
       "      <td>145.0</td>\n",
       "      <td>17.0</td>\n",
       "      <td>3.0</td>\n",
       "      <td>0.0</td>\n",
       "      <td>3.0</td>\n",
       "    </tr>\n",
       "  </tbody>\n",
       "</table>\n",
       "</div>"
      ],
      "text/plain": [
       "                        debt                                   \n",
       "children                  0      1      2     3    4    5    20\n",
       "family_status                                                  \n",
       "Не женат / не замужем  210.0   52.0    9.0   1.0  1.0  NaN  1.0\n",
       "в разводе               55.0   21.0    7.0   1.0  0.0  NaN  1.0\n",
       "вдовец / вдова          53.0    7.0    3.0   0.0  0.0  NaN  0.0\n",
       "гражданский брак       229.0  118.0   30.0   8.0  0.0  0.0  3.0\n",
       "женат / замужем        516.0  247.0  145.0  17.0  3.0  0.0  3.0"
      ]
     },
     "execution_count": 34,
     "metadata": {},
     "output_type": "execute_result"
    }
   ],
   "source": [
    "borrowers_research = borrowers[['children', 'family_status','debt']]\n",
    "borrowers_pivot = borrowers_research.pivot_table(index=['family_status'], columns = 'children',  aggfunc='sum')\n",
    "borrowers_pivot.head(10)"
   ]
  },
  {
   "cell_type": "markdown",
   "metadata": {},
   "source": [
    "Таблица показывает данные в абсолютных значениях, видно, что чаще кредит просрочили женатые пары без детей. Интересно, что один водовец/вдова с 20 детьми ни разу кредит не просрочил(а). \n",
    "\n",
    "Теперь нужно понять зависимость количества должников по категориям в процентном соотношении от общего количества должников."
   ]
  },
  {
   "cell_type": "code",
   "execution_count": 35,
   "metadata": {},
   "outputs": [
    {
     "data": {
      "text/html": [
       "<style  type=\"text/css\" >\n",
       "</style><table id=\"T_64dc9270_0b45_11ec_85ef_02420a390f0b\" ><thead>    <tr>        <th class=\"blank level0\" ></th>        <th class=\"col_heading level0 col0\" colspan=7>mean</th>        <th class=\"col_heading level0 col7\" colspan=7>count</th>    </tr>    <tr>        <th class=\"blank level1\" ></th>        <th class=\"col_heading level1 col0\" colspan=7>debt</th>        <th class=\"col_heading level1 col7\" colspan=7>debt</th>    </tr>    <tr>        <th class=\"index_name level2\" >children</th>        <th class=\"col_heading level2 col0\" >0</th>        <th class=\"col_heading level2 col1\" >1</th>        <th class=\"col_heading level2 col2\" >2</th>        <th class=\"col_heading level2 col3\" >3</th>        <th class=\"col_heading level2 col4\" >4</th>        <th class=\"col_heading level2 col5\" >5</th>        <th class=\"col_heading level2 col6\" >20</th>        <th class=\"col_heading level2 col7\" >0</th>        <th class=\"col_heading level2 col8\" >1</th>        <th class=\"col_heading level2 col9\" >2</th>        <th class=\"col_heading level2 col10\" >3</th>        <th class=\"col_heading level2 col11\" >4</th>        <th class=\"col_heading level2 col12\" >5</th>        <th class=\"col_heading level2 col13\" >20</th>    </tr>    <tr>        <th class=\"index_name level0\" >family_status</th>        <th class=\"blank\" ></th>        <th class=\"blank\" ></th>        <th class=\"blank\" ></th>        <th class=\"blank\" ></th>        <th class=\"blank\" ></th>        <th class=\"blank\" ></th>        <th class=\"blank\" ></th>        <th class=\"blank\" ></th>        <th class=\"blank\" ></th>        <th class=\"blank\" ></th>        <th class=\"blank\" ></th>        <th class=\"blank\" ></th>        <th class=\"blank\" ></th>        <th class=\"blank\" ></th>    </tr></thead><tbody>\n",
       "                <tr>\n",
       "                        <th id=\"T_64dc9270_0b45_11ec_85ef_02420a390f0blevel0_row0\" class=\"row_heading level0 row0\" >Не женат / не замужем</th>\n",
       "                        <td id=\"T_64dc9270_0b45_11ec_85ef_02420a390f0brow0_col0\" class=\"data row0 col0\" >9.28%</td>\n",
       "                        <td id=\"T_64dc9270_0b45_11ec_85ef_02420a390f0brow0_col1\" class=\"data row0 col1\" >11.45%</td>\n",
       "                        <td id=\"T_64dc9270_0b45_11ec_85ef_02420a390f0brow0_col2\" class=\"data row0 col2\" >12.00%</td>\n",
       "                        <td id=\"T_64dc9270_0b45_11ec_85ef_02420a390f0brow0_col3\" class=\"data row0 col3\" >12.50%</td>\n",
       "                        <td id=\"T_64dc9270_0b45_11ec_85ef_02420a390f0brow0_col4\" class=\"data row0 col4\" >50.00%</td>\n",
       "                        <td id=\"T_64dc9270_0b45_11ec_85ef_02420a390f0brow0_col5\" class=\"data row0 col5\" >nan%</td>\n",
       "                        <td id=\"T_64dc9270_0b45_11ec_85ef_02420a390f0brow0_col6\" class=\"data row0 col6\" >11.11%</td>\n",
       "                        <td id=\"T_64dc9270_0b45_11ec_85ef_02420a390f0brow0_col7\" class=\"data row0 col7\" >2262</td>\n",
       "                        <td id=\"T_64dc9270_0b45_11ec_85ef_02420a390f0brow0_col8\" class=\"data row0 col8\" >454</td>\n",
       "                        <td id=\"T_64dc9270_0b45_11ec_85ef_02420a390f0brow0_col9\" class=\"data row0 col9\" >75</td>\n",
       "                        <td id=\"T_64dc9270_0b45_11ec_85ef_02420a390f0brow0_col10\" class=\"data row0 col10\" >8</td>\n",
       "                        <td id=\"T_64dc9270_0b45_11ec_85ef_02420a390f0brow0_col11\" class=\"data row0 col11\" >2</td>\n",
       "                        <td id=\"T_64dc9270_0b45_11ec_85ef_02420a390f0brow0_col12\" class=\"data row0 col12\" >nan</td>\n",
       "                        <td id=\"T_64dc9270_0b45_11ec_85ef_02420a390f0brow0_col13\" class=\"data row0 col13\" >9</td>\n",
       "            </tr>\n",
       "            <tr>\n",
       "                        <th id=\"T_64dc9270_0b45_11ec_85ef_02420a390f0blevel0_row1\" class=\"row_heading level0 row1\" >в разводе</th>\n",
       "                        <td id=\"T_64dc9270_0b45_11ec_85ef_02420a390f0brow1_col0\" class=\"data row1 col0\" >7.02%</td>\n",
       "                        <td id=\"T_64dc9270_0b45_11ec_85ef_02420a390f0brow1_col1\" class=\"data row1 col1\" >6.65%</td>\n",
       "                        <td id=\"T_64dc9270_0b45_11ec_85ef_02420a390f0brow1_col2\" class=\"data row1 col2\" >8.64%</td>\n",
       "                        <td id=\"T_64dc9270_0b45_11ec_85ef_02420a390f0brow1_col3\" class=\"data row1 col3\" >9.09%</td>\n",
       "                        <td id=\"T_64dc9270_0b45_11ec_85ef_02420a390f0brow1_col4\" class=\"data row1 col4\" >0.00%</td>\n",
       "                        <td id=\"T_64dc9270_0b45_11ec_85ef_02420a390f0brow1_col5\" class=\"data row1 col5\" >nan%</td>\n",
       "                        <td id=\"T_64dc9270_0b45_11ec_85ef_02420a390f0brow1_col6\" class=\"data row1 col6\" >50.00%</td>\n",
       "                        <td id=\"T_64dc9270_0b45_11ec_85ef_02420a390f0brow1_col7\" class=\"data row1 col7\" >784</td>\n",
       "                        <td id=\"T_64dc9270_0b45_11ec_85ef_02420a390f0brow1_col8\" class=\"data row1 col8\" >316</td>\n",
       "                        <td id=\"T_64dc9270_0b45_11ec_85ef_02420a390f0brow1_col9\" class=\"data row1 col9\" >81</td>\n",
       "                        <td id=\"T_64dc9270_0b45_11ec_85ef_02420a390f0brow1_col10\" class=\"data row1 col10\" >11</td>\n",
       "                        <td id=\"T_64dc9270_0b45_11ec_85ef_02420a390f0brow1_col11\" class=\"data row1 col11\" >1</td>\n",
       "                        <td id=\"T_64dc9270_0b45_11ec_85ef_02420a390f0brow1_col12\" class=\"data row1 col12\" >nan</td>\n",
       "                        <td id=\"T_64dc9270_0b45_11ec_85ef_02420a390f0brow1_col13\" class=\"data row1 col13\" >2</td>\n",
       "            </tr>\n",
       "            <tr>\n",
       "                        <th id=\"T_64dc9270_0b45_11ec_85ef_02420a390f0blevel0_row2\" class=\"row_heading level0 row2\" >вдовец / вдова</th>\n",
       "                        <td id=\"T_64dc9270_0b45_11ec_85ef_02420a390f0brow2_col0\" class=\"data row2 col0\" >6.26%</td>\n",
       "                        <td id=\"T_64dc9270_0b45_11ec_85ef_02420a390f0brow2_col1\" class=\"data row2 col1\" >8.64%</td>\n",
       "                        <td id=\"T_64dc9270_0b45_11ec_85ef_02420a390f0brow2_col2\" class=\"data row2 col2\" >15.00%</td>\n",
       "                        <td id=\"T_64dc9270_0b45_11ec_85ef_02420a390f0brow2_col3\" class=\"data row2 col3\" >0.00%</td>\n",
       "                        <td id=\"T_64dc9270_0b45_11ec_85ef_02420a390f0brow2_col4\" class=\"data row2 col4\" >0.00%</td>\n",
       "                        <td id=\"T_64dc9270_0b45_11ec_85ef_02420a390f0brow2_col5\" class=\"data row2 col5\" >nan%</td>\n",
       "                        <td id=\"T_64dc9270_0b45_11ec_85ef_02420a390f0brow2_col6\" class=\"data row2 col6\" >0.00%</td>\n",
       "                        <td id=\"T_64dc9270_0b45_11ec_85ef_02420a390f0brow2_col7\" class=\"data row2 col7\" >847</td>\n",
       "                        <td id=\"T_64dc9270_0b45_11ec_85ef_02420a390f0brow2_col8\" class=\"data row2 col8\" >81</td>\n",
       "                        <td id=\"T_64dc9270_0b45_11ec_85ef_02420a390f0brow2_col9\" class=\"data row2 col9\" >20</td>\n",
       "                        <td id=\"T_64dc9270_0b45_11ec_85ef_02420a390f0brow2_col10\" class=\"data row2 col10\" >6</td>\n",
       "                        <td id=\"T_64dc9270_0b45_11ec_85ef_02420a390f0brow2_col11\" class=\"data row2 col11\" >1</td>\n",
       "                        <td id=\"T_64dc9270_0b45_11ec_85ef_02420a390f0brow2_col12\" class=\"data row2 col12\" >nan</td>\n",
       "                        <td id=\"T_64dc9270_0b45_11ec_85ef_02420a390f0brow2_col13\" class=\"data row2 col13\" >4</td>\n",
       "            </tr>\n",
       "            <tr>\n",
       "                        <th id=\"T_64dc9270_0b45_11ec_85ef_02420a390f0blevel0_row3\" class=\"row_heading level0 row3\" >гражданский брак</th>\n",
       "                        <td id=\"T_64dc9270_0b45_11ec_85ef_02420a390f0brow3_col0\" class=\"data row3 col0\" >8.39%</td>\n",
       "                        <td id=\"T_64dc9270_0b45_11ec_85ef_02420a390f0brow3_col1\" class=\"data row3 col1\" >11.80%</td>\n",
       "                        <td id=\"T_64dc9270_0b45_11ec_85ef_02420a390f0brow3_col2\" class=\"data row3 col2\" >8.75%</td>\n",
       "                        <td id=\"T_64dc9270_0b45_11ec_85ef_02420a390f0brow3_col3\" class=\"data row3 col3\" >14.29%</td>\n",
       "                        <td id=\"T_64dc9270_0b45_11ec_85ef_02420a390f0brow3_col4\" class=\"data row3 col4\" >0.00%</td>\n",
       "                        <td id=\"T_64dc9270_0b45_11ec_85ef_02420a390f0brow3_col5\" class=\"data row3 col5\" >0.00%</td>\n",
       "                        <td id=\"T_64dc9270_0b45_11ec_85ef_02420a390f0brow3_col6\" class=\"data row3 col6\" >25.00%</td>\n",
       "                        <td id=\"T_64dc9270_0b45_11ec_85ef_02420a390f0brow3_col7\" class=\"data row3 col7\" >2730</td>\n",
       "                        <td id=\"T_64dc9270_0b45_11ec_85ef_02420a390f0brow3_col8\" class=\"data row3 col8\" >1000</td>\n",
       "                        <td id=\"T_64dc9270_0b45_11ec_85ef_02420a390f0brow3_col9\" class=\"data row3 col9\" >343</td>\n",
       "                        <td id=\"T_64dc9270_0b45_11ec_85ef_02420a390f0brow3_col10\" class=\"data row3 col10\" >56</td>\n",
       "                        <td id=\"T_64dc9270_0b45_11ec_85ef_02420a390f0brow3_col11\" class=\"data row3 col11\" >8</td>\n",
       "                        <td id=\"T_64dc9270_0b45_11ec_85ef_02420a390f0brow3_col12\" class=\"data row3 col12\" >2</td>\n",
       "                        <td id=\"T_64dc9270_0b45_11ec_85ef_02420a390f0brow3_col13\" class=\"data row3 col13\" >12</td>\n",
       "            </tr>\n",
       "            <tr>\n",
       "                        <th id=\"T_64dc9270_0b45_11ec_85ef_02420a390f0blevel0_row4\" class=\"row_heading level0 row4\" >женат / замужем</th>\n",
       "                        <td id=\"T_64dc9270_0b45_11ec_85ef_02420a390f0brow4_col0\" class=\"data row4 col0\" >6.91%</td>\n",
       "                        <td id=\"T_64dc9270_0b45_11ec_85ef_02420a390f0brow4_col1\" class=\"data row4 col1\" >8.22%</td>\n",
       "                        <td id=\"T_64dc9270_0b45_11ec_85ef_02420a390f0brow4_col2\" class=\"data row4 col2\" >9.46%</td>\n",
       "                        <td id=\"T_64dc9270_0b45_11ec_85ef_02420a390f0brow4_col3\" class=\"data row4 col3\" >6.83%</td>\n",
       "                        <td id=\"T_64dc9270_0b45_11ec_85ef_02420a390f0brow4_col4\" class=\"data row4 col4\" >10.34%</td>\n",
       "                        <td id=\"T_64dc9270_0b45_11ec_85ef_02420a390f0brow4_col5\" class=\"data row4 col5\" >0.00%</td>\n",
       "                        <td id=\"T_64dc9270_0b45_11ec_85ef_02420a390f0brow4_col6\" class=\"data row4 col6\" >6.12%</td>\n",
       "                        <td id=\"T_64dc9270_0b45_11ec_85ef_02420a390f0brow4_col7\" class=\"data row4 col7\" >7468</td>\n",
       "                        <td id=\"T_64dc9270_0b45_11ec_85ef_02420a390f0brow4_col8\" class=\"data row4 col8\" >3004</td>\n",
       "                        <td id=\"T_64dc9270_0b45_11ec_85ef_02420a390f0brow4_col9\" class=\"data row4 col9\" >1533</td>\n",
       "                        <td id=\"T_64dc9270_0b45_11ec_85ef_02420a390f0brow4_col10\" class=\"data row4 col10\" >249</td>\n",
       "                        <td id=\"T_64dc9270_0b45_11ec_85ef_02420a390f0brow4_col11\" class=\"data row4 col11\" >29</td>\n",
       "                        <td id=\"T_64dc9270_0b45_11ec_85ef_02420a390f0brow4_col12\" class=\"data row4 col12\" >7</td>\n",
       "                        <td id=\"T_64dc9270_0b45_11ec_85ef_02420a390f0brow4_col13\" class=\"data row4 col13\" >49</td>\n",
       "            </tr>\n",
       "    </tbody></table>"
      ],
      "text/plain": [
       "<pandas.io.formats.style.Styler at 0x7fbcd339a9d0>"
      ]
     },
     "execution_count": 35,
     "metadata": {},
     "output_type": "execute_result"
    }
   ],
   "source": [
    "borrowers_research = borrowers[['children', 'family_status','debt']]\n",
    "borrowers_pivot = borrowers_research.pivot_table(index=['family_status'], columns = 'children',  aggfunc=['mean', 'count'])\n",
    "borrowers_pivot.style.format({('mean','debt', 0):'{:.2%}',('mean','debt', 1):'{:.2%}',('mean','debt',2):'{:.2%}', ('mean','debt',3):'{:.2%}',('mean','debt',4):'{:.2%}', ('mean','debt',5):'{:.2%}', ('mean','debt',20):'{:.2%}'})"
   ]
  },
  {
   "cell_type": "code",
   "execution_count": 36,
   "metadata": {},
   "outputs": [
    {
     "data": {
      "text/html": [
       "<style  type=\"text/css\" >\n",
       "</style><table id=\"T_64e1ecc0_0b45_11ec_85ef_02420a390f0b\" ><thead>    <tr>        <th class=\"blank level0\" ></th>        <th class=\"col_heading level0 col0\" >% должников</th>        <th class=\"col_heading level0 col1\" >Количество заемщиков</th>    </tr>    <tr>        <th class=\"index_name level0\" >children</th>        <th class=\"blank\" ></th>        <th class=\"blank\" ></th>    </tr></thead><tbody>\n",
       "                <tr>\n",
       "                        <th id=\"T_64e1ecc0_0b45_11ec_85ef_02420a390f0blevel0_row0\" class=\"row_heading level0 row0\" >20</th>\n",
       "                        <td id=\"T_64e1ecc0_0b45_11ec_85ef_02420a390f0brow0_col0\" class=\"data row0 col0\" >10.53%</td>\n",
       "                        <td id=\"T_64e1ecc0_0b45_11ec_85ef_02420a390f0brow0_col1\" class=\"data row0 col1\" >76</td>\n",
       "            </tr>\n",
       "            <tr>\n",
       "                        <th id=\"T_64e1ecc0_0b45_11ec_85ef_02420a390f0blevel0_row1\" class=\"row_heading level0 row1\" >4</th>\n",
       "                        <td id=\"T_64e1ecc0_0b45_11ec_85ef_02420a390f0brow1_col0\" class=\"data row1 col0\" >9.76%</td>\n",
       "                        <td id=\"T_64e1ecc0_0b45_11ec_85ef_02420a390f0brow1_col1\" class=\"data row1 col1\" >41</td>\n",
       "            </tr>\n",
       "            <tr>\n",
       "                        <th id=\"T_64e1ecc0_0b45_11ec_85ef_02420a390f0blevel0_row2\" class=\"row_heading level0 row2\" >2</th>\n",
       "                        <td id=\"T_64e1ecc0_0b45_11ec_85ef_02420a390f0brow2_col0\" class=\"data row2 col0\" >9.45%</td>\n",
       "                        <td id=\"T_64e1ecc0_0b45_11ec_85ef_02420a390f0brow2_col1\" class=\"data row2 col1\" >2052</td>\n",
       "            </tr>\n",
       "            <tr>\n",
       "                        <th id=\"T_64e1ecc0_0b45_11ec_85ef_02420a390f0blevel0_row3\" class=\"row_heading level0 row3\" >1</th>\n",
       "                        <td id=\"T_64e1ecc0_0b45_11ec_85ef_02420a390f0brow3_col0\" class=\"data row3 col0\" >9.17%</td>\n",
       "                        <td id=\"T_64e1ecc0_0b45_11ec_85ef_02420a390f0brow3_col1\" class=\"data row3 col1\" >4855</td>\n",
       "            </tr>\n",
       "            <tr>\n",
       "                        <th id=\"T_64e1ecc0_0b45_11ec_85ef_02420a390f0blevel0_row4\" class=\"row_heading level0 row4\" >3</th>\n",
       "                        <td id=\"T_64e1ecc0_0b45_11ec_85ef_02420a390f0brow4_col0\" class=\"data row4 col0\" >8.18%</td>\n",
       "                        <td id=\"T_64e1ecc0_0b45_11ec_85ef_02420a390f0brow4_col1\" class=\"data row4 col1\" >330</td>\n",
       "            </tr>\n",
       "            <tr>\n",
       "                        <th id=\"T_64e1ecc0_0b45_11ec_85ef_02420a390f0blevel0_row5\" class=\"row_heading level0 row5\" >0</th>\n",
       "                        <td id=\"T_64e1ecc0_0b45_11ec_85ef_02420a390f0brow5_col0\" class=\"data row5 col0\" >7.54%</td>\n",
       "                        <td id=\"T_64e1ecc0_0b45_11ec_85ef_02420a390f0brow5_col1\" class=\"data row5 col1\" >14091</td>\n",
       "            </tr>\n",
       "            <tr>\n",
       "                        <th id=\"T_64e1ecc0_0b45_11ec_85ef_02420a390f0blevel0_row6\" class=\"row_heading level0 row6\" >5</th>\n",
       "                        <td id=\"T_64e1ecc0_0b45_11ec_85ef_02420a390f0brow6_col0\" class=\"data row6 col0\" >0.00%</td>\n",
       "                        <td id=\"T_64e1ecc0_0b45_11ec_85ef_02420a390f0brow6_col1\" class=\"data row6 col1\" >9</td>\n",
       "            </tr>\n",
       "    </tbody></table>"
      ],
      "text/plain": [
       "<pandas.io.formats.style.Styler at 0x7fbd349cfe10>"
      ]
     },
     "execution_count": 36,
     "metadata": {},
     "output_type": "execute_result"
    }
   ],
   "source": [
    "#чтобы понять, какой процент семей с детьми имеет долг,\n",
    "#поделим значения, получившиеcя в разделе debt на \n",
    "#количество семей с определенным количеством детей\n",
    "borrowers_report_ch = borrowers.groupby('children').agg({'debt': ['mean', 'count']})\n",
    "borrowers_report_ch.columns = ['% должников', 'Количество заемщиков']\n",
    "borrowers_report_ch = borrowers_report_ch.sort_values(by = '% должников', ascending = False)\n",
    "borrowers_report_ch.style.format({'% должников' : '{:.2%}'})"
   ]
  },
  {
   "cell_type": "markdown",
   "metadata": {},
   "source": [
    "**Вывод**"
   ]
  },
  {
   "cell_type": "markdown",
   "metadata": {},
   "source": [
    "Наибольший процент должников — с 20 детьми. Здесь стоит проверить исходные данные на предмет ошибки, поскольку нет промежуточных данных между 5 детьми и 20, велика вероятность ошибки."
   ]
  },
  {
   "cell_type": "code",
   "execution_count": 37,
   "metadata": {},
   "outputs": [
    {
     "data": {
      "text/html": [
       "<style  type=\"text/css\" >\n",
       "</style><table id=\"T_64e7a336_0b45_11ec_85ef_02420a390f0b\" ><thead>    <tr>        <th class=\"blank level0\" ></th>        <th class=\"col_heading level0 col0\" >% должников</th>        <th class=\"col_heading level0 col1\" >Количество заемщиков</th>    </tr>    <tr>        <th class=\"index_name level0\" >family_status</th>        <th class=\"blank\" ></th>        <th class=\"blank\" ></th>    </tr></thead><tbody>\n",
       "                <tr>\n",
       "                        <th id=\"T_64e7a336_0b45_11ec_85ef_02420a390f0blevel0_row0\" class=\"row_heading level0 row0\" >Не женат / не замужем</th>\n",
       "                        <td id=\"T_64e7a336_0b45_11ec_85ef_02420a390f0brow0_col0\" class=\"data row0 col0\" >9.75%</td>\n",
       "                        <td id=\"T_64e7a336_0b45_11ec_85ef_02420a390f0brow0_col1\" class=\"data row0 col1\" >2810</td>\n",
       "            </tr>\n",
       "            <tr>\n",
       "                        <th id=\"T_64e7a336_0b45_11ec_85ef_02420a390f0blevel0_row1\" class=\"row_heading level0 row1\" >гражданский брак</th>\n",
       "                        <td id=\"T_64e7a336_0b45_11ec_85ef_02420a390f0brow1_col0\" class=\"data row1 col0\" >9.35%</td>\n",
       "                        <td id=\"T_64e7a336_0b45_11ec_85ef_02420a390f0brow1_col1\" class=\"data row1 col1\" >4151</td>\n",
       "            </tr>\n",
       "            <tr>\n",
       "                        <th id=\"T_64e7a336_0b45_11ec_85ef_02420a390f0blevel0_row2\" class=\"row_heading level0 row2\" >женат / замужем</th>\n",
       "                        <td id=\"T_64e7a336_0b45_11ec_85ef_02420a390f0brow2_col0\" class=\"data row2 col0\" >7.55%</td>\n",
       "                        <td id=\"T_64e7a336_0b45_11ec_85ef_02420a390f0brow2_col1\" class=\"data row2 col1\" >12339</td>\n",
       "            </tr>\n",
       "            <tr>\n",
       "                        <th id=\"T_64e7a336_0b45_11ec_85ef_02420a390f0blevel0_row3\" class=\"row_heading level0 row3\" >в разводе</th>\n",
       "                        <td id=\"T_64e7a336_0b45_11ec_85ef_02420a390f0brow3_col0\" class=\"data row3 col0\" >7.11%</td>\n",
       "                        <td id=\"T_64e7a336_0b45_11ec_85ef_02420a390f0brow3_col1\" class=\"data row3 col1\" >1195</td>\n",
       "            </tr>\n",
       "            <tr>\n",
       "                        <th id=\"T_64e7a336_0b45_11ec_85ef_02420a390f0blevel0_row4\" class=\"row_heading level0 row4\" >вдовец / вдова</th>\n",
       "                        <td id=\"T_64e7a336_0b45_11ec_85ef_02420a390f0brow4_col0\" class=\"data row4 col0\" >6.57%</td>\n",
       "                        <td id=\"T_64e7a336_0b45_11ec_85ef_02420a390f0brow4_col1\" class=\"data row4 col1\" >959</td>\n",
       "            </tr>\n",
       "    </tbody></table>"
      ],
      "text/plain": [
       "<pandas.io.formats.style.Styler at 0x7fbd1ca3d750>"
      ]
     },
     "execution_count": 37,
     "metadata": {},
     "output_type": "execute_result"
    }
   ],
   "source": [
    "#подсчитаем количество должников по каждому значению статуса\n",
    "borrowers_report_st = borrowers.groupby('family_status').agg({'debt': ['mean', 'count']})\n",
    "borrowers_report_st.columns = ['% должников', 'Количество заемщиков']\n",
    "borrowers_report_st = borrowers_report_st.sort_values(by = '% должников', ascending = False)\n",
    "borrowers_report_st.style.format({'% должников' : '{:.2%}'})"
   ]
  },
  {
   "cell_type": "markdown",
   "metadata": {},
   "source": [
    "**Вывод**"
   ]
  },
  {
   "cell_type": "markdown",
   "metadata": {},
   "source": [
    "Неженатые и незамужние чаще всего имеют долг по кредиту. "
   ]
  },
  {
   "cell_type": "markdown",
   "metadata": {},
   "source": [
    "- Есть ли зависимость между уровнем дохода и возвратом кредита в срок?"
   ]
  },
  {
   "cell_type": "markdown",
   "metadata": {},
   "source": [
    "Применим фунцию, создав столбец total_income_group, который распределяет по четырем категориям клиентов согласно их уровню дохода"
   ]
  },
  {
   "cell_type": "code",
   "execution_count": 38,
   "metadata": {},
   "outputs": [
    {
     "data": {
      "text/html": [
       "<style  type=\"text/css\" >\n",
       "</style><table id=\"T_64eac9ee_0b45_11ec_85ef_02420a390f0b\" ><thead>    <tr>        <th class=\"blank level0\" ></th>        <th class=\"col_heading level0 col0\" >% должников</th>        <th class=\"col_heading level0 col1\" >Количество заемщиков</th>    </tr>    <tr>        <th class=\"index_name level0\" >total_income_group</th>        <th class=\"blank\" ></th>        <th class=\"blank\" ></th>    </tr></thead><tbody>\n",
       "                <tr>\n",
       "                        <th id=\"T_64eac9ee_0b45_11ec_85ef_02420a390f0blevel0_row0\" class=\"row_heading level0 row0\" >третья</th>\n",
       "                        <td id=\"T_64eac9ee_0b45_11ec_85ef_02420a390f0brow0_col0\" class=\"data row0 col0\" >8.68%</td>\n",
       "                        <td id=\"T_64eac9ee_0b45_11ec_85ef_02420a390f0brow0_col1\" class=\"data row0 col1\" >11756</td>\n",
       "            </tr>\n",
       "            <tr>\n",
       "                        <th id=\"T_64eac9ee_0b45_11ec_85ef_02420a390f0blevel0_row1\" class=\"row_heading level0 row1\" >вторая</th>\n",
       "                        <td id=\"T_64eac9ee_0b45_11ec_85ef_02420a390f0brow1_col0\" class=\"data row1 col0\" >8.09%</td>\n",
       "                        <td id=\"T_64eac9ee_0b45_11ec_85ef_02420a390f0brow1_col1\" class=\"data row1 col1\" >4091</td>\n",
       "            </tr>\n",
       "            <tr>\n",
       "                        <th id=\"T_64eac9ee_0b45_11ec_85ef_02420a390f0blevel0_row2\" class=\"row_heading level0 row2\" >четвертая</th>\n",
       "                        <td id=\"T_64eac9ee_0b45_11ec_85ef_02420a390f0brow2_col0\" class=\"data row2 col0\" >6.99%</td>\n",
       "                        <td id=\"T_64eac9ee_0b45_11ec_85ef_02420a390f0brow2_col1\" class=\"data row2 col1\" >5235</td>\n",
       "            </tr>\n",
       "            <tr>\n",
       "                        <th id=\"T_64eac9ee_0b45_11ec_85ef_02420a390f0blevel0_row3\" class=\"row_heading level0 row3\" >первая</th>\n",
       "                        <td id=\"T_64eac9ee_0b45_11ec_85ef_02420a390f0brow3_col0\" class=\"data row3 col0\" >6.18%</td>\n",
       "                        <td id=\"T_64eac9ee_0b45_11ec_85ef_02420a390f0brow3_col1\" class=\"data row3 col1\" >372</td>\n",
       "            </tr>\n",
       "    </tbody></table>"
      ],
      "text/plain": [
       "<pandas.io.formats.style.Styler at 0x7fbd1ca3d150>"
      ]
     },
     "execution_count": 38,
     "metadata": {},
     "output_type": "execute_result"
    }
   ],
   "source": [
    "#подсчитаем количество должников в зависимости от уровня дохода\n",
    "borrowers_report_inc = borrowers.groupby('total_income_group').agg({'debt': ['mean', 'count']})\n",
    "borrowers_report_inc.columns = ['% должников', 'Количество заемщиков']\n",
    "borrowers_report_inc = borrowers_report_inc.sort_values(by = '% должников', ascending = False)\n",
    "borrowers_report_inc.style.format({'% должников' : '{:.2%}'})"
   ]
  },
  {
   "cell_type": "markdown",
   "metadata": {},
   "source": [
    "**Вывод**"
   ]
  },
  {
   "cell_type": "markdown",
   "metadata": {},
   "source": [
    "Люди с наименьшим уровнем достатка оказались самыми благонадежными заемщиками, опередив самых состоятельных. Наименее благонадежные клиенты располагают уровнем дохода от 100 000 до 200 000"
   ]
  },
  {
   "cell_type": "markdown",
   "metadata": {},
   "source": [
    "- Как разные цели кредита влияют на его возврат в срок?"
   ]
  },
  {
   "cell_type": "code",
   "execution_count": 39,
   "metadata": {},
   "outputs": [
    {
     "data": {
      "text/html": [
       "<style  type=\"text/css\" >\n",
       "</style><table id=\"T_64ee9ef2_0b45_11ec_85ef_02420a390f0b\" ><thead>    <tr>        <th class=\"blank\" ></th>        <th class=\"blank level0\" ></th>        <th class=\"col_heading level0 col0\" colspan=2>debt</th>    </tr>    <tr>        <th class=\"blank\" ></th>        <th class=\"blank level1\" ></th>        <th class=\"col_heading level1 col0\" >mean</th>        <th class=\"col_heading level1 col1\" >count</th>    </tr>    <tr>        <th class=\"index_name level0\" >purpose_group</th>        <th class=\"index_name level1\" >gender</th>        <th class=\"blank\" ></th>        <th class=\"blank\" ></th>    </tr></thead><tbody>\n",
       "                <tr>\n",
       "                        <th id=\"T_64ee9ef2_0b45_11ec_85ef_02420a390f0blevel0_row0\" class=\"row_heading level0 row0\" >образование</th>\n",
       "                        <th id=\"T_64ee9ef2_0b45_11ec_85ef_02420a390f0blevel1_row0\" class=\"row_heading level1 row0\" >M</th>\n",
       "                        <td id=\"T_64ee9ef2_0b45_11ec_85ef_02420a390f0brow0_col0\" class=\"data row0 col0\" >12.11%</td>\n",
       "                        <td id=\"T_64ee9ef2_0b45_11ec_85ef_02420a390f0brow0_col1\" class=\"data row0 col1\" >1346</td>\n",
       "            </tr>\n",
       "            <tr>\n",
       "                        <th id=\"T_64ee9ef2_0b45_11ec_85ef_02420a390f0blevel0_row1\" class=\"row_heading level0 row1\" >автомобиль</th>\n",
       "                        <th id=\"T_64ee9ef2_0b45_11ec_85ef_02420a390f0blevel1_row1\" class=\"row_heading level1 row1\" >M</th>\n",
       "                        <td id=\"T_64ee9ef2_0b45_11ec_85ef_02420a390f0brow1_col0\" class=\"data row1 col0\" >11.62%</td>\n",
       "                        <td id=\"T_64ee9ef2_0b45_11ec_85ef_02420a390f0brow1_col1\" class=\"data row1 col1\" >1446</td>\n",
       "            </tr>\n",
       "            <tr>\n",
       "                        <th id=\"T_64ee9ef2_0b45_11ec_85ef_02420a390f0blevel0_row2\" class=\"row_heading level0 row2\" >свадьба</th>\n",
       "                        <th id=\"T_64ee9ef2_0b45_11ec_85ef_02420a390f0blevel1_row2\" class=\"row_heading level1 row2\" >M</th>\n",
       "                        <td id=\"T_64ee9ef2_0b45_11ec_85ef_02420a390f0brow2_col0\" class=\"data row2 col0\" >10.24%</td>\n",
       "                        <td id=\"T_64ee9ef2_0b45_11ec_85ef_02420a390f0brow2_col1\" class=\"data row2 col1\" >762</td>\n",
       "            </tr>\n",
       "            <tr>\n",
       "                        <th id=\"T_64ee9ef2_0b45_11ec_85ef_02420a390f0blevel0_row3\" class=\"row_heading level0 row3\" >недвижимость</th>\n",
       "                        <th id=\"T_64ee9ef2_0b45_11ec_85ef_02420a390f0blevel1_row3\" class=\"row_heading level1 row3\" >M</th>\n",
       "                        <td id=\"T_64ee9ef2_0b45_11ec_85ef_02420a390f0brow3_col0\" class=\"data row3 col0\" >9.07%</td>\n",
       "                        <td id=\"T_64ee9ef2_0b45_11ec_85ef_02420a390f0brow3_col1\" class=\"data row3 col1\" >3725</td>\n",
       "            </tr>\n",
       "            <tr>\n",
       "                        <th id=\"T_64ee9ef2_0b45_11ec_85ef_02420a390f0blevel0_row4\" class=\"row_heading level0 row4\" >автомобиль</th>\n",
       "                        <th id=\"T_64ee9ef2_0b45_11ec_85ef_02420a390f0blevel1_row4\" class=\"row_heading level1 row4\" >F</th>\n",
       "                        <td id=\"T_64ee9ef2_0b45_11ec_85ef_02420a390f0brow4_col0\" class=\"data row4 col0\" >8.22%</td>\n",
       "                        <td id=\"T_64ee9ef2_0b45_11ec_85ef_02420a390f0brow4_col1\" class=\"data row4 col1\" >2860</td>\n",
       "            </tr>\n",
       "            <tr>\n",
       "                        <th id=\"T_64ee9ef2_0b45_11ec_85ef_02420a390f0blevel0_row5\" class=\"row_heading level0 row5\" >образование</th>\n",
       "                        <th id=\"T_64ee9ef2_0b45_11ec_85ef_02420a390f0blevel1_row5\" class=\"row_heading level1 row5\" >F</th>\n",
       "                        <td id=\"T_64ee9ef2_0b45_11ec_85ef_02420a390f0brow5_col0\" class=\"data row5 col0\" >7.76%</td>\n",
       "                        <td id=\"T_64ee9ef2_0b45_11ec_85ef_02420a390f0brow5_col1\" class=\"data row5 col1\" >2667</td>\n",
       "            </tr>\n",
       "            <tr>\n",
       "                        <th id=\"T_64ee9ef2_0b45_11ec_85ef_02420a390f0blevel0_row6\" class=\"row_heading level0 row6\" >свадьба</th>\n",
       "                        <th id=\"T_64ee9ef2_0b45_11ec_85ef_02420a390f0blevel1_row6\" class=\"row_heading level1 row6\" >F</th>\n",
       "                        <td id=\"T_64ee9ef2_0b45_11ec_85ef_02420a390f0brow6_col0\" class=\"data row6 col0\" >6.91%</td>\n",
       "                        <td id=\"T_64ee9ef2_0b45_11ec_85ef_02420a390f0brow6_col1\" class=\"data row6 col1\" >1562</td>\n",
       "            </tr>\n",
       "            <tr>\n",
       "                        <th id=\"T_64ee9ef2_0b45_11ec_85ef_02420a390f0blevel0_row7\" class=\"row_heading level0 row7\" rowspan=2>недвижимость</th>\n",
       "                        <th id=\"T_64ee9ef2_0b45_11ec_85ef_02420a390f0blevel1_row7\" class=\"row_heading level1 row7\" >F</th>\n",
       "                        <td id=\"T_64ee9ef2_0b45_11ec_85ef_02420a390f0brow7_col0\" class=\"data row7 col0\" >6.27%</td>\n",
       "                        <td id=\"T_64ee9ef2_0b45_11ec_85ef_02420a390f0brow7_col1\" class=\"data row7 col1\" >7085</td>\n",
       "            </tr>\n",
       "            <tr>\n",
       "                                <th id=\"T_64ee9ef2_0b45_11ec_85ef_02420a390f0blevel1_row8\" class=\"row_heading level1 row8\" >XNA</th>\n",
       "                        <td id=\"T_64ee9ef2_0b45_11ec_85ef_02420a390f0brow8_col0\" class=\"data row8 col0\" >0.00%</td>\n",
       "                        <td id=\"T_64ee9ef2_0b45_11ec_85ef_02420a390f0brow8_col1\" class=\"data row8 col1\" >1</td>\n",
       "            </tr>\n",
       "    </tbody></table>"
      ],
      "text/plain": [
       "<pandas.io.formats.style.Styler at 0x7fbd17bf7ad0>"
      ]
     },
     "execution_count": 39,
     "metadata": {},
     "output_type": "execute_result"
    }
   ],
   "source": [
    "#подсчитаем количество должников в зависимости от пола и цели кредита\n",
    "borrowers_group_purp_ge = borrowers.groupby(['purpose_group', 'gender']).agg({'debt':['mean', 'count']})\n",
    "borrowers_group_purp_ge = borrowers_group_purp_ge.sort_values(by = ('debt',  'mean'), ascending = False)\n",
    "borrowers_group_purp_ge.style.format({('debt',  'mean'):'{:.2%}'})"
   ]
  },
  {
   "cell_type": "markdown",
   "metadata": {},
   "source": [
    "**Вывод**"
   ]
  },
  {
   "cell_type": "markdown",
   "metadata": {},
   "source": [
    "Оказалось, что наибольший процент должников среди мужчин, кто брал кредит на образование или автомобиль. Меньше всего должников, кто брал кредиты на недвижимость. Наиболее добропорядочными плательщиками оказались женщины,которые брали кредит на недвижимость."
   ]
  },
  {
   "cell_type": "markdown",
   "metadata": {},
   "source": [
    "## Шаг 4. Общий вывод"
   ]
  },
  {
   "cell_type": "markdown",
   "metadata": {},
   "source": [
    "Проведено исследование, влияет ли семейное положение и количество детей клиента на факт погашения кредита в срок.\n",
    "\n",
    "Данные, предоставленные для анализа были обработаны, среди них выявлены требующие дополнительного уточнения (days_employed, children). Проведена очистка данных, заполнены пропущенные значения, удалены дубликаты, данные категоризированы.\n",
    "\n",
    "По результатам анализа, существует 4 основные цели, на которые берут займы. Из них основная — это операции с недвижимостью. На покупку автомобиля и на образование берут займы примерно в 2,5 раза реже, а на свадьбы - еще реже. Большая часть заемщиков — женщины, большая часть имеет среднее образование и являются сотрудниками компаний. \n",
    "\n",
    "Люди с наименьшим уровнем достатка оказались самыми благонадежными заемщиками, опередив самых состоятельных. Наименее благонадежные клиенты располагают уровнем дохода от 100 000 до 200 000. \n",
    "\n",
    "Наибольший процент должников среди мужчин, кто брал кредит на образование или автомобиль, около 12%. Меньше задолжали те, кто брал кредиты на недвижимость, и среди женщин почти на 3% меньше должников, чем среди мужчин (6,27% и 9,07%). \n",
    "\n",
    "По теме исследования: \n",
    "Люди без детей имеют меньший процент задолженностей, чем люди с детьми. Неженатые на 2% чаще имеют долг по кредиту, чем женатые."
   ]
  }
 ],
 "metadata": {
  "ExecuteTimeLog": [
   {
    "duration": 871,
    "start_time": "2021-09-01T16:43:44.227Z"
   },
   {
    "duration": 20,
    "start_time": "2021-09-01T16:43:45.101Z"
   },
   {
    "duration": 12,
    "start_time": "2021-09-01T16:43:45.124Z"
   },
   {
    "duration": 8,
    "start_time": "2021-09-01T16:43:45.140Z"
   },
   {
    "duration": 7,
    "start_time": "2021-09-01T16:43:45.151Z"
   },
   {
    "duration": 8,
    "start_time": "2021-09-01T16:43:45.161Z"
   },
   {
    "duration": 50,
    "start_time": "2021-09-01T16:43:45.172Z"
   },
   {
    "duration": 10,
    "start_time": "2021-09-01T16:43:45.226Z"
   },
   {
    "duration": 11,
    "start_time": "2021-09-01T16:43:45.239Z"
   },
   {
    "duration": 6,
    "start_time": "2021-09-01T16:43:45.252Z"
   },
   {
    "duration": 9,
    "start_time": "2021-09-01T16:43:45.261Z"
   },
   {
    "duration": 8,
    "start_time": "2021-09-01T16:43:45.317Z"
   },
   {
    "duration": 19,
    "start_time": "2021-09-01T16:43:45.328Z"
   },
   {
    "duration": 18,
    "start_time": "2021-09-01T16:43:45.349Z"
   },
   {
    "duration": 102,
    "start_time": "2021-09-01T16:43:45.369Z"
   },
   {
    "duration": 61,
    "start_time": "2021-09-01T16:43:45.473Z"
   },
   {
    "duration": 51,
    "start_time": "2021-09-01T16:43:45.537Z"
   },
   {
    "duration": 36,
    "start_time": "2021-09-01T16:43:45.591Z"
   },
   {
    "duration": 5,
    "start_time": "2021-09-01T16:43:45.629Z"
   },
   {
    "duration": 20,
    "start_time": "2021-09-01T16:43:45.636Z"
   },
   {
    "duration": 24,
    "start_time": "2021-09-01T16:43:45.658Z"
   },
   {
    "duration": 42,
    "start_time": "2021-09-01T16:43:45.716Z"
   },
   {
    "duration": 15,
    "start_time": "2021-09-01T16:43:45.763Z"
   },
   {
    "duration": 931,
    "start_time": "2021-09-01T16:43:45.781Z"
   },
   {
    "duration": 4702,
    "start_time": "2021-09-01T16:43:46.717Z"
   },
   {
    "duration": 8,
    "start_time": "2021-09-01T16:43:51.422Z"
   },
   {
    "duration": 18,
    "start_time": "2021-09-01T16:43:51.433Z"
   },
   {
    "duration": 6,
    "start_time": "2021-09-01T16:43:51.454Z"
   },
   {
    "duration": 59,
    "start_time": "2021-09-01T16:43:51.463Z"
   },
   {
    "duration": 7,
    "start_time": "2021-09-01T16:43:51.524Z"
   },
   {
    "duration": 14,
    "start_time": "2021-09-01T16:43:51.533Z"
   },
   {
    "duration": 9,
    "start_time": "2021-09-01T16:43:51.549Z"
   },
   {
    "duration": 10,
    "start_time": "2021-09-01T16:43:51.561Z"
   },
   {
    "duration": 82,
    "start_time": "2021-09-01T16:43:51.573Z"
   },
   {
    "duration": 908,
    "start_time": "2021-09-01T16:43:51.657Z"
   },
   {
    "duration": 20,
    "start_time": "2021-09-01T16:43:52.568Z"
   },
   {
    "duration": 34,
    "start_time": "2021-09-01T16:43:52.591Z"
   },
   {
    "duration": 15,
    "start_time": "2021-09-01T16:43:52.628Z"
   },
   {
    "duration": 24,
    "start_time": "2021-09-01T16:43:52.646Z"
   },
   {
    "duration": 876,
    "start_time": "2021-09-01T16:51:48.178Z"
   },
   {
    "duration": 15,
    "start_time": "2021-09-01T16:51:49.056Z"
   },
   {
    "duration": 12,
    "start_time": "2021-09-01T16:51:49.074Z"
   },
   {
    "duration": 31,
    "start_time": "2021-09-01T16:51:49.088Z"
   },
   {
    "duration": 17,
    "start_time": "2021-09-01T16:51:49.122Z"
   },
   {
    "duration": 10,
    "start_time": "2021-09-01T16:51:49.142Z"
   },
   {
    "duration": 12,
    "start_time": "2021-09-01T16:51:49.154Z"
   },
   {
    "duration": 9,
    "start_time": "2021-09-01T16:51:49.170Z"
   },
   {
    "duration": 41,
    "start_time": "2021-09-01T16:51:49.181Z"
   },
   {
    "duration": 10,
    "start_time": "2021-09-01T16:51:49.224Z"
   },
   {
    "duration": 9,
    "start_time": "2021-09-01T16:51:49.236Z"
   },
   {
    "duration": 7,
    "start_time": "2021-09-01T16:51:49.248Z"
   },
   {
    "duration": 20,
    "start_time": "2021-09-01T16:51:49.257Z"
   },
   {
    "duration": 18,
    "start_time": "2021-09-01T16:51:49.317Z"
   },
   {
    "duration": 89,
    "start_time": "2021-09-01T16:51:49.337Z"
   },
   {
    "duration": 40,
    "start_time": "2021-09-01T16:51:49.428Z"
   },
   {
    "duration": 71,
    "start_time": "2021-09-01T16:51:49.470Z"
   },
   {
    "duration": 17,
    "start_time": "2021-09-01T16:51:49.543Z"
   },
   {
    "duration": 6,
    "start_time": "2021-09-01T16:51:49.562Z"
   },
   {
    "duration": 52,
    "start_time": "2021-09-01T16:51:49.570Z"
   },
   {
    "duration": 25,
    "start_time": "2021-09-01T16:51:49.625Z"
   },
   {
    "duration": 70,
    "start_time": "2021-09-01T16:51:49.653Z"
   },
   {
    "duration": 15,
    "start_time": "2021-09-01T16:51:49.729Z"
   },
   {
    "duration": 1024,
    "start_time": "2021-09-01T16:51:49.748Z"
   },
   {
    "duration": 4961,
    "start_time": "2021-09-01T16:51:50.776Z"
   },
   {
    "duration": 9,
    "start_time": "2021-09-01T16:51:55.739Z"
   },
   {
    "duration": 23,
    "start_time": "2021-09-01T16:51:55.751Z"
   },
   {
    "duration": 5,
    "start_time": "2021-09-01T16:51:55.776Z"
   },
   {
    "duration": 48,
    "start_time": "2021-09-01T16:51:55.783Z"
   },
   {
    "duration": 6,
    "start_time": "2021-09-01T16:51:55.833Z"
   },
   {
    "duration": 15,
    "start_time": "2021-09-01T16:51:55.841Z"
   },
   {
    "duration": 11,
    "start_time": "2021-09-01T16:51:55.859Z"
   },
   {
    "duration": 9,
    "start_time": "2021-09-01T16:51:55.872Z"
   },
   {
    "duration": 43,
    "start_time": "2021-09-01T16:51:55.917Z"
   },
   {
    "duration": 925,
    "start_time": "2021-09-01T16:51:55.962Z"
   },
   {
    "duration": 31,
    "start_time": "2021-09-01T16:51:56.890Z"
   },
   {
    "duration": 18,
    "start_time": "2021-09-01T16:51:56.923Z"
   },
   {
    "duration": 17,
    "start_time": "2021-09-01T16:51:56.943Z"
   },
   {
    "duration": 55,
    "start_time": "2021-09-01T16:51:56.962Z"
   },
   {
    "duration": 28,
    "start_time": "2021-09-01T16:52:55.291Z"
   },
   {
    "duration": 8195,
    "start_time": "2021-09-01T16:53:15.474Z"
   },
   {
    "duration": 876,
    "start_time": "2021-09-01T16:54:08.700Z"
   },
   {
    "duration": 16,
    "start_time": "2021-09-01T16:54:09.581Z"
   },
   {
    "duration": 23,
    "start_time": "2021-09-01T16:54:09.617Z"
   },
   {
    "duration": 12,
    "start_time": "2021-09-01T16:54:09.644Z"
   },
   {
    "duration": 12,
    "start_time": "2021-09-01T16:54:09.658Z"
   },
   {
    "duration": 44,
    "start_time": "2021-09-01T16:54:09.673Z"
   },
   {
    "duration": 12,
    "start_time": "2021-09-01T16:54:09.721Z"
   },
   {
    "duration": 8,
    "start_time": "2021-09-01T16:54:09.739Z"
   },
   {
    "duration": 16,
    "start_time": "2021-09-01T16:54:09.751Z"
   },
   {
    "duration": 49,
    "start_time": "2021-09-01T16:54:09.770Z"
   },
   {
    "duration": 8,
    "start_time": "2021-09-01T16:54:09.822Z"
   },
   {
    "duration": 7,
    "start_time": "2021-09-01T16:54:09.833Z"
   },
   {
    "duration": 19,
    "start_time": "2021-09-01T16:54:09.842Z"
   },
   {
    "duration": 61,
    "start_time": "2021-09-01T16:54:09.864Z"
   },
   {
    "duration": 90,
    "start_time": "2021-09-01T16:54:09.927Z"
   },
   {
    "duration": 38,
    "start_time": "2021-09-01T16:54:10.020Z"
   },
   {
    "duration": 94,
    "start_time": "2021-09-01T16:54:10.062Z"
   },
   {
    "duration": 18,
    "start_time": "2021-09-01T16:54:10.159Z"
   },
   {
    "duration": 36,
    "start_time": "2021-09-01T16:54:10.180Z"
   },
   {
    "duration": 21,
    "start_time": "2021-09-01T16:54:10.219Z"
   },
   {
    "duration": 30,
    "start_time": "2021-09-01T16:54:10.242Z"
   },
   {
    "duration": 77,
    "start_time": "2021-09-01T16:54:10.275Z"
   },
   {
    "duration": 15,
    "start_time": "2021-09-01T16:54:10.357Z"
   },
   {
    "duration": 1019,
    "start_time": "2021-09-01T16:54:10.375Z"
   },
   {
    "duration": 5119,
    "start_time": "2021-09-01T16:54:11.397Z"
   },
   {
    "duration": 9,
    "start_time": "2021-09-01T16:54:16.518Z"
   },
   {
    "duration": 19,
    "start_time": "2021-09-01T16:54:16.529Z"
   },
   {
    "duration": 5,
    "start_time": "2021-09-01T16:54:16.550Z"
   },
   {
    "duration": 67,
    "start_time": "2021-09-01T16:54:16.557Z"
   },
   {
    "duration": 7,
    "start_time": "2021-09-01T16:54:16.626Z"
   },
   {
    "duration": 13,
    "start_time": "2021-09-01T16:54:16.635Z"
   },
   {
    "duration": 21,
    "start_time": "2021-09-01T16:54:16.651Z"
   },
   {
    "duration": 44,
    "start_time": "2021-09-01T16:54:16.674Z"
   },
   {
    "duration": 45,
    "start_time": "2021-09-01T16:54:16.720Z"
   },
   {
    "duration": 956,
    "start_time": "2021-09-01T16:54:16.767Z"
   },
   {
    "duration": 21,
    "start_time": "2021-09-01T16:54:17.726Z"
   },
   {
    "duration": 19,
    "start_time": "2021-09-01T16:54:17.749Z"
   },
   {
    "duration": 54,
    "start_time": "2021-09-01T16:54:17.770Z"
   },
   {
    "duration": 25,
    "start_time": "2021-09-01T16:54:17.826Z"
   },
   {
    "duration": 866,
    "start_time": "2021-09-01T16:55:12.857Z"
   },
   {
    "duration": 15,
    "start_time": "2021-09-01T16:55:13.725Z"
   },
   {
    "duration": 14,
    "start_time": "2021-09-01T16:55:13.744Z"
   },
   {
    "duration": 9,
    "start_time": "2021-09-01T16:55:13.761Z"
   },
   {
    "duration": 48,
    "start_time": "2021-09-01T16:55:13.773Z"
   },
   {
    "duration": 12,
    "start_time": "2021-09-01T16:55:13.824Z"
   },
   {
    "duration": 12,
    "start_time": "2021-09-01T16:55:13.838Z"
   },
   {
    "duration": 8,
    "start_time": "2021-09-01T16:55:13.855Z"
   },
   {
    "duration": 60,
    "start_time": "2021-09-01T16:55:13.867Z"
   },
   {
    "duration": 8,
    "start_time": "2021-09-01T16:55:13.930Z"
   },
   {
    "duration": 10,
    "start_time": "2021-09-01T16:55:13.941Z"
   },
   {
    "duration": 10,
    "start_time": "2021-09-01T16:55:13.954Z"
   },
   {
    "duration": 20,
    "start_time": "2021-09-01T16:55:14.015Z"
   },
   {
    "duration": 17,
    "start_time": "2021-09-01T16:55:14.038Z"
   },
   {
    "duration": 93,
    "start_time": "2021-09-01T16:55:14.057Z"
   },
   {
    "duration": 27,
    "start_time": "2021-09-01T16:55:14.152Z"
   },
   {
    "duration": 83,
    "start_time": "2021-09-01T16:55:14.181Z"
   },
   {
    "duration": 16,
    "start_time": "2021-09-01T16:55:14.267Z"
   },
   {
    "duration": 30,
    "start_time": "2021-09-01T16:55:14.286Z"
   },
   {
    "duration": 22,
    "start_time": "2021-09-01T16:55:14.318Z"
   },
   {
    "duration": 28,
    "start_time": "2021-09-01T16:55:14.342Z"
   },
   {
    "duration": 76,
    "start_time": "2021-09-01T16:55:14.373Z"
   },
   {
    "duration": 16,
    "start_time": "2021-09-01T16:55:14.454Z"
   },
   {
    "duration": 928,
    "start_time": "2021-09-01T16:55:14.473Z"
   },
   {
    "duration": 4850,
    "start_time": "2021-09-01T16:55:15.404Z"
   },
   {
    "duration": 10,
    "start_time": "2021-09-01T16:55:20.257Z"
   },
   {
    "duration": 21,
    "start_time": "2021-09-01T16:55:20.270Z"
   },
   {
    "duration": 6,
    "start_time": "2021-09-01T16:55:20.316Z"
   },
   {
    "duration": 29,
    "start_time": "2021-09-01T16:55:20.325Z"
   },
   {
    "duration": 7,
    "start_time": "2021-09-01T16:55:20.358Z"
   },
   {
    "duration": 15,
    "start_time": "2021-09-01T16:55:20.368Z"
   },
   {
    "duration": 12,
    "start_time": "2021-09-01T16:55:20.416Z"
   },
   {
    "duration": 11,
    "start_time": "2021-09-01T16:55:20.430Z"
   },
   {
    "duration": 77,
    "start_time": "2021-09-01T16:55:20.444Z"
   },
   {
    "duration": 939,
    "start_time": "2021-09-01T16:55:20.524Z"
   },
   {
    "duration": 21,
    "start_time": "2021-09-01T16:55:21.466Z"
   },
   {
    "duration": 34,
    "start_time": "2021-09-01T16:55:21.490Z"
   },
   {
    "duration": 17,
    "start_time": "2021-09-01T16:55:21.527Z"
   },
   {
    "duration": 24,
    "start_time": "2021-09-01T16:55:21.547Z"
   }
  ],
  "kernelspec": {
   "display_name": "Python 3",
   "language": "python",
   "name": "python3"
  },
  "language_info": {
   "codemirror_mode": {
    "name": "ipython",
    "version": 3
   },
   "file_extension": ".py",
   "mimetype": "text/x-python",
   "name": "python",
   "nbconvert_exporter": "python",
   "pygments_lexer": "ipython3",
   "version": "3.7.8"
  },
  "toc": {
   "base_numbering": 1,
   "nav_menu": {},
   "number_sections": true,
   "sideBar": true,
   "skip_h1_title": true,
   "title_cell": "Table of Contents",
   "title_sidebar": "Contents",
   "toc_cell": false,
   "toc_position": {},
   "toc_section_display": true,
   "toc_window_display": false
  }
 },
 "nbformat": 4,
 "nbformat_minor": 2
}

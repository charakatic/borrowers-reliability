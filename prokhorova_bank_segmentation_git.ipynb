{
 "cells": [
  {
   "cell_type": "markdown",
   "id": "4eb45af5",
   "metadata": {},
   "source": [
    "# Сегментация пользователей по потреблению в банке\n",
    "\n",
    "Описание проекта\n",
    "\n",
    "Требуется проанализировать данные о клиентах регионального банка и сегментировать пользователей, чтобы сформулировать рекомендации по удержанию клиентов и стимулированию к покупке продуктов банка.\n",
    "\n",
    "Заказчик — менеджер продукта банка. \n",
    "\n",
    "Цель исследования — сегментировать пользователей, определить, какие факторы влияют на количество используемых продуктов, факт оттока. \n",
    "\n",
    "**Презентация:**\n",
    "\n",
    "https://drive.google.com/file/d/1wYKWLcj2bQ-3UfivpdpnSez8sR3ECcFT/view?usp=sharing\n",
    "\n",
    "**Дашборд:**\n",
    "\n",
    "Дашборд отображает распределение заработной платы клиентов.\n",
    "Цветом показан процент клиентов, имеющих кредитную карту.\n",
    "Фильтр дашборда позволяет сделать выборку по ушедшим и оставшимся клиентам.\n",
    "\n",
    "https://public.tableau.com/views/Segmentationofbankusers/Dashboard1?:language=en-US&publish=yes&:display_count=n&:origin=viz_share_link"
   ]
  },
  {
   "cell_type": "markdown",
   "id": "a5b476cd",
   "metadata": {},
   "source": [
    "## Загрузка и предобработка данных"
   ]
  },
  {
   "cell_type": "code",
   "execution_count": 1,
   "id": "d2791589",
   "metadata": {},
   "outputs": [],
   "source": [
    "#Загрузим библиотеки, которые понадобятся\n",
    "import pandas as pd\n",
    "import numpy as np\n",
    "import math as mth\n",
    "import matplotlib.pyplot as plt \n",
    "import matplotlib as mpl \n",
    "import plotly.express as px\n",
    "from plotly import graph_objects as go\n",
    "import seaborn as sns \n",
    "from numpy import median\n",
    "from scipy import stats as st\n",
    "\n",
    "\n",
    "from sklearn.linear_model import LogisticRegression\n",
    "from sklearn.preprocessing import StandardScaler\n",
    "from sklearn.model_selection import train_test_split\n",
    "from sklearn.ensemble import RandomForestClassifier, GradientBoostingClassifier\n",
    "from sklearn.metrics import accuracy_score, precision_score, recall_score, f1_score\n",
    "from sklearn.tree import DecisionTreeClassifier\n",
    "\n",
    "\n",
    "import warnings\n",
    "warnings.filterwarnings('ignore')"
   ]
  },
  {
   "cell_type": "code",
   "execution_count": 2,
   "id": "67d24d1d",
   "metadata": {},
   "outputs": [],
   "source": [
    "# Настройки для графиков\n",
    "sns.set(font_scale=1.3)\n",
    "sns.set_style('whitegrid',\n",
    "              {'figure.facecolor': '0.95',\n",
    "               'figure.facecolor': 'white',\n",
    "               'font.family': ['Liberation Serif']})\n",
    "\n",
    "plt.rcParams[\"font.family\"] = \"Liberation Serif\", \"Garamond\", \"serif\""
   ]
  },
  {
   "cell_type": "code",
   "execution_count": 3,
   "id": "8fab498a",
   "metadata": {},
   "outputs": [
    {
     "data": {
      "text/html": [
       "<div>\n",
       "<style scoped>\n",
       "    .dataframe tbody tr th:only-of-type {\n",
       "        vertical-align: middle;\n",
       "    }\n",
       "\n",
       "    .dataframe tbody tr th {\n",
       "        vertical-align: top;\n",
       "    }\n",
       "\n",
       "    .dataframe thead th {\n",
       "        text-align: right;\n",
       "    }\n",
       "</style>\n",
       "<table border=\"1\" class=\"dataframe\">\n",
       "  <thead>\n",
       "    <tr style=\"text-align: right;\">\n",
       "      <th></th>\n",
       "      <th>userid</th>\n",
       "      <th>score</th>\n",
       "      <th>City</th>\n",
       "      <th>Gender</th>\n",
       "      <th>Age</th>\n",
       "      <th>Objects</th>\n",
       "      <th>Balance</th>\n",
       "      <th>Products</th>\n",
       "      <th>CreditCard</th>\n",
       "      <th>Loyalty</th>\n",
       "      <th>estimated_salary</th>\n",
       "      <th>Churn</th>\n",
       "    </tr>\n",
       "  </thead>\n",
       "  <tbody>\n",
       "    <tr>\n",
       "      <td>0</td>\n",
       "      <td>15677338</td>\n",
       "      <td>619</td>\n",
       "      <td>Ярославль</td>\n",
       "      <td>Ж</td>\n",
       "      <td>42</td>\n",
       "      <td>2</td>\n",
       "      <td>NaN</td>\n",
       "      <td>1</td>\n",
       "      <td>1</td>\n",
       "      <td>1</td>\n",
       "      <td>101348.88</td>\n",
       "      <td>1</td>\n",
       "    </tr>\n",
       "    <tr>\n",
       "      <td>1</td>\n",
       "      <td>15690047</td>\n",
       "      <td>608</td>\n",
       "      <td>Рыбинск</td>\n",
       "      <td>Ж</td>\n",
       "      <td>41</td>\n",
       "      <td>1</td>\n",
       "      <td>83807.86</td>\n",
       "      <td>1</td>\n",
       "      <td>0</td>\n",
       "      <td>1</td>\n",
       "      <td>112542.58</td>\n",
       "      <td>0</td>\n",
       "    </tr>\n",
       "    <tr>\n",
       "      <td>2</td>\n",
       "      <td>15662040</td>\n",
       "      <td>502</td>\n",
       "      <td>Ярославль</td>\n",
       "      <td>Ж</td>\n",
       "      <td>42</td>\n",
       "      <td>8</td>\n",
       "      <td>159660.80</td>\n",
       "      <td>3</td>\n",
       "      <td>1</td>\n",
       "      <td>0</td>\n",
       "      <td>113931.57</td>\n",
       "      <td>1</td>\n",
       "    </tr>\n",
       "    <tr>\n",
       "      <td>3</td>\n",
       "      <td>15744090</td>\n",
       "      <td>699</td>\n",
       "      <td>Ярославль</td>\n",
       "      <td>Ж</td>\n",
       "      <td>39</td>\n",
       "      <td>1</td>\n",
       "      <td>NaN</td>\n",
       "      <td>2</td>\n",
       "      <td>0</td>\n",
       "      <td>0</td>\n",
       "      <td>93826.63</td>\n",
       "      <td>0</td>\n",
       "    </tr>\n",
       "    <tr>\n",
       "      <td>4</td>\n",
       "      <td>15780624</td>\n",
       "      <td>850</td>\n",
       "      <td>Рыбинск</td>\n",
       "      <td>Ж</td>\n",
       "      <td>43</td>\n",
       "      <td>2</td>\n",
       "      <td>125510.82</td>\n",
       "      <td>1</td>\n",
       "      <td>1</td>\n",
       "      <td>1</td>\n",
       "      <td>79084.10</td>\n",
       "      <td>0</td>\n",
       "    </tr>\n",
       "    <tr>\n",
       "      <td>5</td>\n",
       "      <td>15616748</td>\n",
       "      <td>645</td>\n",
       "      <td>Рыбинск</td>\n",
       "      <td>М</td>\n",
       "      <td>44</td>\n",
       "      <td>8</td>\n",
       "      <td>113755.78</td>\n",
       "      <td>2</td>\n",
       "      <td>1</td>\n",
       "      <td>0</td>\n",
       "      <td>149756.71</td>\n",
       "      <td>1</td>\n",
       "    </tr>\n",
       "    <tr>\n",
       "      <td>6</td>\n",
       "      <td>15635267</td>\n",
       "      <td>822</td>\n",
       "      <td>Ярославль</td>\n",
       "      <td>М</td>\n",
       "      <td>50</td>\n",
       "      <td>7</td>\n",
       "      <td>NaN</td>\n",
       "      <td>2</td>\n",
       "      <td>1</td>\n",
       "      <td>1</td>\n",
       "      <td>10062.80</td>\n",
       "      <td>0</td>\n",
       "    </tr>\n",
       "    <tr>\n",
       "      <td>7</td>\n",
       "      <td>15698884</td>\n",
       "      <td>376</td>\n",
       "      <td>Ростов Великий</td>\n",
       "      <td>Ж</td>\n",
       "      <td>29</td>\n",
       "      <td>4</td>\n",
       "      <td>115046.74</td>\n",
       "      <td>4</td>\n",
       "      <td>1</td>\n",
       "      <td>0</td>\n",
       "      <td>119346.88</td>\n",
       "      <td>1</td>\n",
       "    </tr>\n",
       "    <tr>\n",
       "      <td>8</td>\n",
       "      <td>15835101</td>\n",
       "      <td>501</td>\n",
       "      <td>Ярославль</td>\n",
       "      <td>М</td>\n",
       "      <td>44</td>\n",
       "      <td>4</td>\n",
       "      <td>142051.07</td>\n",
       "      <td>2</td>\n",
       "      <td>0</td>\n",
       "      <td>1</td>\n",
       "      <td>74940.50</td>\n",
       "      <td>0</td>\n",
       "    </tr>\n",
       "    <tr>\n",
       "      <td>9</td>\n",
       "      <td>15635125</td>\n",
       "      <td>684</td>\n",
       "      <td>Ярославль</td>\n",
       "      <td>М</td>\n",
       "      <td>27</td>\n",
       "      <td>2</td>\n",
       "      <td>134603.88</td>\n",
       "      <td>1</td>\n",
       "      <td>1</td>\n",
       "      <td>1</td>\n",
       "      <td>71725.73</td>\n",
       "      <td>0</td>\n",
       "    </tr>\n",
       "  </tbody>\n",
       "</table>\n",
       "</div>"
      ],
      "text/plain": [
       "     userid  score            City Gender  Age  Objects    Balance  Products  \\\n",
       "0  15677338    619       Ярославль      Ж   42        2        NaN         1   \n",
       "1  15690047    608         Рыбинск      Ж   41        1   83807.86         1   \n",
       "2  15662040    502       Ярославль      Ж   42        8  159660.80         3   \n",
       "3  15744090    699       Ярославль      Ж   39        1        NaN         2   \n",
       "4  15780624    850         Рыбинск      Ж   43        2  125510.82         1   \n",
       "5  15616748    645         Рыбинск      М   44        8  113755.78         2   \n",
       "6  15635267    822       Ярославль      М   50        7        NaN         2   \n",
       "7  15698884    376  Ростов Великий      Ж   29        4  115046.74         4   \n",
       "8  15835101    501       Ярославль      М   44        4  142051.07         2   \n",
       "9  15635125    684       Ярославль      М   27        2  134603.88         1   \n",
       "\n",
       "   CreditCard  Loyalty  estimated_salary  Churn  \n",
       "0           1        1         101348.88      1  \n",
       "1           0        1         112542.58      0  \n",
       "2           1        0         113931.57      1  \n",
       "3           0        0          93826.63      0  \n",
       "4           1        1          79084.10      0  \n",
       "5           1        0         149756.71      1  \n",
       "6           1        1          10062.80      0  \n",
       "7           1        0         119346.88      1  \n",
       "8           0        1          74940.50      0  \n",
       "9           1        1          71725.73      0  "
      ]
     },
     "execution_count": 3,
     "metadata": {},
     "output_type": "execute_result"
    }
   ],
   "source": [
    "# Прочитаем файл bank_dataset и сохраним его\n",
    "try:\n",
    "    bank_dataset = pd.read_csv('/datasets/bank_dataset.csv', sep=',')\n",
    "except:\n",
    "    bank_dataset = pd.read_csv('bank_dataset.csv', sep=',')\n",
    "bank_dataset.head(10)"
   ]
  },
  {
   "cell_type": "markdown",
   "id": "026ad2c2",
   "metadata": {},
   "source": [
    "Колонки:\n",
    "\n",
    "- `userid` — идентификатор пользователя,\n",
    "- `score` — баллы кредитного скоринга,\n",
    "- `City` — город,\n",
    "- `Gender` — пол,\n",
    "- `Age` — возраст,\n",
    "- `Objects` — количество объектов в собственности,\n",
    "- `Balance` — баланс на счёте,\n",
    "- `Products` — количество продуктов, которыми пользуется клиент,\n",
    "- `CreditCard` — есть ли кредитная карта,\n",
    "- `Loyalty` — активный клиент,\n",
    "- `estimated_salary` — заработная плата клиента,\n",
    "- `Churn` — ушёл или нет."
   ]
  },
  {
   "cell_type": "markdown",
   "id": "f66fefe5",
   "metadata": {},
   "source": [
    "Требуется обработать названия колонок, привести к нижнему регистру."
   ]
  },
  {
   "cell_type": "code",
   "execution_count": 4,
   "id": "4e95056b",
   "metadata": {},
   "outputs": [],
   "source": [
    "# Приводим к нижнему регистру\n",
    "bank_dataset.columns = bank_dataset.columns.str.lower()"
   ]
  },
  {
   "cell_type": "code",
   "execution_count": 5,
   "id": "96f8bbcd",
   "metadata": {},
   "outputs": [],
   "source": [
    "# Заменим названия столбца\n",
    "bank_dataset = bank_dataset.rename(columns={'userid': 'user_id',\n",
    "                                           'creditcard':'credit_card'})"
   ]
  },
  {
   "cell_type": "code",
   "execution_count": 6,
   "id": "608099db",
   "metadata": {},
   "outputs": [
    {
     "data": {
      "text/html": [
       "<div>\n",
       "<style scoped>\n",
       "    .dataframe tbody tr th:only-of-type {\n",
       "        vertical-align: middle;\n",
       "    }\n",
       "\n",
       "    .dataframe tbody tr th {\n",
       "        vertical-align: top;\n",
       "    }\n",
       "\n",
       "    .dataframe thead th {\n",
       "        text-align: right;\n",
       "    }\n",
       "</style>\n",
       "<table border=\"1\" class=\"dataframe\">\n",
       "  <thead>\n",
       "    <tr style=\"text-align: right;\">\n",
       "      <th></th>\n",
       "      <th>user_id</th>\n",
       "      <th>score</th>\n",
       "      <th>city</th>\n",
       "      <th>gender</th>\n",
       "      <th>age</th>\n",
       "      <th>objects</th>\n",
       "      <th>balance</th>\n",
       "      <th>products</th>\n",
       "      <th>credit_card</th>\n",
       "      <th>loyalty</th>\n",
       "      <th>estimated_salary</th>\n",
       "      <th>churn</th>\n",
       "    </tr>\n",
       "  </thead>\n",
       "  <tbody>\n",
       "    <tr>\n",
       "      <td>0</td>\n",
       "      <td>15677338</td>\n",
       "      <td>619</td>\n",
       "      <td>Ярославль</td>\n",
       "      <td>Ж</td>\n",
       "      <td>42</td>\n",
       "      <td>2</td>\n",
       "      <td>NaN</td>\n",
       "      <td>1</td>\n",
       "      <td>1</td>\n",
       "      <td>1</td>\n",
       "      <td>101348.88</td>\n",
       "      <td>1</td>\n",
       "    </tr>\n",
       "    <tr>\n",
       "      <td>1</td>\n",
       "      <td>15690047</td>\n",
       "      <td>608</td>\n",
       "      <td>Рыбинск</td>\n",
       "      <td>Ж</td>\n",
       "      <td>41</td>\n",
       "      <td>1</td>\n",
       "      <td>83807.86</td>\n",
       "      <td>1</td>\n",
       "      <td>0</td>\n",
       "      <td>1</td>\n",
       "      <td>112542.58</td>\n",
       "      <td>0</td>\n",
       "    </tr>\n",
       "    <tr>\n",
       "      <td>2</td>\n",
       "      <td>15662040</td>\n",
       "      <td>502</td>\n",
       "      <td>Ярославль</td>\n",
       "      <td>Ж</td>\n",
       "      <td>42</td>\n",
       "      <td>8</td>\n",
       "      <td>159660.80</td>\n",
       "      <td>3</td>\n",
       "      <td>1</td>\n",
       "      <td>0</td>\n",
       "      <td>113931.57</td>\n",
       "      <td>1</td>\n",
       "    </tr>\n",
       "    <tr>\n",
       "      <td>3</td>\n",
       "      <td>15744090</td>\n",
       "      <td>699</td>\n",
       "      <td>Ярославль</td>\n",
       "      <td>Ж</td>\n",
       "      <td>39</td>\n",
       "      <td>1</td>\n",
       "      <td>NaN</td>\n",
       "      <td>2</td>\n",
       "      <td>0</td>\n",
       "      <td>0</td>\n",
       "      <td>93826.63</td>\n",
       "      <td>0</td>\n",
       "    </tr>\n",
       "    <tr>\n",
       "      <td>4</td>\n",
       "      <td>15780624</td>\n",
       "      <td>850</td>\n",
       "      <td>Рыбинск</td>\n",
       "      <td>Ж</td>\n",
       "      <td>43</td>\n",
       "      <td>2</td>\n",
       "      <td>125510.82</td>\n",
       "      <td>1</td>\n",
       "      <td>1</td>\n",
       "      <td>1</td>\n",
       "      <td>79084.10</td>\n",
       "      <td>0</td>\n",
       "    </tr>\n",
       "  </tbody>\n",
       "</table>\n",
       "</div>"
      ],
      "text/plain": [
       "    user_id  score       city gender  age  objects    balance  products  \\\n",
       "0  15677338    619  Ярославль      Ж   42        2        NaN         1   \n",
       "1  15690047    608    Рыбинск      Ж   41        1   83807.86         1   \n",
       "2  15662040    502  Ярославль      Ж   42        8  159660.80         3   \n",
       "3  15744090    699  Ярославль      Ж   39        1        NaN         2   \n",
       "4  15780624    850    Рыбинск      Ж   43        2  125510.82         1   \n",
       "\n",
       "   credit_card  loyalty  estimated_salary  churn  \n",
       "0            1        1         101348.88      1  \n",
       "1            0        1         112542.58      0  \n",
       "2            1        0         113931.57      1  \n",
       "3            0        0          93826.63      0  \n",
       "4            1        1          79084.10      0  "
      ]
     },
     "execution_count": 6,
     "metadata": {},
     "output_type": "execute_result"
    }
   ],
   "source": [
    "bank_dataset.head(5)"
   ]
  },
  {
   "cell_type": "code",
   "execution_count": 7,
   "id": "ac8ed1a1",
   "metadata": {},
   "outputs": [
    {
     "name": "stdout",
     "output_type": "stream",
     "text": [
      "<class 'pandas.core.frame.DataFrame'>\n",
      "RangeIndex: 10000 entries, 0 to 9999\n",
      "Data columns (total 12 columns):\n",
      "user_id             10000 non-null int64\n",
      "score               10000 non-null int64\n",
      "city                10000 non-null object\n",
      "gender              10000 non-null object\n",
      "age                 10000 non-null int64\n",
      "objects             10000 non-null int64\n",
      "balance             6383 non-null float64\n",
      "products            10000 non-null int64\n",
      "credit_card         10000 non-null int64\n",
      "loyalty             10000 non-null int64\n",
      "estimated_salary    10000 non-null float64\n",
      "churn               10000 non-null int64\n",
      "dtypes: float64(2), int64(8), object(2)\n",
      "memory usage: 937.6+ KB\n"
     ]
    }
   ],
   "source": [
    "# общая информация\n",
    "bank_dataset.info()"
   ]
  },
  {
   "cell_type": "code",
   "execution_count": 8,
   "id": "b267add7",
   "metadata": {},
   "outputs": [
    {
     "data": {
      "text/plain": [
       "user_id                0\n",
       "score                  0\n",
       "city                   0\n",
       "gender                 0\n",
       "age                    0\n",
       "objects                0\n",
       "balance             3617\n",
       "products               0\n",
       "credit_card            0\n",
       "loyalty                0\n",
       "estimated_salary       0\n",
       "churn                  0\n",
       "dtype: int64"
      ]
     },
     "execution_count": 8,
     "metadata": {},
     "output_type": "execute_result"
    }
   ],
   "source": [
    "# Общая информация, проверка на нулевые значения\n",
    "bank_dataset.isnull().sum()"
   ]
  },
  {
   "cell_type": "markdown",
   "id": "1a3df232",
   "metadata": {},
   "source": [
    "Тип данных в колонкам соответствует ожиданиям. В разделе Balance пропущенных значений почти треть, изучим записи с пропущенными строками в дальнейшем исследовании. Проверим на дубликаты."
   ]
  },
  {
   "cell_type": "code",
   "execution_count": 9,
   "id": "f789c1fe",
   "metadata": {},
   "outputs": [
    {
     "name": "stdout",
     "output_type": "stream",
     "text": [
      "Количество дубликатов — 0\n"
     ]
    }
   ],
   "source": [
    "print('Количество дубликатов —',bank_dataset.duplicated().sum())"
   ]
  },
  {
   "cell_type": "markdown",
   "id": "5f45b727",
   "metadata": {},
   "source": [
    "Дубликатов не обнаружено. Проверим количественные данные на выбивающиеся значения."
   ]
  },
  {
   "cell_type": "code",
   "execution_count": 10,
   "id": "8e60bbde",
   "metadata": {},
   "outputs": [],
   "source": [
    "def histogr(data, column, title=''):\n",
    "    \"\"\"Функция, строящая гистограммы.\n",
    "    Функция принимает на вход датасет, колонку, заголовок,\n",
    "    выводит гистограмму.\n",
    "    \"\"\"\n",
    "    data[column].hist(grid = True, figsize = (11,4), bins = 50, color = 'darkgreen', alpha = 0.5)\n",
    "    plt.title(title,fontsize=16,pad = 15) #подписали график\n",
    "    plt.show()"
   ]
  },
  {
   "cell_type": "code",
   "execution_count": 11,
   "id": "c50c0680",
   "metadata": {},
   "outputs": [
    {
     "data": {
      "image/png": "[encoded data removed]",
      "text/plain": [
       "<Figure size 792x288 with 1 Axes>"
      ]
     },
     "metadata": {},
     "output_type": "display_data"
    }
   ],
   "source": [
    "# Проверим на выбивающиеся значения по количественным данным\n",
    "histogr(bank_dataset, 'score', title='Распределение кредитного рейтинга')"
   ]
  },
  {
   "cell_type": "markdown",
   "id": "f37f5129",
   "metadata": {},
   "source": [
    "Распределение по кредитному рейтингу не показало артефактов. Есть некоторые значения низкого кредитного рейтинга, далее распределение похоже на нормальное и резкое повышение, почти 300 клиентов имеют максимальный кредитный рейтинг. "
   ]
  },
  {
   "cell_type": "code",
   "execution_count": 12,
   "id": "afdedd41",
   "metadata": {},
   "outputs": [
    {
     "data": {
      "image/png": "[encoded data removed]",
      "text/plain": [
       "<Figure size 792x288 with 1 Axes>"
      ]
     },
     "metadata": {},
     "output_type": "display_data"
    }
   ],
   "source": [
    "# Проверим на выбивающиеся значения по количественным данным\n",
    "histogr(bank_dataset, 'balance', title='Распределение баланса на счете')"
   ]
  },
  {
   "cell_type": "code",
   "execution_count": 13,
   "id": "7065a6b8",
   "metadata": {},
   "outputs": [
    {
     "data": {
      "image/png": "[encoded data removed]",
      "text/plain": [
       "<Figure size 792x288 with 1 Axes>"
      ]
     },
     "metadata": {},
     "output_type": "display_data"
    }
   ],
   "source": [
    "# Проверим на выбивающиеся значения по количественным данным\n",
    "histogr(bank_dataset, 'estimated_salary', title='Распределение зарплаты')"
   ]
  },
  {
   "cell_type": "code",
   "execution_count": 14,
   "id": "c6923933",
   "metadata": {},
   "outputs": [
    {
     "data": {
      "image/png": "[encoded data removed]",
      "text/plain": [
       "<Figure size 792x288 with 1 Axes>"
      ]
     },
     "metadata": {},
     "output_type": "display_data"
    }
   ],
   "source": [
    "# Проверим на выбивающиеся значения по количественным данным\n",
    "histogr(bank_dataset, 'age', title='Распределение возраста')"
   ]
  },
  {
   "cell_type": "markdown",
   "id": "94b28c66",
   "metadata": {},
   "source": [
    "Распределение баланса похоже на нормальное, распределение зарплаты равомерное.\n",
    "\n",
    "Возраст клиентов распределен нормально со смещением вправо.\n",
    "Проверим категориальные данные на выбивающиеся значения."
   ]
  },
  {
   "cell_type": "code",
   "execution_count": 15,
   "id": "93561354",
   "metadata": {},
   "outputs": [
    {
     "data": {
      "text/plain": [
       "Ярославль         5014\n",
       "Ростов Великий    2509\n",
       "Рыбинск           2477\n",
       "Name: city, dtype: int64"
      ]
     },
     "execution_count": 15,
     "metadata": {},
     "output_type": "execute_result"
    }
   ],
   "source": [
    "# Города\n",
    "bank_dataset['city'].value_counts()"
   ]
  },
  {
   "cell_type": "code",
   "execution_count": 16,
   "id": "6c35b312",
   "metadata": {},
   "outputs": [
    {
     "data": {
      "text/plain": [
       "М    5457\n",
       "Ж    4543\n",
       "Name: gender, dtype: int64"
      ]
     },
     "execution_count": 16,
     "metadata": {},
     "output_type": "execute_result"
    }
   ],
   "source": [
    "# Пол\n",
    "bank_dataset['gender'].value_counts()"
   ]
  },
  {
   "cell_type": "markdown",
   "id": "f73ca327",
   "metadata": {},
   "source": [
    "По типам городов и типу пола нет неожиданных значений. В Ярославле примерно половина всех клиентов, по Рыбинску и Ростову Великому количество клиентов примерно одинаково. Мужчин 55%, женщин 45%."
   ]
  },
  {
   "cell_type": "code",
   "execution_count": 17,
   "id": "544c2d8d",
   "metadata": {},
   "outputs": [
    {
     "data": {
      "text/plain": [
       "2     1048\n",
       "1     1035\n",
       "7     1028\n",
       "8     1025\n",
       "5     1012\n",
       "3     1009\n",
       "4      989\n",
       "9      984\n",
       "6      967\n",
       "10     490\n",
       "0      413\n",
       "Name: objects, dtype: int64"
      ]
     },
     "execution_count": 17,
     "metadata": {},
     "output_type": "execute_result"
    }
   ],
   "source": [
    "# Количество объектов\n",
    "bank_dataset['objects'].value_counts()"
   ]
  },
  {
   "cell_type": "code",
   "execution_count": 18,
   "id": "6c2a7644",
   "metadata": {},
   "outputs": [
    {
     "data": {
      "text/plain": [
       "1    5084\n",
       "2    4590\n",
       "3     266\n",
       "4      60\n",
       "Name: products, dtype: int64"
      ]
     },
     "execution_count": 18,
     "metadata": {},
     "output_type": "execute_result"
    }
   ],
   "source": [
    "# Количество продуктов\n",
    "bank_dataset['products'].value_counts()"
   ]
  },
  {
   "cell_type": "markdown",
   "id": "b0fcc844",
   "metadata": {},
   "source": [
    "Количество объектов в собственности варьируется от 0 до 10 и распределено примерно одинаково, за исключением крайних значений 0 и 10, по которым количество клиентов примерно в 2 раза ниже. Количество используемых банковских продуктов: от 1 до 4, наибольшее число клиентов пользуется одним продуктом."
   ]
  },
  {
   "cell_type": "code",
   "execution_count": 19,
   "id": "cc9a2d53",
   "metadata": {},
   "outputs": [
    {
     "data": {
      "text/plain": [
       "1    7055\n",
       "0    2945\n",
       "Name: credit_card, dtype: int64"
      ]
     },
     "execution_count": 19,
     "metadata": {},
     "output_type": "execute_result"
    }
   ],
   "source": [
    "# Значения кред.карты\n",
    "bank_dataset['credit_card'].value_counts()"
   ]
  },
  {
   "cell_type": "code",
   "execution_count": 20,
   "id": "7404ba88",
   "metadata": {},
   "outputs": [
    {
     "data": {
      "text/plain": [
       "1    5151\n",
       "0    4849\n",
       "Name: loyalty, dtype: int64"
      ]
     },
     "execution_count": 20,
     "metadata": {},
     "output_type": "execute_result"
    }
   ],
   "source": [
    "# Значения активности\n",
    "bank_dataset['loyalty'].value_counts()"
   ]
  },
  {
   "cell_type": "code",
   "execution_count": 21,
   "id": "4b501ac8",
   "metadata": {},
   "outputs": [
    {
     "data": {
      "text/plain": [
       "0    7963\n",
       "1    2037\n",
       "Name: churn, dtype: int64"
      ]
     },
     "execution_count": 21,
     "metadata": {},
     "output_type": "execute_result"
    }
   ],
   "source": [
    "# Значения оттока\n",
    "bank_dataset['churn'].value_counts()"
   ]
  },
  {
   "cell_type": "markdown",
   "id": "7ba7c27a",
   "metadata": {},
   "source": [
    "В последних приведенных данных нет значений, отличных от 1 и 0, значит, дополнительная обработка не нужна.\n",
    "\n",
    "70% клиентов имеют кредитные карты, примерно 52% клиентов активны, к ушедшим клиентам относятся 20% датасета."
   ]
  },
  {
   "cell_type": "markdown",
   "id": "3ca97d4c",
   "metadata": {},
   "source": [
    "\n",
    "### Вывод\n",
    "\n",
    "Данные и библиотеки загружены, проведена предварительная обработка, названия колонок скорректированы. Данные проверены на дубликаты, их не обнаружено. Тип данных подходит для исследования. Данные проверены на артефакты и выбвающиеся значения, отсутствующих признаков нет, по бинарным признакам значения 1 и 0, как и ожидалось.\n",
    "\n",
    "Примерно половина клиентов из Ярославля, по четверти — из Рыбинска и Ростова Великого. \n",
    "\n",
    "Мужчин в датасете 55%, женщин 45%. \n",
    "\n",
    "Примерно половина клиентов использует 1 продукт. Ушедших клиентов в датасете около 20%. Примерно 70 % используют кредитную карту.\n",
    "\n",
    "Данные по количеству объектов в собственности и зарплате распределены достаточно равномерно."
   ]
  },
  {
   "cell_type": "markdown",
   "id": "3f892dc8",
   "metadata": {},
   "source": [
    "### Исследовательский анализ данных\n",
    "\n",
    "Исследование данных позволит сформулировать гипотезы относительно категоризации клиентов.\n",
    "\n",
    "Изучим средние значения и стандартные отклонения признаков в двух группах — тех, кто ушел в отток и тех, кто остался."
   ]
  },
  {
   "cell_type": "code",
   "execution_count": 22,
   "id": "60cf1189",
   "metadata": {},
   "outputs": [
    {
     "data": {
      "text/html": [
       "<div>\n",
       "<style scoped>\n",
       "    .dataframe tbody tr th:only-of-type {\n",
       "        vertical-align: middle;\n",
       "    }\n",
       "\n",
       "    .dataframe tbody tr th {\n",
       "        vertical-align: top;\n",
       "    }\n",
       "\n",
       "    .dataframe thead th {\n",
       "        text-align: right;\n",
       "    }\n",
       "</style>\n",
       "<table border=\"1\" class=\"dataframe\">\n",
       "  <thead>\n",
       "    <tr style=\"text-align: right;\">\n",
       "      <th></th>\n",
       "      <th>user_id</th>\n",
       "      <th>score</th>\n",
       "      <th>age</th>\n",
       "      <th>objects</th>\n",
       "      <th>balance</th>\n",
       "      <th>products</th>\n",
       "      <th>credit_card</th>\n",
       "      <th>loyalty</th>\n",
       "      <th>estimated_salary</th>\n",
       "    </tr>\n",
       "    <tr>\n",
       "      <th>churn</th>\n",
       "      <th></th>\n",
       "      <th></th>\n",
       "      <th></th>\n",
       "      <th></th>\n",
       "      <th></th>\n",
       "      <th></th>\n",
       "      <th></th>\n",
       "      <th></th>\n",
       "      <th></th>\n",
       "    </tr>\n",
       "  </thead>\n",
       "  <tbody>\n",
       "    <tr>\n",
       "      <td>0</td>\n",
       "      <td>15733903.88</td>\n",
       "      <td>651.85</td>\n",
       "      <td>37.41</td>\n",
       "      <td>5.03</td>\n",
       "      <td>119535.86</td>\n",
       "      <td>1.54</td>\n",
       "      <td>0.71</td>\n",
       "      <td>0.55</td>\n",
       "      <td>99738.39</td>\n",
       "    </tr>\n",
       "    <tr>\n",
       "      <td>1</td>\n",
       "      <td>15732787.96</td>\n",
       "      <td>645.35</td>\n",
       "      <td>44.84</td>\n",
       "      <td>4.93</td>\n",
       "      <td>120746.97</td>\n",
       "      <td>1.48</td>\n",
       "      <td>0.70</td>\n",
       "      <td>0.36</td>\n",
       "      <td>101465.68</td>\n",
       "    </tr>\n",
       "  </tbody>\n",
       "</table>\n",
       "</div>"
      ],
      "text/plain": [
       "           user_id   score    age  objects    balance  products  credit_card  \\\n",
       "churn                                                                          \n",
       "0      15733903.88  651.85  37.41     5.03  119535.86      1.54         0.71   \n",
       "1      15732787.96  645.35  44.84     4.93  120746.97      1.48         0.70   \n",
       "\n",
       "       loyalty  estimated_salary  \n",
       "churn                             \n",
       "0         0.55          99738.39  \n",
       "1         0.36         101465.68  "
      ]
     },
     "execution_count": 22,
     "metadata": {},
     "output_type": "execute_result"
    }
   ],
   "source": [
    "# Воспользуемся группировкой по значеню churn\n",
    "bank_churn = bank_dataset.groupby('churn')\n",
    "bank_churn.mean().round(2)"
   ]
  },
  {
   "cell_type": "markdown",
   "id": "09a2be0b",
   "metadata": {},
   "source": [
    "Ушедшие и оставшиеся клиенты имеют примерно одинаковые средние показатели по кредитному рейтингу (на 6.5 пунктов ниже у ушедших), по наличию кредитной карты, количеству используемых продуктов и балансу. Показательна разница loyalty (активный клиент или нет), **значения loyalty ниже у ушедших клиентов. Средний возраст ушедших клиентов выше: 45 против 37 лет**.\n",
    "\n",
    "\n",
    "Изучим распределение для каждого количества продуктов для ушедших и оставшихся."
   ]
  },
  {
   "cell_type": "markdown",
   "id": "2d404741",
   "metadata": {},
   "source": [
    "### Распределение рейтинга."
   ]
  },
  {
   "cell_type": "code",
   "execution_count": 23,
   "id": "343ad8fb",
   "metadata": {},
   "outputs": [],
   "source": [
    "# Напишем функцию для графика типа violin для\n",
    "def violin(y_name, title = \"\", y_label=\"\"):\n",
    "    \"\"\"Функция, строящая график violin.\n",
    "    Функция принимает на вход колонку, заголовок, название оси y,\n",
    "    выводит violin.\n",
    "    \"\"\"\n",
    "    plt.figure(figsize=(12, 8))\n",
    "    ax = sns.violinplot(x='products', y=y_name, hue='churn', data=bank_dataset, split=True)\n",
    "    labels = ax.get_xticklabels()\n",
    "    ax.set_title(title, fontsize=18, pad = 15)\n",
    "    ax.set_ylabel(y_label)\n",
    "    ax.set_xlabel(\"Количество используемых продуктов\")\n",
    "    ax.set_xticklabels(labels)\n",
    "    plt.show()"
   ]
  },
  {
   "cell_type": "code",
   "execution_count": 24,
   "id": "e23253ad",
   "metadata": {},
   "outputs": [],
   "source": [
    "#Напишем функцию, строящую графики типа distplot\n",
    "#название столбца, заголовок графика\n",
    "def hist_2_(data1, data2, column, title = \"\", label1=\"\", label2=\"\"):\n",
    "    \"\"\"Функция, строящая график violin.\n",
    "    Функция принимает на вход колонку, заголовок, название оси y,\n",
    "    выводит violin.\n",
    "    \"\"\"\n",
    "    plt.figure(figsize=(10, 7))\n",
    "    ax = sns.distplot(data1[column],  bins=50, label=label1, kde=True)\n",
    "    sns.distplot(data2[column], bins=50, label=label2, kde=True)\n",
    "    plt.axes().set_title(title, fontsize=18, pad = 15)  \n",
    "    plt.legend()\n",
    "    plt.show()"
   ]
  },
  {
   "cell_type": "code",
   "execution_count": 25,
   "id": "3ab0930b",
   "metadata": {},
   "outputs": [
    {
     "data": {
      "image/png": "[encoded data removed]",
      "text/plain": [
       "<Figure size 864x576 with 1 Axes>"
      ]
     },
     "metadata": {},
     "output_type": "display_data"
    }
   ],
   "source": [
    "# Построим график типа violin для распределения по количеству используемых продуктов и рейтингу\n",
    "violin('score', \n",
    "       \"Распределение по рейтингу\", \n",
    "       \"Кредитный рейтинг\")"
   ]
  },
  {
   "cell_type": "markdown",
   "id": "2d08935f",
   "metadata": {},
   "source": [
    "График показал любопытную особенность: большинство клиентов, использующих 4 банковских продукта, ушло. Посмотрим точнее, остались ли клиенты, использующие 4 банковских продукта. Распределение по рейтингу похоже на нормальное, выраженных отличий нет для разных групп."
   ]
  },
  {
   "cell_type": "code",
   "execution_count": 26,
   "id": "d9af5912",
   "metadata": {},
   "outputs": [
    {
     "data": {
      "text/html": [
       "<div>\n",
       "<style scoped>\n",
       "    .dataframe tbody tr th:only-of-type {\n",
       "        vertical-align: middle;\n",
       "    }\n",
       "\n",
       "    .dataframe tbody tr th {\n",
       "        vertical-align: top;\n",
       "    }\n",
       "\n",
       "    .dataframe thead th {\n",
       "        text-align: right;\n",
       "    }\n",
       "</style>\n",
       "<table border=\"1\" class=\"dataframe\">\n",
       "  <thead>\n",
       "    <tr style=\"text-align: right;\">\n",
       "      <th></th>\n",
       "      <th>age</th>\n",
       "      <th>loyalty</th>\n",
       "      <th>churn</th>\n",
       "    </tr>\n",
       "    <tr>\n",
       "      <th>products</th>\n",
       "      <th></th>\n",
       "      <th></th>\n",
       "      <th></th>\n",
       "    </tr>\n",
       "  </thead>\n",
       "  <tbody>\n",
       "    <tr>\n",
       "      <td>1</td>\n",
       "      <td>39.67</td>\n",
       "      <td>0.50</td>\n",
       "      <td>0.28</td>\n",
       "    </tr>\n",
       "    <tr>\n",
       "      <td>2</td>\n",
       "      <td>37.75</td>\n",
       "      <td>0.53</td>\n",
       "      <td>0.08</td>\n",
       "    </tr>\n",
       "    <tr>\n",
       "      <td>3</td>\n",
       "      <td>43.20</td>\n",
       "      <td>0.42</td>\n",
       "      <td>0.83</td>\n",
       "    </tr>\n",
       "    <tr>\n",
       "      <td>4</td>\n",
       "      <td>45.68</td>\n",
       "      <td>0.48</td>\n",
       "      <td>1.00</td>\n",
       "    </tr>\n",
       "  </tbody>\n",
       "</table>\n",
       "</div>"
      ],
      "text/plain": [
       "            age  loyalty  churn\n",
       "products                       \n",
       "1         39.67     0.50   0.28\n",
       "2         37.75     0.53   0.08\n",
       "3         43.20     0.42   0.83\n",
       "4         45.68     0.48   1.00"
      ]
     },
     "execution_count": 26,
     "metadata": {},
     "output_type": "execute_result"
    }
   ],
   "source": [
    "# Воспользуемся группировкой по продуктам\n",
    "bank_products = bank_dataset.groupby('products').mean().round(2)\n",
    "bank_products[['age', 'loyalty', 'churn']]"
   ]
  },
  {
   "cell_type": "markdown",
   "id": "ff641a62",
   "metadata": {},
   "source": [
    "**Нет клиентов, которые использовали 4 продукта и остались**. Для клиентов, использующих 3 продукта, показатель оттока 0.83 что тоже высокий показатель. Показатели же активности примерно одинаковы для всех групп."
   ]
  },
  {
   "cell_type": "markdown",
   "id": "041d3ef6",
   "metadata": {},
   "source": [
    "Изучим показатели кредитного рейтинга подробнее. Выберем оставшихся активных клиентов с кредитным рейтингом выше 80 процентиля, посчитаем их средний доход, возраст, другие показатели, сравним с клиентами ниже 20 процентиля по аналогичным показателям."
   ]
  },
  {
   "cell_type": "code",
   "execution_count": 27,
   "id": "c5061ea5",
   "metadata": {},
   "outputs": [],
   "source": [
    "# Первые 20% клиентов с наивысшим кредитным рейтингом\n",
    "bank_score80 = bank_dataset.query('loyalty == 1').sort_values(by='score', ascending = False).iloc[0:round(len(bank_dataset.query('loyalty == 1'))/5)]"
   ]
  },
  {
   "cell_type": "code",
   "execution_count": 28,
   "id": "aa59a5f7",
   "metadata": {},
   "outputs": [],
   "source": [
    "# Последние 20% клиентов с низшим кредитным рейтингом\n",
    "bank_score20 = bank_dataset.query('loyalty == 1').sort_values(by='score', ascending = False).iloc[round(len(bank_dataset.query('loyalty == 1'))*4/5):]"
   ]
  },
  {
   "cell_type": "code",
   "execution_count": 29,
   "id": "a548405c",
   "metadata": {},
   "outputs": [
    {
     "data": {
      "text/plain": [
       "user_id             15733784.04\n",
       "score                    786.85\n",
       "age                       39.76\n",
       "objects                    4.92\n",
       "balance               120021.97\n",
       "products                   1.55\n",
       "credit_card                0.69\n",
       "loyalty                    1.00\n",
       "estimated_salary       99609.68\n",
       "churn                      0.14\n",
       "dtype: float64"
      ]
     },
     "execution_count": 29,
     "metadata": {},
     "output_type": "execute_result"
    }
   ],
   "source": [
    "bank_score80.mean().round(2)"
   ]
  },
  {
   "cell_type": "code",
   "execution_count": 30,
   "id": "b9539d3c",
   "metadata": {},
   "outputs": [
    {
     "data": {
      "text/plain": [
       "user_id             15735771.88\n",
       "score                    516.46\n",
       "age                       39.61\n",
       "objects                    4.88\n",
       "balance               118346.20\n",
       "products                   1.51\n",
       "credit_card                0.69\n",
       "loyalty                    1.00\n",
       "estimated_salary       99062.29\n",
       "churn                      0.16\n",
       "dtype: float64"
      ]
     },
     "execution_count": 30,
     "metadata": {},
     "output_type": "execute_result"
    }
   ],
   "source": [
    "bank_score20.mean().round(2)"
   ]
  },
  {
   "cell_type": "markdown",
   "id": "d4e661e1",
   "metadata": {},
   "source": [
    "Средние очень похожи по всем показателям для клиентов, имеющих низкий и высокий кредитный рейтинг, вероятно, модель для кредитного скоринга была создана по другим данным, по этому датасету существенных отличий признаков нет."
   ]
  },
  {
   "cell_type": "markdown",
   "id": "ff174778",
   "metadata": {},
   "source": [
    "\n",
    "### Распределение по городам\n",
    "\n",
    "Посмотрим, какие показатели оттока по городам."
   ]
  },
  {
   "cell_type": "code",
   "execution_count": 31,
   "id": "f1818ffd",
   "metadata": {},
   "outputs": [
    {
     "data": {
      "text/html": [
       "<div>\n",
       "<style scoped>\n",
       "    .dataframe tbody tr th:only-of-type {\n",
       "        vertical-align: middle;\n",
       "    }\n",
       "\n",
       "    .dataframe tbody tr th {\n",
       "        vertical-align: top;\n",
       "    }\n",
       "\n",
       "    .dataframe thead th {\n",
       "        text-align: right;\n",
       "    }\n",
       "</style>\n",
       "<table border=\"1\" class=\"dataframe\">\n",
       "  <thead>\n",
       "    <tr style=\"text-align: right;\">\n",
       "      <th></th>\n",
       "      <th>churn</th>\n",
       "    </tr>\n",
       "    <tr>\n",
       "      <th>city</th>\n",
       "      <th></th>\n",
       "    </tr>\n",
       "  </thead>\n",
       "  <tbody>\n",
       "    <tr>\n",
       "      <td>Ростов Великий</td>\n",
       "      <td>0.32</td>\n",
       "    </tr>\n",
       "    <tr>\n",
       "      <td>Рыбинск</td>\n",
       "      <td>0.17</td>\n",
       "    </tr>\n",
       "    <tr>\n",
       "      <td>Ярославль</td>\n",
       "      <td>0.16</td>\n",
       "    </tr>\n",
       "  </tbody>\n",
       "</table>\n",
       "</div>"
      ],
      "text/plain": [
       "                churn\n",
       "city                 \n",
       "Ростов Великий   0.32\n",
       "Рыбинск          0.17\n",
       "Ярославль        0.16"
      ]
     },
     "execution_count": 31,
     "metadata": {},
     "output_type": "execute_result"
    }
   ],
   "source": [
    "# Сводная таблица по городам и кол-ву продуктов, значения - отток\n",
    "bank_gr_ch = bank_dataset.pivot_table(index = 'city', values='churn', aggfunc='mean' )\n",
    "bank_gr_ch.round(2)"
   ]
  },
  {
   "cell_type": "code",
   "execution_count": 32,
   "id": "a7878cdf",
   "metadata": {},
   "outputs": [
    {
     "data": {
      "text/html": [
       "<div>\n",
       "<style scoped>\n",
       "    .dataframe tbody tr th:only-of-type {\n",
       "        vertical-align: middle;\n",
       "    }\n",
       "\n",
       "    .dataframe tbody tr th {\n",
       "        vertical-align: top;\n",
       "    }\n",
       "\n",
       "    .dataframe thead th {\n",
       "        text-align: right;\n",
       "    }\n",
       "</style>\n",
       "<table border=\"1\" class=\"dataframe\">\n",
       "  <thead>\n",
       "    <tr style=\"text-align: right;\">\n",
       "      <th>products</th>\n",
       "      <th>1</th>\n",
       "      <th>2</th>\n",
       "      <th>3</th>\n",
       "      <th>4</th>\n",
       "    </tr>\n",
       "    <tr>\n",
       "      <th>city</th>\n",
       "      <th></th>\n",
       "      <th></th>\n",
       "      <th></th>\n",
       "      <th></th>\n",
       "    </tr>\n",
       "  </thead>\n",
       "  <tbody>\n",
       "    <tr>\n",
       "      <td>Ростов Великий</td>\n",
       "      <td>0.43</td>\n",
       "      <td>0.12</td>\n",
       "      <td>0.90</td>\n",
       "      <td>1.0</td>\n",
       "    </tr>\n",
       "    <tr>\n",
       "      <td>Рыбинск</td>\n",
       "      <td>0.22</td>\n",
       "      <td>0.07</td>\n",
       "      <td>0.79</td>\n",
       "      <td>1.0</td>\n",
       "    </tr>\n",
       "    <tr>\n",
       "      <td>Ярославль</td>\n",
       "      <td>0.22</td>\n",
       "      <td>0.06</td>\n",
       "      <td>0.79</td>\n",
       "      <td>1.0</td>\n",
       "    </tr>\n",
       "  </tbody>\n",
       "</table>\n",
       "</div>"
      ],
      "text/plain": [
       "products           1     2     3    4\n",
       "city                                 \n",
       "Ростов Великий  0.43  0.12  0.90  1.0\n",
       "Рыбинск         0.22  0.07  0.79  1.0\n",
       "Ярославль       0.22  0.06  0.79  1.0"
      ]
     },
     "execution_count": 32,
     "metadata": {},
     "output_type": "execute_result"
    }
   ],
   "source": [
    "# Сводная таблица по городам и кол-ву продуктов, значения - показатель оттока\n",
    "bank_gr = bank_dataset.pivot_table(index = 'city', columns = 'products', values='churn', aggfunc='mean' )\n",
    "bank_gr.round(2)"
   ]
  },
  {
   "cell_type": "markdown",
   "id": "b40d065d",
   "metadata": {},
   "source": [
    "**В Ростове средний показатель оттока по любому кол-ву продуктов хуже, чем в соседних городах.**\n",
    "\n",
    "Что с активностью клиентов? "
   ]
  },
  {
   "cell_type": "code",
   "execution_count": 33,
   "id": "99a6b875",
   "metadata": {},
   "outputs": [
    {
     "data": {
      "text/html": [
       "<div>\n",
       "<style scoped>\n",
       "    .dataframe tbody tr th:only-of-type {\n",
       "        vertical-align: middle;\n",
       "    }\n",
       "\n",
       "    .dataframe tbody tr th {\n",
       "        vertical-align: top;\n",
       "    }\n",
       "\n",
       "    .dataframe thead th {\n",
       "        text-align: right;\n",
       "    }\n",
       "</style>\n",
       "<table border=\"1\" class=\"dataframe\">\n",
       "  <thead>\n",
       "    <tr style=\"text-align: right;\">\n",
       "      <th>products</th>\n",
       "      <th>1</th>\n",
       "      <th>2</th>\n",
       "      <th>3</th>\n",
       "      <th>4</th>\n",
       "    </tr>\n",
       "    <tr>\n",
       "      <th>city</th>\n",
       "      <th></th>\n",
       "      <th></th>\n",
       "      <th></th>\n",
       "      <th></th>\n",
       "    </tr>\n",
       "  </thead>\n",
       "  <tbody>\n",
       "    <tr>\n",
       "      <td>Ростов Великий</td>\n",
       "      <td>0.47</td>\n",
       "      <td>0.55</td>\n",
       "      <td>0.43</td>\n",
       "      <td>0.42</td>\n",
       "    </tr>\n",
       "    <tr>\n",
       "      <td>Рыбинск</td>\n",
       "      <td>0.55</td>\n",
       "      <td>0.51</td>\n",
       "      <td>0.42</td>\n",
       "      <td>0.29</td>\n",
       "    </tr>\n",
       "    <tr>\n",
       "      <td>Ярославль</td>\n",
       "      <td>0.50</td>\n",
       "      <td>0.54</td>\n",
       "      <td>0.42</td>\n",
       "      <td>0.59</td>\n",
       "    </tr>\n",
       "  </tbody>\n",
       "</table>\n",
       "</div>"
      ],
      "text/plain": [
       "products           1     2     3     4\n",
       "city                                  \n",
       "Ростов Великий  0.47  0.55  0.43  0.42\n",
       "Рыбинск         0.55  0.51  0.42  0.29\n",
       "Ярославль       0.50  0.54  0.42  0.59"
      ]
     },
     "execution_count": 33,
     "metadata": {},
     "output_type": "execute_result"
    }
   ],
   "source": [
    "# Сводная таблица по городам и кол-ву продуктов, значения - активность\n",
    "bank_gr = bank_dataset.pivot_table(index = 'city', columns = 'products', values='loyalty', aggfunc='mean' )\n",
    "bank_gr.round(2)"
   ]
  },
  {
   "cell_type": "markdown",
   "id": "88facd6c",
   "metadata": {},
   "source": [
    "Активность клиентов по городам сопоставима. Для 4 продуктов в Рыбинске всего 7 клиентов, значение не показательно. Можно сказать, клиенты активны примерно одинаково."
   ]
  },
  {
   "cell_type": "code",
   "execution_count": 34,
   "id": "24e55d07",
   "metadata": {},
   "outputs": [
    {
     "data": {
      "text/plain": [
       "Ярославль         29\n",
       "Ростов Великий    24\n",
       "Рыбинск            7\n",
       "Name: city, dtype: int64"
      ]
     },
     "execution_count": 34,
     "metadata": {},
     "output_type": "execute_result"
    }
   ],
   "source": [
    "# Города клиентов, использующих 4 продукта.\n",
    "bank_products_4 = bank_dataset.query('products == 4')\n",
    "bank_products_4['city'].value_counts()"
   ]
  },
  {
   "cell_type": "markdown",
   "id": "b851e983",
   "metadata": {},
   "source": [
    "В Ростове достаточно много клиентов использовали 4 продукта, учитывая что количество клиентов из Ростова в датасете примерно в 2 раза меньше, чем в Ярославле.\n",
    "\n",
    "### Распределение по балансу\n"
   ]
  },
  {
   "cell_type": "code",
   "execution_count": 35,
   "id": "a1c0a28d",
   "metadata": {},
   "outputs": [
    {
     "data": {
      "image/png": "[encoded data removed]",
      "text/plain": [
       "<Figure size 864x576 with 1 Axes>"
      ]
     },
     "metadata": {},
     "output_type": "display_data"
    }
   ],
   "source": [
    "# Построим график типа violin для распределения по количеству используемых продуктов и балансу\n",
    "violin('balance', \n",
    "       \"Распределение по балансу\", \n",
    "       \"Баланс\")"
   ]
  },
  {
   "cell_type": "markdown",
   "id": "a8f235a5",
   "metadata": {},
   "source": [
    "Распределение по балансу похоже на нормальное, выраженных отличий нет для разных групп.\n",
    "\n",
    "Посмотрим на клиенов, кто не имеет баланса. Отличаются ли они от клиентов, у кого есть значения баланса?"
   ]
  },
  {
   "cell_type": "code",
   "execution_count": 36,
   "id": "bb40d111",
   "metadata": {},
   "outputs": [],
   "source": [
    "# Датасет клиентов, кто не имеет баланса\n",
    "bank_no_balance = bank_dataset[bank_dataset['balance'].isnull()]"
   ]
  },
  {
   "cell_type": "code",
   "execution_count": 37,
   "id": "763ff4f8",
   "metadata": {},
   "outputs": [],
   "source": [
    "# Датасет клиентов, кто имеет баланс\n",
    "bank_balance = bank_dataset.copy()\n",
    "bank_balance.dropna(subset=['balance'], inplace = True)"
   ]
  },
  {
   "cell_type": "code",
   "execution_count": 38,
   "id": "da67c9c5",
   "metadata": {},
   "outputs": [
    {
     "data": {
      "text/plain": [
       "user_id             15734685.6\n",
       "score                    649.5\n",
       "age                       38.4\n",
       "objects                    5.1\n",
       "balance                    NaN\n",
       "products                   1.8\n",
       "credit_card                0.7\n",
       "loyalty                    0.5\n",
       "estimated_salary       98983.6\n",
       "churn                      0.1\n",
       "dtype: float64"
      ]
     },
     "execution_count": 38,
     "metadata": {},
     "output_type": "execute_result"
    }
   ],
   "source": [
    "# Средние значения датасета без баланса\n",
    "bank_no_balance.mean().round(1)"
   ]
  },
  {
   "cell_type": "code",
   "execution_count": 39,
   "id": "ccab3bdb",
   "metadata": {},
   "outputs": [
    {
     "data": {
      "text/plain": [
       "user_id             15733104.8\n",
       "score                    651.1\n",
       "age                       39.2\n",
       "objects                    5.0\n",
       "balance               119827.5\n",
       "products                   1.4\n",
       "credit_card                0.7\n",
       "loyalty                    0.5\n",
       "estimated_salary      100717.4\n",
       "churn                      0.2\n",
       "dtype: float64"
      ]
     },
     "execution_count": 39,
     "metadata": {},
     "output_type": "execute_result"
    }
   ],
   "source": [
    "# Средние значения датасета с балансом\n",
    "bank_balance.mean().round(1)"
   ]
  },
  {
   "cell_type": "markdown",
   "id": "887821b9",
   "metadata": {},
   "source": [
    "Клиенты, по которым не предоставлено значений баланса, имеют более низкий показатель оттока, 10% против 20% у остальных. Также эти клиенты используют, в среднем, меньше продуктов, чем остальные. Возможно, отсутствует данный показатель, тк у клиента ипотека и нет дебетового счета, либо предоставлен кредит наличными. Возможна также ошибка с выгрузкой."
   ]
  },
  {
   "cell_type": "markdown",
   "id": "b547ece9",
   "metadata": {},
   "source": [
    "### Показатели активности\n",
    "\n",
    "Сопоставим активность с вероятностью ухода: разделим на 2 категории, активные и неактивные, для каждой категории посчитаем процент оттока."
   ]
  },
  {
   "cell_type": "code",
   "execution_count": 40,
   "id": "1667449c",
   "metadata": {},
   "outputs": [
    {
     "data": {
      "text/html": [
       "<div>\n",
       "<style scoped>\n",
       "    .dataframe tbody tr th:only-of-type {\n",
       "        vertical-align: middle;\n",
       "    }\n",
       "\n",
       "    .dataframe tbody tr th {\n",
       "        vertical-align: top;\n",
       "    }\n",
       "\n",
       "    .dataframe thead th {\n",
       "        text-align: right;\n",
       "    }\n",
       "</style>\n",
       "<table border=\"1\" class=\"dataframe\">\n",
       "  <thead>\n",
       "    <tr style=\"text-align: right;\">\n",
       "      <th></th>\n",
       "      <th>user_id</th>\n",
       "      <th>score</th>\n",
       "      <th>age</th>\n",
       "      <th>objects</th>\n",
       "      <th>balance</th>\n",
       "      <th>products</th>\n",
       "      <th>credit_card</th>\n",
       "      <th>estimated_salary</th>\n",
       "      <th>churn</th>\n",
       "    </tr>\n",
       "    <tr>\n",
       "      <th>loyalty</th>\n",
       "      <th></th>\n",
       "      <th></th>\n",
       "      <th></th>\n",
       "      <th></th>\n",
       "      <th></th>\n",
       "      <th></th>\n",
       "      <th></th>\n",
       "      <th></th>\n",
       "      <th></th>\n",
       "    </tr>\n",
       "  </thead>\n",
       "  <tbody>\n",
       "    <tr>\n",
       "      <td>0</td>\n",
       "      <td>15733553.13</td>\n",
       "      <td>647.97</td>\n",
       "      <td>38.00</td>\n",
       "      <td>5.10</td>\n",
       "      <td>120458.81</td>\n",
       "      <td>1.52</td>\n",
       "      <td>0.71</td>\n",
       "      <td>100767.20</td>\n",
       "      <td>0.27</td>\n",
       "    </tr>\n",
       "    <tr>\n",
       "      <td>1</td>\n",
       "      <td>15733792.77</td>\n",
       "      <td>652.93</td>\n",
       "      <td>39.79</td>\n",
       "      <td>4.93</td>\n",
       "      <td>119229.50</td>\n",
       "      <td>1.54</td>\n",
       "      <td>0.70</td>\n",
       "      <td>99452.97</td>\n",
       "      <td>0.14</td>\n",
       "    </tr>\n",
       "  </tbody>\n",
       "</table>\n",
       "</div>"
      ],
      "text/plain": [
       "             user_id   score    age  objects    balance  products  \\\n",
       "loyalty                                                             \n",
       "0        15733553.13  647.97  38.00     5.10  120458.81      1.52   \n",
       "1        15733792.77  652.93  39.79     4.93  119229.50      1.54   \n",
       "\n",
       "         credit_card  estimated_salary  churn  \n",
       "loyalty                                        \n",
       "0               0.71         100767.20   0.27  \n",
       "1               0.70          99452.97   0.14  "
      ]
     },
     "execution_count": 40,
     "metadata": {},
     "output_type": "execute_result"
    }
   ],
   "source": [
    "# Воспользуемся группировкой по значеню loyalty\n",
    "bank_loyalty = bank_dataset.groupby('loyalty')\n",
    "bank_loyalty.mean().round(2)"
   ]
  },
  {
   "cell_type": "markdown",
   "id": "5f175aba",
   "metadata": {},
   "source": [
    "**Для активных клиентов процент оттока составил 14%, для неактивных 27%.**\n",
    "Остальные средние по признакам примерно одинаковы, средний рейтинг активных клиентов выше на 5 пунктов, в среднем, они старше на 2 года.\n",
    "\n",
    "### Кредитные карты\n",
    "Изучим наличие кредитных карт и сопоставим с вероятностью оттока: разделим на 2 категории, есть кредитные карты и нет кредитных карт, для каждой категории посчитаем процент оттока. "
   ]
  },
  {
   "cell_type": "code",
   "execution_count": 41,
   "id": "2bf15a1c",
   "metadata": {},
   "outputs": [
    {
     "data": {
      "text/html": [
       "<div>\n",
       "<style scoped>\n",
       "    .dataframe tbody tr th:only-of-type {\n",
       "        vertical-align: middle;\n",
       "    }\n",
       "\n",
       "    .dataframe tbody tr th {\n",
       "        vertical-align: top;\n",
       "    }\n",
       "\n",
       "    .dataframe thead th {\n",
       "        text-align: right;\n",
       "    }\n",
       "</style>\n",
       "<table border=\"1\" class=\"dataframe\">\n",
       "  <thead>\n",
       "    <tr style=\"text-align: right;\">\n",
       "      <th></th>\n",
       "      <th>user_id</th>\n",
       "      <th>score</th>\n",
       "      <th>age</th>\n",
       "      <th>objects</th>\n",
       "      <th>balance</th>\n",
       "      <th>products</th>\n",
       "      <th>loyalty</th>\n",
       "      <th>estimated_salary</th>\n",
       "      <th>churn</th>\n",
       "    </tr>\n",
       "    <tr>\n",
       "      <th>credit_card</th>\n",
       "      <th></th>\n",
       "      <th></th>\n",
       "      <th></th>\n",
       "      <th></th>\n",
       "      <th></th>\n",
       "      <th></th>\n",
       "      <th></th>\n",
       "      <th></th>\n",
       "      <th></th>\n",
       "    </tr>\n",
       "  </thead>\n",
       "  <tbody>\n",
       "    <tr>\n",
       "      <td>0</td>\n",
       "      <td>15735238.06</td>\n",
       "      <td>651.35</td>\n",
       "      <td>39.11</td>\n",
       "      <td>4.91</td>\n",
       "      <td>119519.12</td>\n",
       "      <td>1.53</td>\n",
       "      <td>0.52</td>\n",
       "      <td>100974.40</td>\n",
       "      <td>0.21</td>\n",
       "    </tr>\n",
       "    <tr>\n",
       "      <td>1</td>\n",
       "      <td>15733024.75</td>\n",
       "      <td>650.19</td>\n",
       "      <td>38.84</td>\n",
       "      <td>5.05</td>\n",
       "      <td>119960.16</td>\n",
       "      <td>1.53</td>\n",
       "      <td>0.51</td>\n",
       "      <td>99721.16</td>\n",
       "      <td>0.20</td>\n",
       "    </tr>\n",
       "  </tbody>\n",
       "</table>\n",
       "</div>"
      ],
      "text/plain": [
       "                 user_id   score    age  objects    balance  products  \\\n",
       "credit_card                                                             \n",
       "0            15735238.06  651.35  39.11     4.91  119519.12      1.53   \n",
       "1            15733024.75  650.19  38.84     5.05  119960.16      1.53   \n",
       "\n",
       "             loyalty  estimated_salary  churn  \n",
       "credit_card                                    \n",
       "0               0.52         100974.40   0.21  \n",
       "1               0.51          99721.16   0.20  "
      ]
     },
     "execution_count": 41,
     "metadata": {},
     "output_type": "execute_result"
    }
   ],
   "source": [
    "# Воспользуемся группировкой по значеню credit_card\n",
    "bank_credit_card = bank_dataset.groupby('credit_card')\n",
    "bank_credit_card.mean().round(2)"
   ]
  },
  {
   "cell_type": "markdown",
   "id": "bb48d794",
   "metadata": {},
   "source": [
    "Распределение рейтинга, баланса, возраста, кол-ва объектов и продуктов примерно одинаковое. Отток примерно одинаков для обиех категорий. Средняя зарплата незначительно (на 1 тыс. руб.) выше у тех, у кого нет кредитной карты."
   ]
  },
  {
   "cell_type": "markdown",
   "id": "20d92372",
   "metadata": {},
   "source": [
    "### Распределение по зарплате\n",
    "\n",
    "На этапе предварительного анализа данных распределение по зарплате было достаточно равномерным. Проверим, нет ли по категориям клиентов с различной зарплатой существенных отличий по другим показателям.\n",
    "\n",
    "Разделим клиентов на категории по зарплате."
   ]
  },
  {
   "cell_type": "code",
   "execution_count": 42,
   "id": "b9e54d3e",
   "metadata": {},
   "outputs": [],
   "source": [
    "def salary(row):\n",
    "    \"\"\"Функция, категоризирующая клиентов по зарплате.\n",
    "    Функция принимает на вход колонку зарплаты,\n",
    "    выводит категорию.\n",
    "    \"\"\"\n",
    "    if (row['estimated_salary'] >= 50000 and row['estimated_salary'] <= 100000):\n",
    "        return 'от 50 до 100 тыс.'\n",
    "    if (row['estimated_salary'] > 100000 and row['estimated_salary'] <= 150000):\n",
    "        return 'от 100 до 150 тыс.'\n",
    "    if row['estimated_salary'] > 150000:\n",
    "        return 'более 150 тыс.'\n",
    "    else:\n",
    "        return 'до 50 тыс.'"
   ]
  },
  {
   "cell_type": "code",
   "execution_count": 43,
   "id": "cd95f262",
   "metadata": {},
   "outputs": [
    {
     "data": {
      "text/html": [
       "<div>\n",
       "<style scoped>\n",
       "    .dataframe tbody tr th:only-of-type {\n",
       "        vertical-align: middle;\n",
       "    }\n",
       "\n",
       "    .dataframe tbody tr th {\n",
       "        vertical-align: top;\n",
       "    }\n",
       "\n",
       "    .dataframe thead th {\n",
       "        text-align: right;\n",
       "    }\n",
       "</style>\n",
       "<table border=\"1\" class=\"dataframe\">\n",
       "  <thead>\n",
       "    <tr style=\"text-align: right;\">\n",
       "      <th></th>\n",
       "      <th>user_id</th>\n",
       "      <th>score</th>\n",
       "      <th>city</th>\n",
       "      <th>gender</th>\n",
       "      <th>age</th>\n",
       "      <th>objects</th>\n",
       "      <th>balance</th>\n",
       "      <th>products</th>\n",
       "      <th>credit_card</th>\n",
       "      <th>loyalty</th>\n",
       "      <th>estimated_salary</th>\n",
       "      <th>churn</th>\n",
       "      <th>salary_category</th>\n",
       "    </tr>\n",
       "  </thead>\n",
       "  <tbody>\n",
       "    <tr>\n",
       "      <td>0</td>\n",
       "      <td>15677338</td>\n",
       "      <td>619</td>\n",
       "      <td>Ярославль</td>\n",
       "      <td>Ж</td>\n",
       "      <td>42</td>\n",
       "      <td>2</td>\n",
       "      <td>NaN</td>\n",
       "      <td>1</td>\n",
       "      <td>1</td>\n",
       "      <td>1</td>\n",
       "      <td>101348.88</td>\n",
       "      <td>1</td>\n",
       "      <td>от 100 до 150 тыс.</td>\n",
       "    </tr>\n",
       "    <tr>\n",
       "      <td>1</td>\n",
       "      <td>15690047</td>\n",
       "      <td>608</td>\n",
       "      <td>Рыбинск</td>\n",
       "      <td>Ж</td>\n",
       "      <td>41</td>\n",
       "      <td>1</td>\n",
       "      <td>83807.86</td>\n",
       "      <td>1</td>\n",
       "      <td>0</td>\n",
       "      <td>1</td>\n",
       "      <td>112542.58</td>\n",
       "      <td>0</td>\n",
       "      <td>от 100 до 150 тыс.</td>\n",
       "    </tr>\n",
       "    <tr>\n",
       "      <td>2</td>\n",
       "      <td>15662040</td>\n",
       "      <td>502</td>\n",
       "      <td>Ярославль</td>\n",
       "      <td>Ж</td>\n",
       "      <td>42</td>\n",
       "      <td>8</td>\n",
       "      <td>159660.80</td>\n",
       "      <td>3</td>\n",
       "      <td>1</td>\n",
       "      <td>0</td>\n",
       "      <td>113931.57</td>\n",
       "      <td>1</td>\n",
       "      <td>от 100 до 150 тыс.</td>\n",
       "    </tr>\n",
       "    <tr>\n",
       "      <td>3</td>\n",
       "      <td>15744090</td>\n",
       "      <td>699</td>\n",
       "      <td>Ярославль</td>\n",
       "      <td>Ж</td>\n",
       "      <td>39</td>\n",
       "      <td>1</td>\n",
       "      <td>NaN</td>\n",
       "      <td>2</td>\n",
       "      <td>0</td>\n",
       "      <td>0</td>\n",
       "      <td>93826.63</td>\n",
       "      <td>0</td>\n",
       "      <td>от 50 до 100 тыс.</td>\n",
       "    </tr>\n",
       "    <tr>\n",
       "      <td>4</td>\n",
       "      <td>15780624</td>\n",
       "      <td>850</td>\n",
       "      <td>Рыбинск</td>\n",
       "      <td>Ж</td>\n",
       "      <td>43</td>\n",
       "      <td>2</td>\n",
       "      <td>125510.82</td>\n",
       "      <td>1</td>\n",
       "      <td>1</td>\n",
       "      <td>1</td>\n",
       "      <td>79084.10</td>\n",
       "      <td>0</td>\n",
       "      <td>от 50 до 100 тыс.</td>\n",
       "    </tr>\n",
       "  </tbody>\n",
       "</table>\n",
       "</div>"
      ],
      "text/plain": [
       "    user_id  score       city gender  age  objects    balance  products  \\\n",
       "0  15677338    619  Ярославль      Ж   42        2        NaN         1   \n",
       "1  15690047    608    Рыбинск      Ж   41        1   83807.86         1   \n",
       "2  15662040    502  Ярославль      Ж   42        8  159660.80         3   \n",
       "3  15744090    699  Ярославль      Ж   39        1        NaN         2   \n",
       "4  15780624    850    Рыбинск      Ж   43        2  125510.82         1   \n",
       "\n",
       "   credit_card  loyalty  estimated_salary  churn     salary_category  \n",
       "0            1        1         101348.88      1  от 100 до 150 тыс.  \n",
       "1            0        1         112542.58      0  от 100 до 150 тыс.  \n",
       "2            1        0         113931.57      1  от 100 до 150 тыс.  \n",
       "3            0        0          93826.63      0   от 50 до 100 тыс.  \n",
       "4            1        1          79084.10      0   от 50 до 100 тыс.  "
      ]
     },
     "execution_count": 43,
     "metadata": {},
     "output_type": "execute_result"
    }
   ],
   "source": [
    "# Добавляем категорию зарплаты\n",
    "bank_dataset['salary_category'] = bank_dataset.apply(salary, axis = 1)\n",
    "bank_dataset.head(5)"
   ]
  },
  {
   "cell_type": "code",
   "execution_count": 44,
   "id": "2a5ec2e0",
   "metadata": {},
   "outputs": [
    {
     "data": {
      "text/html": [
       "<div>\n",
       "<style scoped>\n",
       "    .dataframe tbody tr th:only-of-type {\n",
       "        vertical-align: middle;\n",
       "    }\n",
       "\n",
       "    .dataframe tbody tr th {\n",
       "        vertical-align: top;\n",
       "    }\n",
       "\n",
       "    .dataframe thead th {\n",
       "        text-align: right;\n",
       "    }\n",
       "</style>\n",
       "<table border=\"1\" class=\"dataframe\">\n",
       "  <thead>\n",
       "    <tr style=\"text-align: right;\">\n",
       "      <th></th>\n",
       "      <th>user_id</th>\n",
       "      <th>score</th>\n",
       "      <th>age</th>\n",
       "      <th>objects</th>\n",
       "      <th>balance</th>\n",
       "      <th>products</th>\n",
       "      <th>credit_card</th>\n",
       "      <th>loyalty</th>\n",
       "      <th>estimated_salary</th>\n",
       "      <th>churn</th>\n",
       "    </tr>\n",
       "    <tr>\n",
       "      <th>salary_category</th>\n",
       "      <th></th>\n",
       "      <th></th>\n",
       "      <th></th>\n",
       "      <th></th>\n",
       "      <th></th>\n",
       "      <th></th>\n",
       "      <th></th>\n",
       "      <th></th>\n",
       "      <th></th>\n",
       "      <th></th>\n",
       "    </tr>\n",
       "  </thead>\n",
       "  <tbody>\n",
       "    <tr>\n",
       "      <td>более 150 тыс.</td>\n",
       "      <td>15735519.02</td>\n",
       "      <td>651.99</td>\n",
       "      <td>38.76</td>\n",
       "      <td>5.02</td>\n",
       "      <td>119846.90</td>\n",
       "      <td>1.54</td>\n",
       "      <td>0.70</td>\n",
       "      <td>0.51</td>\n",
       "      <td>175443.73</td>\n",
       "      <td>0.21</td>\n",
       "    </tr>\n",
       "    <tr>\n",
       "      <td>до 50 тыс.</td>\n",
       "      <td>15731520.01</td>\n",
       "      <td>652.67</td>\n",
       "      <td>38.87</td>\n",
       "      <td>4.98</td>\n",
       "      <td>120078.34</td>\n",
       "      <td>1.52</td>\n",
       "      <td>0.71</td>\n",
       "      <td>0.52</td>\n",
       "      <td>24926.07</td>\n",
       "      <td>0.20</td>\n",
       "    </tr>\n",
       "    <tr>\n",
       "      <td>от 100 до 150 тыс.</td>\n",
       "      <td>15733120.42</td>\n",
       "      <td>648.16</td>\n",
       "      <td>38.78</td>\n",
       "      <td>5.04</td>\n",
       "      <td>119727.87</td>\n",
       "      <td>1.53</td>\n",
       "      <td>0.70</td>\n",
       "      <td>0.52</td>\n",
       "      <td>124900.25</td>\n",
       "      <td>0.20</td>\n",
       "    </tr>\n",
       "    <tr>\n",
       "      <td>от 50 до 100 тыс.</td>\n",
       "      <td>15734538.93</td>\n",
       "      <td>649.42</td>\n",
       "      <td>39.27</td>\n",
       "      <td>5.01</td>\n",
       "      <td>119671.29</td>\n",
       "      <td>1.53</td>\n",
       "      <td>0.71</td>\n",
       "      <td>0.52</td>\n",
       "      <td>74861.75</td>\n",
       "      <td>0.20</td>\n",
       "    </tr>\n",
       "  </tbody>\n",
       "</table>\n",
       "</div>"
      ],
      "text/plain": [
       "                        user_id   score    age  objects    balance  products  \\\n",
       "salary_category                                                                \n",
       "более 150 тыс.      15735519.02  651.99  38.76     5.02  119846.90      1.54   \n",
       "до 50 тыс.          15731520.01  652.67  38.87     4.98  120078.34      1.52   \n",
       "от 100 до 150 тыс.  15733120.42  648.16  38.78     5.04  119727.87      1.53   \n",
       "от 50 до 100 тыс.   15734538.93  649.42  39.27     5.01  119671.29      1.53   \n",
       "\n",
       "                    credit_card  loyalty  estimated_salary  churn  \n",
       "salary_category                                                    \n",
       "более 150 тыс.             0.70     0.51         175443.73   0.21  \n",
       "до 50 тыс.                 0.71     0.52          24926.07   0.20  \n",
       "от 100 до 150 тыс.         0.70     0.52         124900.25   0.20  \n",
       "от 50 до 100 тыс.          0.71     0.52          74861.75   0.20  "
      ]
     },
     "execution_count": 44,
     "metadata": {},
     "output_type": "execute_result"
    }
   ],
   "source": [
    "# Воспользуемся группировкой по значеню bank_salary_category\n",
    "bank_salary_category = bank_dataset.groupby('salary_category')\n",
    "bank_salary_category.mean().round(2)"
   ]
  },
  {
   "cell_type": "markdown",
   "id": "2c249c1b",
   "metadata": {},
   "source": [
    "Показатели у всех категорий клиентов примерно одинаковые, разбивка по зарплате не особенно информативна."
   ]
  },
  {
   "cell_type": "markdown",
   "id": "8f55deb5",
   "metadata": {},
   "source": [
    "### Распределение по возрасту\n",
    "\n",
    "Разделим клиентов на категории по возрасту."
   ]
  },
  {
   "cell_type": "code",
   "execution_count": 45,
   "id": "a7b2cd3e",
   "metadata": {},
   "outputs": [],
   "source": [
    "def age_categ(row):\n",
    "    \"\"\"Функция, категоризирующая клиентов по возрасту.\n",
    "    Функция принимает на вход колонку age,\n",
    "    выводит категорию возраста.\n",
    "    \"\"\"\n",
    "    if (row['age'] >= 30 and row['age'] <= 40):\n",
    "        return 'от 30 до 40 лет'\n",
    "    if (row['age'] > 40 and row['age'] <= 60):\n",
    "        return 'от 40 до 60 лет'\n",
    "    if row['age'] > 60:\n",
    "        return 'более 60 лет'\n",
    "    else:\n",
    "        return 'до 30 лет'"
   ]
  },
  {
   "cell_type": "code",
   "execution_count": 46,
   "id": "3365f8b5",
   "metadata": {},
   "outputs": [
    {
     "data": {
      "text/html": [
       "<div>\n",
       "<style scoped>\n",
       "    .dataframe tbody tr th:only-of-type {\n",
       "        vertical-align: middle;\n",
       "    }\n",
       "\n",
       "    .dataframe tbody tr th {\n",
       "        vertical-align: top;\n",
       "    }\n",
       "\n",
       "    .dataframe thead th {\n",
       "        text-align: right;\n",
       "    }\n",
       "</style>\n",
       "<table border=\"1\" class=\"dataframe\">\n",
       "  <thead>\n",
       "    <tr style=\"text-align: right;\">\n",
       "      <th></th>\n",
       "      <th>user_id</th>\n",
       "      <th>score</th>\n",
       "      <th>city</th>\n",
       "      <th>gender</th>\n",
       "      <th>age</th>\n",
       "      <th>objects</th>\n",
       "      <th>balance</th>\n",
       "      <th>products</th>\n",
       "      <th>credit_card</th>\n",
       "      <th>loyalty</th>\n",
       "      <th>estimated_salary</th>\n",
       "      <th>churn</th>\n",
       "      <th>salary_category</th>\n",
       "      <th>age_category</th>\n",
       "    </tr>\n",
       "  </thead>\n",
       "  <tbody>\n",
       "    <tr>\n",
       "      <td>0</td>\n",
       "      <td>15677338</td>\n",
       "      <td>619</td>\n",
       "      <td>Ярославль</td>\n",
       "      <td>Ж</td>\n",
       "      <td>42</td>\n",
       "      <td>2</td>\n",
       "      <td>NaN</td>\n",
       "      <td>1</td>\n",
       "      <td>1</td>\n",
       "      <td>1</td>\n",
       "      <td>101348.88</td>\n",
       "      <td>1</td>\n",
       "      <td>от 100 до 150 тыс.</td>\n",
       "      <td>от 40 до 60 лет</td>\n",
       "    </tr>\n",
       "    <tr>\n",
       "      <td>1</td>\n",
       "      <td>15690047</td>\n",
       "      <td>608</td>\n",
       "      <td>Рыбинск</td>\n",
       "      <td>Ж</td>\n",
       "      <td>41</td>\n",
       "      <td>1</td>\n",
       "      <td>83807.86</td>\n",
       "      <td>1</td>\n",
       "      <td>0</td>\n",
       "      <td>1</td>\n",
       "      <td>112542.58</td>\n",
       "      <td>0</td>\n",
       "      <td>от 100 до 150 тыс.</td>\n",
       "      <td>от 40 до 60 лет</td>\n",
       "    </tr>\n",
       "    <tr>\n",
       "      <td>2</td>\n",
       "      <td>15662040</td>\n",
       "      <td>502</td>\n",
       "      <td>Ярославль</td>\n",
       "      <td>Ж</td>\n",
       "      <td>42</td>\n",
       "      <td>8</td>\n",
       "      <td>159660.80</td>\n",
       "      <td>3</td>\n",
       "      <td>1</td>\n",
       "      <td>0</td>\n",
       "      <td>113931.57</td>\n",
       "      <td>1</td>\n",
       "      <td>от 100 до 150 тыс.</td>\n",
       "      <td>от 40 до 60 лет</td>\n",
       "    </tr>\n",
       "    <tr>\n",
       "      <td>3</td>\n",
       "      <td>15744090</td>\n",
       "      <td>699</td>\n",
       "      <td>Ярославль</td>\n",
       "      <td>Ж</td>\n",
       "      <td>39</td>\n",
       "      <td>1</td>\n",
       "      <td>NaN</td>\n",
       "      <td>2</td>\n",
       "      <td>0</td>\n",
       "      <td>0</td>\n",
       "      <td>93826.63</td>\n",
       "      <td>0</td>\n",
       "      <td>от 50 до 100 тыс.</td>\n",
       "      <td>от 30 до 40 лет</td>\n",
       "    </tr>\n",
       "    <tr>\n",
       "      <td>4</td>\n",
       "      <td>15780624</td>\n",
       "      <td>850</td>\n",
       "      <td>Рыбинск</td>\n",
       "      <td>Ж</td>\n",
       "      <td>43</td>\n",
       "      <td>2</td>\n",
       "      <td>125510.82</td>\n",
       "      <td>1</td>\n",
       "      <td>1</td>\n",
       "      <td>1</td>\n",
       "      <td>79084.10</td>\n",
       "      <td>0</td>\n",
       "      <td>от 50 до 100 тыс.</td>\n",
       "      <td>от 40 до 60 лет</td>\n",
       "    </tr>\n",
       "    <tr>\n",
       "      <td>...</td>\n",
       "      <td>...</td>\n",
       "      <td>...</td>\n",
       "      <td>...</td>\n",
       "      <td>...</td>\n",
       "      <td>...</td>\n",
       "      <td>...</td>\n",
       "      <td>...</td>\n",
       "      <td>...</td>\n",
       "      <td>...</td>\n",
       "      <td>...</td>\n",
       "      <td>...</td>\n",
       "      <td>...</td>\n",
       "      <td>...</td>\n",
       "      <td>...</td>\n",
       "    </tr>\n",
       "    <tr>\n",
       "      <td>9995</td>\n",
       "      <td>15648965</td>\n",
       "      <td>771</td>\n",
       "      <td>Ярославль</td>\n",
       "      <td>М</td>\n",
       "      <td>39</td>\n",
       "      <td>5</td>\n",
       "      <td>NaN</td>\n",
       "      <td>2</td>\n",
       "      <td>1</td>\n",
       "      <td>0</td>\n",
       "      <td>96270.64</td>\n",
       "      <td>0</td>\n",
       "      <td>от 50 до 100 тыс.</td>\n",
       "      <td>от 30 до 40 лет</td>\n",
       "    </tr>\n",
       "    <tr>\n",
       "      <td>9996</td>\n",
       "      <td>15612628</td>\n",
       "      <td>516</td>\n",
       "      <td>Ярославль</td>\n",
       "      <td>М</td>\n",
       "      <td>35</td>\n",
       "      <td>10</td>\n",
       "      <td>57369.61</td>\n",
       "      <td>1</td>\n",
       "      <td>1</td>\n",
       "      <td>1</td>\n",
       "      <td>101699.77</td>\n",
       "      <td>0</td>\n",
       "      <td>от 100 до 150 тыс.</td>\n",
       "      <td>от 30 до 40 лет</td>\n",
       "    </tr>\n",
       "    <tr>\n",
       "      <td>9997</td>\n",
       "      <td>15627268</td>\n",
       "      <td>709</td>\n",
       "      <td>Ярославль</td>\n",
       "      <td>Ж</td>\n",
       "      <td>36</td>\n",
       "      <td>7</td>\n",
       "      <td>NaN</td>\n",
       "      <td>1</td>\n",
       "      <td>0</td>\n",
       "      <td>1</td>\n",
       "      <td>42085.58</td>\n",
       "      <td>1</td>\n",
       "      <td>до 50 тыс.</td>\n",
       "      <td>от 30 до 40 лет</td>\n",
       "    </tr>\n",
       "    <tr>\n",
       "      <td>9998</td>\n",
       "      <td>15725091</td>\n",
       "      <td>772</td>\n",
       "      <td>Ростов Великий</td>\n",
       "      <td>М</td>\n",
       "      <td>42</td>\n",
       "      <td>3</td>\n",
       "      <td>75075.31</td>\n",
       "      <td>2</td>\n",
       "      <td>1</td>\n",
       "      <td>0</td>\n",
       "      <td>92888.52</td>\n",
       "      <td>1</td>\n",
       "      <td>от 50 до 100 тыс.</td>\n",
       "      <td>от 40 до 60 лет</td>\n",
       "    </tr>\n",
       "    <tr>\n",
       "      <td>9999</td>\n",
       "      <td>15671055</td>\n",
       "      <td>792</td>\n",
       "      <td>Ярославль</td>\n",
       "      <td>Ж</td>\n",
       "      <td>28</td>\n",
       "      <td>4</td>\n",
       "      <td>130142.79</td>\n",
       "      <td>1</td>\n",
       "      <td>1</td>\n",
       "      <td>0</td>\n",
       "      <td>38190.78</td>\n",
       "      <td>0</td>\n",
       "      <td>до 50 тыс.</td>\n",
       "      <td>до 30 лет</td>\n",
       "    </tr>\n",
       "  </tbody>\n",
       "</table>\n",
       "<p>10000 rows × 14 columns</p>\n",
       "</div>"
      ],
      "text/plain": [
       "       user_id  score            city gender  age  objects    balance  \\\n",
       "0     15677338    619       Ярославль      Ж   42        2        NaN   \n",
       "1     15690047    608         Рыбинск      Ж   41        1   83807.86   \n",
       "2     15662040    502       Ярославль      Ж   42        8  159660.80   \n",
       "3     15744090    699       Ярославль      Ж   39        1        NaN   \n",
       "4     15780624    850         Рыбинск      Ж   43        2  125510.82   \n",
       "...        ...    ...             ...    ...  ...      ...        ...   \n",
       "9995  15648965    771       Ярославль      М   39        5        NaN   \n",
       "9996  15612628    516       Ярославль      М   35       10   57369.61   \n",
       "9997  15627268    709       Ярославль      Ж   36        7        NaN   \n",
       "9998  15725091    772  Ростов Великий      М   42        3   75075.31   \n",
       "9999  15671055    792       Ярославль      Ж   28        4  130142.79   \n",
       "\n",
       "      products  credit_card  loyalty  estimated_salary  churn  \\\n",
       "0            1            1        1         101348.88      1   \n",
       "1            1            0        1         112542.58      0   \n",
       "2            3            1        0         113931.57      1   \n",
       "3            2            0        0          93826.63      0   \n",
       "4            1            1        1          79084.10      0   \n",
       "...        ...          ...      ...               ...    ...   \n",
       "9995         2            1        0          96270.64      0   \n",
       "9996         1            1        1         101699.77      0   \n",
       "9997         1            0        1          42085.58      1   \n",
       "9998         2            1        0          92888.52      1   \n",
       "9999         1            1        0          38190.78      0   \n",
       "\n",
       "         salary_category     age_category  \n",
       "0     от 100 до 150 тыс.  от 40 до 60 лет  \n",
       "1     от 100 до 150 тыс.  от 40 до 60 лет  \n",
       "2     от 100 до 150 тыс.  от 40 до 60 лет  \n",
       "3      от 50 до 100 тыс.  от 30 до 40 лет  \n",
       "4      от 50 до 100 тыс.  от 40 до 60 лет  \n",
       "...                  ...              ...  \n",
       "9995   от 50 до 100 тыс.  от 30 до 40 лет  \n",
       "9996  от 100 до 150 тыс.  от 30 до 40 лет  \n",
       "9997          до 50 тыс.  от 30 до 40 лет  \n",
       "9998   от 50 до 100 тыс.  от 40 до 60 лет  \n",
       "9999          до 50 тыс.        до 30 лет  \n",
       "\n",
       "[10000 rows x 14 columns]"
      ]
     },
     "execution_count": 46,
     "metadata": {},
     "output_type": "execute_result"
    }
   ],
   "source": [
    "# Добавляем категорию возраста\n",
    "bank_dataset['age_category'] = bank_dataset.apply(age_categ, axis = 1)\n",
    "bank_dataset"
   ]
  },
  {
   "cell_type": "code",
   "execution_count": 47,
   "id": "437bae5c",
   "metadata": {},
   "outputs": [
    {
     "data": {
      "text/html": [
       "<div>\n",
       "<style scoped>\n",
       "    .dataframe tbody tr th:only-of-type {\n",
       "        vertical-align: middle;\n",
       "    }\n",
       "\n",
       "    .dataframe tbody tr th {\n",
       "        vertical-align: top;\n",
       "    }\n",
       "\n",
       "    .dataframe thead th {\n",
       "        text-align: right;\n",
       "    }\n",
       "</style>\n",
       "<table border=\"1\" class=\"dataframe\">\n",
       "  <thead>\n",
       "    <tr style=\"text-align: right;\">\n",
       "      <th></th>\n",
       "      <th>user_id</th>\n",
       "      <th>score</th>\n",
       "      <th>age</th>\n",
       "      <th>objects</th>\n",
       "      <th>balance</th>\n",
       "      <th>products</th>\n",
       "      <th>credit_card</th>\n",
       "      <th>loyalty</th>\n",
       "      <th>estimated_salary</th>\n",
       "      <th>churn</th>\n",
       "    </tr>\n",
       "    <tr>\n",
       "      <th>age_category</th>\n",
       "      <th></th>\n",
       "      <th></th>\n",
       "      <th></th>\n",
       "      <th></th>\n",
       "      <th></th>\n",
       "      <th></th>\n",
       "      <th></th>\n",
       "      <th></th>\n",
       "      <th></th>\n",
       "      <th></th>\n",
       "    </tr>\n",
       "  </thead>\n",
       "  <tbody>\n",
       "    <tr>\n",
       "      <td>более 60 лет</td>\n",
       "      <td>15733672.72</td>\n",
       "      <td>654.55</td>\n",
       "      <td>67.51</td>\n",
       "      <td>4.91</td>\n",
       "      <td>118331.87</td>\n",
       "      <td>1.51</td>\n",
       "      <td>0.71</td>\n",
       "      <td>0.81</td>\n",
       "      <td>98126.18</td>\n",
       "      <td>0.25</td>\n",
       "    </tr>\n",
       "    <tr>\n",
       "      <td>до 30 лет</td>\n",
       "      <td>15732070.47</td>\n",
       "      <td>651.14</td>\n",
       "      <td>25.93</td>\n",
       "      <td>5.10</td>\n",
       "      <td>121181.96</td>\n",
       "      <td>1.56</td>\n",
       "      <td>0.71</td>\n",
       "      <td>0.51</td>\n",
       "      <td>100855.25</td>\n",
       "      <td>0.08</td>\n",
       "    </tr>\n",
       "    <tr>\n",
       "      <td>от 30 до 40 лет</td>\n",
       "      <td>15733908.78</td>\n",
       "      <td>651.40</td>\n",
       "      <td>35.18</td>\n",
       "      <td>5.01</td>\n",
       "      <td>119686.12</td>\n",
       "      <td>1.54</td>\n",
       "      <td>0.71</td>\n",
       "      <td>0.50</td>\n",
       "      <td>99558.38</td>\n",
       "      <td>0.12</td>\n",
       "    </tr>\n",
       "    <tr>\n",
       "      <td>от 40 до 60 лет</td>\n",
       "      <td>15734166.74</td>\n",
       "      <td>648.27</td>\n",
       "      <td>47.24</td>\n",
       "      <td>4.99</td>\n",
       "      <td>119595.78</td>\n",
       "      <td>1.51</td>\n",
       "      <td>0.69</td>\n",
       "      <td>0.50</td>\n",
       "      <td>100795.13</td>\n",
       "      <td>0.40</td>\n",
       "    </tr>\n",
       "  </tbody>\n",
       "</table>\n",
       "</div>"
      ],
      "text/plain": [
       "                     user_id   score    age  objects    balance  products  \\\n",
       "age_category                                                                \n",
       "более 60 лет     15733672.72  654.55  67.51     4.91  118331.87      1.51   \n",
       "до 30 лет        15732070.47  651.14  25.93     5.10  121181.96      1.56   \n",
       "от 30 до 40 лет  15733908.78  651.40  35.18     5.01  119686.12      1.54   \n",
       "от 40 до 60 лет  15734166.74  648.27  47.24     4.99  119595.78      1.51   \n",
       "\n",
       "                 credit_card  loyalty  estimated_salary  churn  \n",
       "age_category                                                    \n",
       "более 60 лет            0.71     0.81          98126.18   0.25  \n",
       "до 30 лет               0.71     0.51         100855.25   0.08  \n",
       "от 30 до 40 лет         0.71     0.50          99558.38   0.12  \n",
       "от 40 до 60 лет         0.69     0.50         100795.13   0.40  "
      ]
     },
     "execution_count": 47,
     "metadata": {},
     "output_type": "execute_result"
    }
   ],
   "source": [
    "# Воспользуемся группировкой по значеню age_category\n",
    "bank_age_category = bank_dataset.groupby('age_category')\n",
    "bank_age_category.mean().round(2)"
   ]
  },
  {
   "cell_type": "markdown",
   "id": "33d4f2ef",
   "metadata": {},
   "source": [
    "Интересно, что клиенты старше 60 лет, вероятно, получающие пенсию в банке, показывают самую высокую активность 81% и процент оттока 25%. Клиента от 40 до 60 лет имеют самый высокий процент оттока - 40%. Наименьший процент оттока у клиентов до 30 лет. Показатели кредитного скоринга выше у клиентов старше 60 лет."
   ]
  },
  {
   "cell_type": "code",
   "execution_count": 48,
   "id": "3c6c668c",
   "metadata": {},
   "outputs": [
    {
     "data": {
      "image/png": "[encoded data removed]",
      "text/plain": [
       "<Figure size 864x576 with 1 Axes>"
      ]
     },
     "metadata": {},
     "output_type": "display_data"
    }
   ],
   "source": [
    "# Построим график типа violin для распределения по количеству используемых продуктов и возрасту\n",
    "violin('age', \n",
    "       \"Распределение по возрасту\", \n",
    "       \"Возраст\")"
   ]
  },
  {
   "cell_type": "markdown",
   "id": "d04949e8",
   "metadata": {},
   "source": [
    "Видно, что оставшиеся клиенты, в среднем, моложе ушедших. Для клиентов, использующих 3 продукта, есть небольшое увеличение кол-ва клиентов после 60 лет, вероятно, получающих пенсию в банке. Клиенты, использующие 4 продукта, все ушли в отток."
   ]
  },
  {
   "cell_type": "markdown",
   "id": "3943d026",
   "metadata": {},
   "source": [
    "### Вывод\n",
    "\n",
    "Нет клиентов, которые использовали 4 продукта и остались. Для клиентов, использующих 3 продукта, показатель оттока 0.83 —  высокий показатель. \n",
    "\n",
    "Причина, по которой все клиенты, использующие 4 продукта, ушли, требует дополнительного выяснения. Возможно, клиенты, использующие более двух продуктов, ушли после закрытия кредитов, возможно, другой банк предложил более привлекательные ставки, что привело к рефинансированию и закрытию счетов.  Подобные клиенты живут в разных городах и имеют разброс по возрасту, зарплате и прочему, очевидного сходства нет. \n",
    "\n",
    "Для активных клиентов (loyalty = 1) процент оттока составил 14%, для неактивных 27%, если активность клиента падает, большая вероятность, что он уйдет.\n",
    "\n",
    "В Ростове средний показатель оттока по любому кол-ву продуктов почти в 2 раза выше, чем в соседних городах, причины этого требуют дальнейшего уточнения.\n",
    "\n",
    "Клиенты, по которым не предоставлено значений баланса, имеют более низкий показатель оттока, 10% против 20% у остальных. Также эти клиенты используют, в среднем, меньше продуктов, чем остальные. Возможно, отсутствует данный показатель, тк у клиента ипотека и нет дебетового счета, либо предоставлен кредит наличными. Возможна также ошибка с выгрузкой. \n",
    "\n",
    "Интересно, что клиенты старше 60 лет, вероятно, получающие пенсию в банке, показывают самую высокую активность 81% и процент оттока — 25%. Вероятно, самая высокая активность связана с ежемесячной выплатой пенсий. Клиенты от 40 до 60 лет имеют самый высокий процент оттока — 40%. Вероятно, некоторые из них прекратили получать зарплату в банке. Наименьший процент оттока у клиентов до 30 лет. Показатели кредитного скоринга выше у клиентов старше 60 лет.\n",
    "\n",
    "Оставшиеся клиенты, в среднем, моложе ушедших. Средний возраст ушедших клиентов выше: 45 против 37 лет."
   ]
  },
  {
   "cell_type": "markdown",
   "id": "1a75e761",
   "metadata": {},
   "source": [
    "## Проверка статистических гипотез\n",
    "\n",
    "Проверим следующие гипотезы: \n",
    "\n",
    "•\tДоход клиентов, которые пользуются двумя продуктами банка и клиентов, которые пользуются одним продуктом, отличаются;\n",
    "\n",
    "•\tДоли оттока клиентов из Рыбинска и Ярославля отличаются;\n",
    "\n",
    "Решаем вопрос о принятии или отвержении нулевой гипотезы по p-value, как вероятность ошибки при отклонении нулевой гипотезы. То есть, чем выше p-value тем скорее отклонение нулевой гипотезы будет ошибочным. Критический уровень статистической значимости примем за 5%, что означает, что мы допускаем 5% вероятность ошибки в полученном результате.\n",
    "При значениях p-value менее 0,05 следует признать, что можем отвергнуть нулевую гипотезу."
   ]
  },
  {
   "cell_type": "code",
   "execution_count": 49,
   "id": "67371a7a",
   "metadata": {},
   "outputs": [
    {
     "data": {
      "image/png": "[encoded data removed]",
      "text/plain": [
       "<Figure size 720x504 with 1 Axes>"
      ]
     },
     "metadata": {},
     "output_type": "display_data"
    }
   ],
   "source": [
    "# Гистограмма распределения дохода клиентов для тех, кто пользуется одним продуктом и двумя\n",
    "hist_2_(bank_dataset.query('products == 1'), \n",
    "        bank_dataset.query('products == 2'), \n",
    "        'estimated_salary', \n",
    "        title = \"Зарплата для клиентов с одним продуктом и двумя\", \n",
    "        label1=\"1 продукт\", \n",
    "        label2=\"2 продукта\")"
   ]
  },
  {
   "cell_type": "markdown",
   "id": "f88c7d62",
   "metadata": {},
   "source": [
    "Данные распределены не нормально, распределение равномерное.\n",
    "Поэтому проверим гипотезы о схожести распределения выборок, применяя U-критерий Манна-Уитни."
   ]
  },
  {
   "cell_type": "markdown",
   "id": "adc3b52e",
   "metadata": {},
   "source": [
    "**Нулевая гипотеза:** \n",
    "Распределение зарплат клиентов, использующих 1 продукт, соответствует распределению зарплат клиентов, использующих 2 продукта.\n",
    "\n",
    "**Альтернативная гипотеза:**  Распределение зарплат клиентов, использующих 1 продукт, не соответствует распределению зарплат клиентов, использующих 2 продукта."
   ]
  },
  {
   "cell_type": "code",
   "execution_count": 50,
   "id": "4cc99eec",
   "metadata": {},
   "outputs": [
    {
     "name": "stdout",
     "output_type": "stream",
     "text": [
      "p-значение: 0.20397833259638254\n",
      "Не получилось отвергнуть нулевую гипотезу\n"
     ]
    }
   ],
   "source": [
    "alpha = 0.05  # критический уровень статистической значимости\n",
    "# если p-value окажется меньше него - отвергнем гипотезу\n",
    "\n",
    "results = st.mannwhitneyu(bank_dataset.query('products == 1')['estimated_salary'], \n",
    "                       bank_dataset.query('products == 2')['estimated_salary'])\n",
    "\n",
    "print('p-значение:', results.pvalue)\n",
    "\n",
    "if results.pvalue < alpha:\n",
    "    print('Отвергаем нулевую гипотезу: разница статистически значима')\n",
    "else:\n",
    "    print('Не получилось отвергнуть нулевую гипотезу') "
   ]
  },
  {
   "cell_type": "markdown",
   "id": "35220b58",
   "metadata": {},
   "source": [
    "Нет оснований отвергать нулевую гипотезу, что распределение зарплат клиентов, использующих 1 продукт соответствует распределению зарплат клиентов, использующих 2 продукта."
   ]
  },
  {
   "cell_type": "markdown",
   "id": "99d9e739",
   "metadata": {},
   "source": [
    "**Нулевая гипотеза:** Доля оттока клиентов из Рыбинска равна доле оттока из Ярославля.\n",
    "\n",
    "**Альтернативная гипотеза:**  Доля оттока клиентов из Рыбинска не равна доле оттока из Ярославля.\n",
    "\n",
    "Сравним доли клиентов, ушедших в отток по городам.\n",
    "\n",
    "Предварительно посмотрим на сводную таблицу оттока по городам."
   ]
  },
  {
   "cell_type": "code",
   "execution_count": 51,
   "id": "f7ab220e",
   "metadata": {},
   "outputs": [
    {
     "data": {
      "text/html": [
       "<div>\n",
       "<style scoped>\n",
       "    .dataframe tbody tr th:only-of-type {\n",
       "        vertical-align: middle;\n",
       "    }\n",
       "\n",
       "    .dataframe tbody tr th {\n",
       "        vertical-align: top;\n",
       "    }\n",
       "\n",
       "    .dataframe thead th {\n",
       "        text-align: right;\n",
       "    }\n",
       "</style>\n",
       "<table border=\"1\" class=\"dataframe\">\n",
       "  <thead>\n",
       "    <tr style=\"text-align: right;\">\n",
       "      <th></th>\n",
       "      <th>churn</th>\n",
       "    </tr>\n",
       "    <tr>\n",
       "      <th>city</th>\n",
       "      <th></th>\n",
       "    </tr>\n",
       "  </thead>\n",
       "  <tbody>\n",
       "    <tr>\n",
       "      <td>Ростов Великий</td>\n",
       "      <td>0.32</td>\n",
       "    </tr>\n",
       "    <tr>\n",
       "      <td>Рыбинск</td>\n",
       "      <td>0.17</td>\n",
       "    </tr>\n",
       "    <tr>\n",
       "      <td>Ярославль</td>\n",
       "      <td>0.16</td>\n",
       "    </tr>\n",
       "  </tbody>\n",
       "</table>\n",
       "</div>"
      ],
      "text/plain": [
       "                churn\n",
       "city                 \n",
       "Ростов Великий   0.32\n",
       "Рыбинск          0.17\n",
       "Ярославль        0.16"
      ]
     },
     "execution_count": 51,
     "metadata": {},
     "output_type": "execute_result"
    }
   ],
   "source": [
    "# Сводная таблица по городам и кол-ву продуктов, значения - отток\n",
    "bank_gr_ch = bank_dataset.pivot_table(index = 'city', values='churn', aggfunc='mean' )\n",
    "bank_gr_ch.round(2)"
   ]
  },
  {
   "cell_type": "markdown",
   "id": "98990b2d",
   "metadata": {},
   "source": [
    "Значения оттока по Рыбинску и Ярославлю похожи. Проверим, такая разница в пропорциях достаточна ли, чтобы говорить о статистически значимом различии. "
   ]
  },
  {
   "cell_type": "code",
   "execution_count": 52,
   "id": "0f49a39e",
   "metadata": {},
   "outputs": [
    {
     "name": "stdout",
     "output_type": "stream",
     "text": [
      "p-значение:  0.5677610235238439\n",
      "Не получилось отвергнуть нулевую гипотезу, нет оснований считать доли разными\n"
     ]
    }
   ],
   "source": [
    "alpha = 0.05  # критический уровень статистической значимости\n",
    "\n",
    "# пропорция оттока в Ростове:\n",
    "p1 = bank_dataset.query('city == \"Ярославль\"')['churn'].mean()\n",
    "# пропорция оттока в Рыбинске:\n",
    "p2 = bank_dataset.query('city == \"Рыбинск\"')['churn'].mean()\n",
    "\n",
    "# пропорция оттока в комбинированном датасете:\n",
    "p_combined = len(bank_dataset.query('city != \"Ростов Великий\" & churn == 1')['churn'])/len(bank_dataset.query('city != \"Ростов Великий\"')['churn'])\n",
    "# разница пропорций в датасетах\n",
    "difference = p1 - p2 \n",
    "\n",
    "# считаем статистику в ст.отклонениях стандартного нормального распределения\n",
    "z_value = difference / mth.sqrt(p_combined * (1 - p_combined) * (1/len(bank_dataset.query('city == \"Рыбинск\"')['churn']) + 1/len(bank_dataset.query('city == \"Ярославль\"')['churn'])))\n",
    "\n",
    "# задаем стандартное нормальное распределение (среднее 0, ст.отклонение 1)\n",
    "distr = st.norm(0, 1)\n",
    "# считаем p_value\n",
    "p_value = (1 - distr.cdf(abs(z_value))) * 2\n",
    "print('p-значение: ', p_value)\n",
    "if p_value < alpha:\n",
    "    print('Отвергаем нулевую гипотезу: между долями есть значимая разница')\n",
    "else:\n",
    "    print( 'Не получилось отвергнуть нулевую гипотезу, нет оснований считать доли разными' )"
   ]
  },
  {
   "cell_type": "markdown",
   "id": "09e98abd",
   "metadata": {},
   "source": [
    "Разница между процентами оттока 0,16 и 0,17 не оказалась статистически значимой. Нет оснований считать, что доли оттока в городах существенно отличаются."
   ]
  },
  {
   "cell_type": "markdown",
   "id": "da4ff17f",
   "metadata": {},
   "source": [
    "### Вывод\n",
    "\n",
    "Результаты статистических тестов не противоречат гипотезе, что доли оттока в городах Ярославль и Рыбинск одинаковы.\n",
    "\n",
    "Нельзя отвергнуть гипотезу, что распределение зарплаты клиентов, которые пользуются одним продуктами банка равно распределению  зарплаты клиентов, которые пользуются двумя продуктами банка."
   ]
  },
  {
   "cell_type": "markdown",
   "id": "d6c23d27",
   "metadata": {},
   "source": [
    "## Модель прогнозирования оттока пользователей"
   ]
  },
  {
   "cell_type": "markdown",
   "id": "eab5b102",
   "metadata": {},
   "source": [
    "Построим модель бинарной классификации пользователей, где целевой признак — факт оттока пользователя.\n",
    "Для начала построим матрицу корреляций."
   ]
  },
  {
   "cell_type": "code",
   "execution_count": 53,
   "id": "305a51ed",
   "metadata": {},
   "outputs": [
    {
     "data": {
      "text/html": [
       "<div>\n",
       "<style scoped>\n",
       "    .dataframe tbody tr th:only-of-type {\n",
       "        vertical-align: middle;\n",
       "    }\n",
       "\n",
       "    .dataframe tbody tr th {\n",
       "        vertical-align: top;\n",
       "    }\n",
       "\n",
       "    .dataframe thead th {\n",
       "        text-align: right;\n",
       "    }\n",
       "</style>\n",
       "<table border=\"1\" class=\"dataframe\">\n",
       "  <thead>\n",
       "    <tr style=\"text-align: right;\">\n",
       "      <th></th>\n",
       "      <th>user_id</th>\n",
       "      <th>score</th>\n",
       "      <th>age</th>\n",
       "      <th>objects</th>\n",
       "      <th>balance</th>\n",
       "      <th>products</th>\n",
       "      <th>credit_card</th>\n",
       "      <th>loyalty</th>\n",
       "      <th>estimated_salary</th>\n",
       "      <th>churn</th>\n",
       "    </tr>\n",
       "  </thead>\n",
       "  <tbody>\n",
       "    <tr>\n",
       "      <td>user_id</td>\n",
       "      <td>1.000000</td>\n",
       "      <td>0.005308</td>\n",
       "      <td>0.009497</td>\n",
       "      <td>-0.014883</td>\n",
       "      <td>-0.008690</td>\n",
       "      <td>0.016972</td>\n",
       "      <td>-0.014025</td>\n",
       "      <td>0.001665</td>\n",
       "      <td>0.015271</td>\n",
       "      <td>-0.006248</td>\n",
       "    </tr>\n",
       "    <tr>\n",
       "      <td>score</td>\n",
       "      <td>0.005308</td>\n",
       "      <td>1.000000</td>\n",
       "      <td>-0.003965</td>\n",
       "      <td>0.000842</td>\n",
       "      <td>-0.004744</td>\n",
       "      <td>0.012238</td>\n",
       "      <td>-0.005458</td>\n",
       "      <td>0.025651</td>\n",
       "      <td>-0.001384</td>\n",
       "      <td>-0.027094</td>\n",
       "    </tr>\n",
       "    <tr>\n",
       "      <td>age</td>\n",
       "      <td>0.009497</td>\n",
       "      <td>-0.003965</td>\n",
       "      <td>1.000000</td>\n",
       "      <td>-0.009997</td>\n",
       "      <td>-0.012822</td>\n",
       "      <td>-0.030680</td>\n",
       "      <td>-0.011721</td>\n",
       "      <td>0.085472</td>\n",
       "      <td>-0.007201</td>\n",
       "      <td>0.285323</td>\n",
       "    </tr>\n",
       "    <tr>\n",
       "      <td>objects</td>\n",
       "      <td>-0.014883</td>\n",
       "      <td>0.000842</td>\n",
       "      <td>-0.009997</td>\n",
       "      <td>1.000000</td>\n",
       "      <td>0.005827</td>\n",
       "      <td>0.013444</td>\n",
       "      <td>0.022583</td>\n",
       "      <td>-0.028362</td>\n",
       "      <td>0.007784</td>\n",
       "      <td>-0.014001</td>\n",
       "    </tr>\n",
       "    <tr>\n",
       "      <td>balance</td>\n",
       "      <td>-0.008690</td>\n",
       "      <td>-0.004744</td>\n",
       "      <td>-0.012822</td>\n",
       "      <td>0.005827</td>\n",
       "      <td>1.000000</td>\n",
       "      <td>-0.001027</td>\n",
       "      <td>0.006721</td>\n",
       "      <td>-0.020418</td>\n",
       "      <td>-0.001856</td>\n",
       "      <td>0.017208</td>\n",
       "    </tr>\n",
       "    <tr>\n",
       "      <td>products</td>\n",
       "      <td>0.016972</td>\n",
       "      <td>0.012238</td>\n",
       "      <td>-0.030680</td>\n",
       "      <td>0.013444</td>\n",
       "      <td>-0.001027</td>\n",
       "      <td>1.000000</td>\n",
       "      <td>0.003183</td>\n",
       "      <td>0.009612</td>\n",
       "      <td>0.014204</td>\n",
       "      <td>-0.047820</td>\n",
       "    </tr>\n",
       "    <tr>\n",
       "      <td>credit_card</td>\n",
       "      <td>-0.014025</td>\n",
       "      <td>-0.005458</td>\n",
       "      <td>-0.011721</td>\n",
       "      <td>0.022583</td>\n",
       "      <td>0.006721</td>\n",
       "      <td>0.003183</td>\n",
       "      <td>1.000000</td>\n",
       "      <td>-0.011866</td>\n",
       "      <td>-0.009933</td>\n",
       "      <td>-0.007138</td>\n",
       "    </tr>\n",
       "    <tr>\n",
       "      <td>loyalty</td>\n",
       "      <td>0.001665</td>\n",
       "      <td>0.025651</td>\n",
       "      <td>0.085472</td>\n",
       "      <td>-0.028362</td>\n",
       "      <td>-0.020418</td>\n",
       "      <td>0.009612</td>\n",
       "      <td>-0.011866</td>\n",
       "      <td>1.000000</td>\n",
       "      <td>-0.011421</td>\n",
       "      <td>-0.156128</td>\n",
       "    </tr>\n",
       "    <tr>\n",
       "      <td>estimated_salary</td>\n",
       "      <td>0.015271</td>\n",
       "      <td>-0.001384</td>\n",
       "      <td>-0.007201</td>\n",
       "      <td>0.007784</td>\n",
       "      <td>-0.001856</td>\n",
       "      <td>0.014204</td>\n",
       "      <td>-0.009933</td>\n",
       "      <td>-0.011421</td>\n",
       "      <td>1.000000</td>\n",
       "      <td>0.012097</td>\n",
       "    </tr>\n",
       "    <tr>\n",
       "      <td>churn</td>\n",
       "      <td>-0.006248</td>\n",
       "      <td>-0.027094</td>\n",
       "      <td>0.285323</td>\n",
       "      <td>-0.014001</td>\n",
       "      <td>0.017208</td>\n",
       "      <td>-0.047820</td>\n",
       "      <td>-0.007138</td>\n",
       "      <td>-0.156128</td>\n",
       "      <td>0.012097</td>\n",
       "      <td>1.000000</td>\n",
       "    </tr>\n",
       "  </tbody>\n",
       "</table>\n",
       "</div>"
      ],
      "text/plain": [
       "                   user_id     score       age   objects   balance  products  \\\n",
       "user_id           1.000000  0.005308  0.009497 -0.014883 -0.008690  0.016972   \n",
       "score             0.005308  1.000000 -0.003965  0.000842 -0.004744  0.012238   \n",
       "age               0.009497 -0.003965  1.000000 -0.009997 -0.012822 -0.030680   \n",
       "objects          -0.014883  0.000842 -0.009997  1.000000  0.005827  0.013444   \n",
       "balance          -0.008690 -0.004744 -0.012822  0.005827  1.000000 -0.001027   \n",
       "products          0.016972  0.012238 -0.030680  0.013444 -0.001027  1.000000   \n",
       "credit_card      -0.014025 -0.005458 -0.011721  0.022583  0.006721  0.003183   \n",
       "loyalty           0.001665  0.025651  0.085472 -0.028362 -0.020418  0.009612   \n",
       "estimated_salary  0.015271 -0.001384 -0.007201  0.007784 -0.001856  0.014204   \n",
       "churn            -0.006248 -0.027094  0.285323 -0.014001  0.017208 -0.047820   \n",
       "\n",
       "                  credit_card   loyalty  estimated_salary     churn  \n",
       "user_id             -0.014025  0.001665          0.015271 -0.006248  \n",
       "score               -0.005458  0.025651         -0.001384 -0.027094  \n",
       "age                 -0.011721  0.085472         -0.007201  0.285323  \n",
       "objects              0.022583 -0.028362          0.007784 -0.014001  \n",
       "balance              0.006721 -0.020418         -0.001856  0.017208  \n",
       "products             0.003183  0.009612          0.014204 -0.047820  \n",
       "credit_card          1.000000 -0.011866         -0.009933 -0.007138  \n",
       "loyalty             -0.011866  1.000000         -0.011421 -0.156128  \n",
       "estimated_salary    -0.009933 -0.011421          1.000000  0.012097  \n",
       "churn               -0.007138 -0.156128          0.012097  1.000000  "
      ]
     },
     "execution_count": 53,
     "metadata": {},
     "output_type": "execute_result"
    }
   ],
   "source": [
    "cm = bank_dataset.corr()\n",
    "cm"
   ]
  },
  {
   "cell_type": "code",
   "execution_count": 54,
   "id": "57c046ba",
   "metadata": {},
   "outputs": [
    {
     "data": {
      "image/png": "[encoded data removed]",
      "text/plain": [
       "<Figure size 1224x720 with 2 Axes>"
      ]
     },
     "metadata": {},
     "output_type": "display_data"
    }
   ],
   "source": [
    "# Тепловая карта  \n",
    "plt.figure(figsize=(17, 10))\n",
    "ax = sns.heatmap(cm, annot=True, fmt='.2f', cmap= \"icefire\")\n",
    "ax.set_title('Матрица корреляции признаков', fontsize = 20, pad=20)\n",
    "ax.set_ylabel('')\n",
    "ax.set_xlabel('')\n",
    "plt.show()"
   ]
  },
  {
   "cell_type": "markdown",
   "id": "21cbfd5c",
   "metadata": {},
   "source": [
    "Нет сильной корреляции признаков, нет необходимости убирать признаки."
   ]
  },
  {
   "cell_type": "code",
   "execution_count": 55,
   "id": "0611091c",
   "metadata": {},
   "outputs": [],
   "source": [
    "bank_model = bank_dataset.copy()"
   ]
  },
  {
   "cell_type": "code",
   "execution_count": 56,
   "id": "cab7144f",
   "metadata": {},
   "outputs": [],
   "source": [
    "bank_model = bank_model.drop(['salary_category', 'age_category', 'gender', 'city', 'balance'], axis = 1)"
   ]
  },
  {
   "cell_type": "code",
   "execution_count": 57,
   "id": "d60df2b4",
   "metadata": {},
   "outputs": [
    {
     "name": "stdout",
     "output_type": "stream",
     "text": [
      "Соотношение классов:\n",
      " 0    7963\n",
      "1    2037\n",
      "Name: churn, dtype: int64\n"
     ]
    }
   ],
   "source": [
    "# посмотрим, как соотносятся классы набора данных\n",
    "print('Соотношение классов:\\n', bank_model['churn'].value_counts())"
   ]
  },
  {
   "cell_type": "code",
   "execution_count": 58,
   "id": "6038e531",
   "metadata": {},
   "outputs": [],
   "source": [
    "# разделим наши данные на признаки (матрица X) и целевую переменную (y)\n",
    "X = bank_model.drop('churn', axis=1)\n",
    "y = bank_model['churn']"
   ]
  },
  {
   "cell_type": "code",
   "execution_count": 59,
   "id": "ce96a7bc",
   "metadata": {},
   "outputs": [],
   "source": [
    "# разделяем модель на обучающую и валидационную выборку\n",
    "X_train, X_test, y_train, y_test = train_test_split(X, y, test_size=0.2, random_state=0)"
   ]
  },
  {
   "cell_type": "code",
   "execution_count": 60,
   "id": "76906502",
   "metadata": {},
   "outputs": [],
   "source": [
    "# Стандартизируем данные\n",
    "sc = StandardScaler()\n",
    "#обучаем scaler и одновременно трансформируем матрицу для обучающей выборки\n",
    "X_train_st = sc.fit_transform(X_train)  \n",
    "#применяем стандартизацию к матрице признаков для тестовой выборки\n",
    "X_test_st = sc.transform(X_test) #ваш код здесь"
   ]
  },
  {
   "cell_type": "code",
   "execution_count": 61,
   "id": "e554dca4",
   "metadata": {},
   "outputs": [],
   "source": [
    "# функция описания метрик \n",
    "def metrics_1(y_test, y_pred):\n",
    "    \"\"\"Функция, выводящая метрики оценки модели.\n",
    "    Функция принимает на входy_test, y_pred,\n",
    "    выводит значения метрик.\n",
    "    \"\"\"\n",
    "    print('Accuracy: {:.2f}'.format(accuracy_score(y_test, y_pred)))\n",
    "    print('Precision: {:.2f}'.format(precision_score(y_test, y_pred)))\n",
    "    print('Recall: {:.2f}'.format(recall_score(y_test, y_pred)))"
   ]
  },
  {
   "cell_type": "markdown",
   "id": "2f0f80a4",
   "metadata": {},
   "source": [
    "Мы решаем задачу бинарной классификации и самой важной метрикой можем признать precision - точность предсказания. Для решения задач бинарной классификации можно использовать несколько алгоритмов, проверим по метрикам, какой из них дает наиболее точные предсказания. "
   ]
  },
  {
   "cell_type": "code",
   "execution_count": 62,
   "id": "1eb964d6",
   "metadata": {},
   "outputs": [
    {
     "name": "stdout",
     "output_type": "stream",
     "text": [
      "Метрики при использовании RandomForestClassifier:\n",
      "Accuracy: 0.85\n",
      "Precision: 0.70\n",
      "Recall: 0.41\n"
     ]
    }
   ],
   "source": [
    "# RandomForestClassifier\n",
    "model = RandomForestClassifier(random_state=0)\n",
    "model.fit(X_train_st, y_train)\n",
    "y_pred = model.predict(X_test_st)\n",
    "threshold = 0.5\n",
    "y_pred = [0 if i < threshold else 1 for i in y_pred]\n",
    "print('Метрики при использовании RandomForestClassifier:')\n",
    "metrics_1(y_test, y_pred)"
   ]
  },
  {
   "cell_type": "code",
   "execution_count": 63,
   "id": "c195cb16",
   "metadata": {},
   "outputs": [
    {
     "name": "stdout",
     "output_type": "stream",
     "text": [
      "Метрики при использовании LogisticRegression:\n",
      "Accuracy: 0.80\n",
      "Precision: 0.56\n",
      "Recall: 0.13\n"
     ]
    }
   ],
   "source": [
    "# LogisticRegression\n",
    "model = LogisticRegression(random_state=0)\n",
    "model.fit(X_train_st, y_train)\n",
    "y_pred = model.predict(X_test_st)\n",
    "print('Метрики при использовании LogisticRegression:')\n",
    "metrics_1(y_test, y_pred)"
   ]
  },
  {
   "cell_type": "code",
   "execution_count": 64,
   "id": "db45cd80",
   "metadata": {},
   "outputs": [
    {
     "name": "stdout",
     "output_type": "stream",
     "text": [
      "Метрики при использовании DecisionTreeClassifier:\n",
      "Accuracy: 0.78\n",
      "Precision: 0.46\n",
      "Recall: 0.49\n"
     ]
    }
   ],
   "source": [
    "# DecisionTreeClassifier\n",
    "model = DecisionTreeClassifier(random_state=0)\n",
    "model.fit(X_train_st, y_train)\n",
    "y_pred = model.predict(X_test_st)\n",
    "print('Метрики при использовании DecisionTreeClassifier:')\n",
    "metrics_1(y_test, y_pred)"
   ]
  },
  {
   "cell_type": "code",
   "execution_count": 65,
   "id": "2f7b64f1",
   "metadata": {},
   "outputs": [
    {
     "name": "stdout",
     "output_type": "stream",
     "text": [
      "Метрики при использовании GradientBoostingClassifier:\n",
      "Accuracy: 0.86\n",
      "Precision: 0.75\n",
      "Recall: 0.46\n"
     ]
    }
   ],
   "source": [
    "# GradientBoostingClassifier\n",
    "model = GradientBoostingClassifier(n_estimators=100, random_state = 0) \n",
    "model.fit(X_train_st, y_train)\n",
    "y_pred = model.predict(X_test_st)\n",
    "print('Метрики при использовании GradientBoostingClassifier:')\n",
    "metrics_1(y_test, y_pred)"
   ]
  },
  {
   "cell_type": "markdown",
   "id": "12dc6541",
   "metadata": {},
   "source": [
    "Наилучшие показатели точности у GradientBoostingClassifier. Оценим важность признаков."
   ]
  },
  {
   "cell_type": "code",
   "execution_count": 66,
   "id": "a00c00d7",
   "metadata": {},
   "outputs": [
    {
     "data": {
      "text/html": [
       "<style  type=\"text/css\" >\n",
       "</style><table id=\"T_bdbe31e4_407b_11ec_b0f6_02420a396788\" ><thead>    <tr>        <th class=\"blank level0\" ></th>        <th class=\"col_heading level0 col0\" >0</th>    </tr></thead><tbody>\n",
       "                <tr>\n",
       "                        <th id=\"T_bdbe31e4_407b_11ec_b0f6_02420a396788level0_row0\" class=\"row_heading level0 row0\" >age</th>\n",
       "                        <td id=\"T_bdbe31e4_407b_11ec_b0f6_02420a396788row0_col0\" class=\"data row0 col0\" >0.45</td>\n",
       "            </tr>\n",
       "            <tr>\n",
       "                        <th id=\"T_bdbe31e4_407b_11ec_b0f6_02420a396788level0_row1\" class=\"row_heading level0 row1\" >products</th>\n",
       "                        <td id=\"T_bdbe31e4_407b_11ec_b0f6_02420a396788row1_col0\" class=\"data row1 col0\" >0.34</td>\n",
       "            </tr>\n",
       "            <tr>\n",
       "                        <th id=\"T_bdbe31e4_407b_11ec_b0f6_02420a396788level0_row2\" class=\"row_heading level0 row2\" >loyalty</th>\n",
       "                        <td id=\"T_bdbe31e4_407b_11ec_b0f6_02420a396788row2_col0\" class=\"data row2 col0\" >0.13</td>\n",
       "            </tr>\n",
       "            <tr>\n",
       "                        <th id=\"T_bdbe31e4_407b_11ec_b0f6_02420a396788level0_row3\" class=\"row_heading level0 row3\" >user_id</th>\n",
       "                        <td id=\"T_bdbe31e4_407b_11ec_b0f6_02420a396788row3_col0\" class=\"data row3 col0\" >0.03</td>\n",
       "            </tr>\n",
       "            <tr>\n",
       "                        <th id=\"T_bdbe31e4_407b_11ec_b0f6_02420a396788level0_row4\" class=\"row_heading level0 row4\" >score</th>\n",
       "                        <td id=\"T_bdbe31e4_407b_11ec_b0f6_02420a396788row4_col0\" class=\"data row4 col0\" >0.03</td>\n",
       "            </tr>\n",
       "            <tr>\n",
       "                        <th id=\"T_bdbe31e4_407b_11ec_b0f6_02420a396788level0_row5\" class=\"row_heading level0 row5\" >estimated_salary</th>\n",
       "                        <td id=\"T_bdbe31e4_407b_11ec_b0f6_02420a396788row5_col0\" class=\"data row5 col0\" >0.03</td>\n",
       "            </tr>\n",
       "            <tr>\n",
       "                        <th id=\"T_bdbe31e4_407b_11ec_b0f6_02420a396788level0_row6\" class=\"row_heading level0 row6\" >objects</th>\n",
       "                        <td id=\"T_bdbe31e4_407b_11ec_b0f6_02420a396788row6_col0\" class=\"data row6 col0\" >0.01</td>\n",
       "            </tr>\n",
       "            <tr>\n",
       "                        <th id=\"T_bdbe31e4_407b_11ec_b0f6_02420a396788level0_row7\" class=\"row_heading level0 row7\" >credit_card</th>\n",
       "                        <td id=\"T_bdbe31e4_407b_11ec_b0f6_02420a396788row7_col0\" class=\"data row7 col0\" >0.00</td>\n",
       "            </tr>\n",
       "    </tbody></table>"
      ],
      "text/plain": [
       "<pandas.io.formats.style.Styler at 0x7f5a304a92d0>"
      ]
     },
     "execution_count": 66,
     "metadata": {},
     "output_type": "execute_result"
    }
   ],
   "source": [
    "# Важность признаков\n",
    "importances =  pd.DataFrame([model.feature_importances_])\n",
    "importances.columns = bank_model.columns[:8]\n",
    "importances = importances.T.sort_values(by=0, ascending = False)\n",
    "importances.style.format({(0):'{:.2f}'})"
   ]
  },
  {
   "cell_type": "markdown",
   "id": "20cc345a",
   "metadata": {},
   "source": [
    "Коэффициенты важности признаков показывают, что самым важным признаком является возраст клиентов, далее идет кол-во применяемых продуктов и на третьем месте активность клиентов."
   ]
  },
  {
   "cell_type": "markdown",
   "id": "8a2116ea",
   "metadata": {},
   "source": [
    "### Вывод\n",
    "\n",
    "Наилучшие показатели точности у GradientBoostingClassifier с коэффициентом точности Precision = 0,75. \n",
    "\n",
    "Надо отметить, что данные, предоставленные для работы, содержали довольно равномерное распредение зарплаты и количества объектов, вероятно, являясь выборкой по определенным показателям. Результаты обучения модели с более полным датасетом могли отличаться. \n",
    "\n",
    "По предоставленным данным, коэффициенты важности признаков показывают, что самым важным признаком является возраст клиентов, далее идет кол-во применяемых продуктов и на третьем месте активность клиентов. Результаты работы модели подтверждают данные, полученный на первом этапе исследования, а именно, что самыми важными для показателя оттока можно считать возраст, количество используемых продуктов и активность клиента."
   ]
  },
  {
   "cell_type": "markdown",
   "id": "7d5f338e",
   "metadata": {},
   "source": [
    "## Вывод\n",
    "\n",
    "Проанализированы данные о клиентах регионального банка.\n",
    "Существенная предобработка данных не потребовалась. \n",
    "\n",
    "По представленному датасету:\n",
    "- примерно половина клиентов — из Ярославля, по четверти — из Рыбинска и Ростова Великого;\n",
    "- мужчин в датасете 55%, женщин 45%;\n",
    "- примерно 70% используют кредитную карту;\n",
    "- примерно половина клиентов использует только 1 продукт;\n",
    "- ушедших клиентов в датасете около 20%.  \n",
    "\n",
    "Были проверены 2 статистические гипотезы. Результаты статистических тестов не противоречат гипотезам, что доли оттока в городах Ярославль и Рыбинск одинаковы, и что распределение дохода клиентов, которые пользуются одним продуктами банка равно распределению доходов клиентов, которые пользуются двумя продуктами банка.\n",
    "\n",
    "\n",
    "На основе данных построена модель бинарной классификации клиентов, где целевой признак — факт оттока клиента. Проработаны несколько моделей, GradientBoostingClassifier показала наибольшую точность (Precision = 0.75), принята для дальнейшей работы. Надо отметить, что данные содержали довольно равномерное распредение зарплаты и количества объектов, вероятно, являясь выборкой по определенным показателям. Результаты обучения модели с более полным датасетом могут быть более точными. \n",
    "\n",
    "По результату работы модели, коэффициенты важности признаков показывают, что самым важным признаком является возраст клиентов, далее идет кол-во применяемых продуктов и на третьем месте активность клиентов, что подтверждает результаты исследовательского анализа данных.\n",
    "\n",
    "По результатам исследования:\n",
    "\n",
    "- нет клиентов, которые использовали 4 продукта и остались;\n",
    "- для клиентов, использующих 3 продукта, показатель оттока высок — 83%;\n",
    "- для активных клиентов процент оттока составил 14%, для неактивных — 27%;\n",
    "- в Ростове средний показатель оттока по любому кол-ву продуктов почти в 2 раза выше, чем в соседних городах;\n",
    "- клиенты старше 60 лет, вероятно, получающие пенсию в банке, показывают самую высокую активность 81% и процент оттока — 25%. У них также самые высокие показатели кредитного скоринга;\n",
    "- клиенты от 40 до 60 лет имеют самый высокий процент оттока — 40%. Средний возраст ушедших клиентов 45 лет;\n",
    "- наименьший процент оттока у клиентов до 30 лет;\n",
    "\n",
    "**Рекомендации:**\n",
    "\n",
    "- Причина, по которой все клиенты, использующие четыре продукта, ушли, требует дополнительного выяснения. Возможно, клиенты, использующие более двух продуктов, ушли после закрытия кредитов, возможно, другой банк предложил более привлекательные ставки, что привело к рефинансированию и закрытию счетов. \n",
    "\n",
    "- Наименьший показатель оттока у клиентов, использующих два продукта и до 30 лет. Поэтому, если такой клиент использует 1 продукт, например, дебетовый счет, можно рекомендовать дополнительный продукт, например, зарплатный счет или инвестиционный продукт. Они могут удержать клиента в долгосрочной перспективе. Для клиентов, использующих два продукта, рекомендации по дополнительным следует проводить только после выяснения причин оттока клиентов с тремя и более продуктами.\n",
    "\n",
    "- Если активность клиента падает, есть больший риск, что он уйдет. Поэтому при снижении показателя активности в 2 раза следует обратить на клиента дополнительное внимание, предложить выгодные условия.\n",
    "\n",
    "- По клиентам старше 60 лет, вероятно, самая высокая активность связана с ежемесячной выплатой пенсий. Самый высокий процент оттока у клиентов от 40 до 60 лет, вероятно, некоторые из них прекратили получать зарплату в банке. Для клиентов, завершающих зарплатный проект, стоит рекомендовать пенсионный. Зарплатный или пенсионный проект могут удержать клиентов в долгосрочной перспективе.\n",
    "\n",
    "- В Ростове средний показатель оттока по любому кол-ву продуктов почти в 2 раза выше, чем в соседних городах, причины этого требуют дальнейшего выяснения, усиленного контроля сервиса.\n",
    "\n",
    "**Презентация:**\n",
    "\n",
    "https://drive.google.com/file/d/1wYKWLcj2bQ-3UfivpdpnSez8sR3ECcFT/view?usp=sharing\n",
    "\n",
    "**Дашборд:**\n",
    "\n",
    "Дашборд отображает распределение заработной платы клиентов.\n",
    "Цветом показан процент клиентов, имеющих кредитную карту.\n",
    "Фильтр дашборда позволяет сделать выборку по ушедшим и оставшимся клиентам.\n",
    "\n",
    "https://public.tableau.com/views/Segmentationofbankusers/Dashboard1?:language=en-US&publish=yes&:display_count=n&:origin=viz_share_link"
   ]
  }
 ],
 "metadata": {
  "ExecuteTimeLog": [
   {
    "duration": 55,
    "start_time": "2021-11-07T10:53:03.747Z"
   },
   {
    "duration": 55,
    "start_time": "2021-11-07T10:53:39.344Z"
   },
   {
    "duration": 58,
    "start_time": "2021-11-07T10:56:07.557Z"
   },
   {
    "duration": 61,
    "start_time": "2021-11-07T11:11:06.116Z"
   },
   {
    "duration": 57,
    "start_time": "2021-11-07T11:11:12.859Z"
   },
   {
    "duration": 59,
    "start_time": "2021-11-07T11:13:00.195Z"
   },
   {
    "duration": 78,
    "start_time": "2021-11-07T11:23:08.830Z"
   },
   {
    "duration": 2401,
    "start_time": "2021-11-08T08:52:12.908Z"
   },
   {
    "duration": 7,
    "start_time": "2021-11-08T08:52:15.312Z"
   },
   {
    "duration": 59,
    "start_time": "2021-11-08T08:52:15.324Z"
   },
   {
    "duration": 5,
    "start_time": "2021-11-08T08:52:15.387Z"
   },
   {
    "duration": 9,
    "start_time": "2021-11-08T08:52:15.395Z"
   },
   {
    "duration": 19,
    "start_time": "2021-11-08T08:52:15.406Z"
   },
   {
    "duration": 11,
    "start_time": "2021-11-08T08:52:15.428Z"
   },
   {
    "duration": 8,
    "start_time": "2021-11-08T08:52:15.485Z"
   },
   {
    "duration": 13,
    "start_time": "2021-11-08T08:52:15.496Z"
   },
   {
    "duration": 5,
    "start_time": "2021-11-08T08:52:15.511Z"
   },
   {
    "duration": 605,
    "start_time": "2021-11-08T08:52:15.518Z"
   },
   {
    "duration": 565,
    "start_time": "2021-11-08T08:52:16.126Z"
   },
   {
    "duration": 620,
    "start_time": "2021-11-08T08:52:16.694Z"
   },
   {
    "duration": 708,
    "start_time": "2021-11-08T08:52:17.317Z"
   },
   {
    "duration": 9,
    "start_time": "2021-11-08T08:52:18.028Z"
   },
   {
    "duration": 11,
    "start_time": "2021-11-08T08:52:18.039Z"
   },
   {
    "duration": 32,
    "start_time": "2021-11-08T08:52:18.053Z"
   },
   {
    "duration": 7,
    "start_time": "2021-11-08T08:52:18.087Z"
   },
   {
    "duration": 9,
    "start_time": "2021-11-08T08:52:18.097Z"
   },
   {
    "duration": 7,
    "start_time": "2021-11-08T08:52:18.109Z"
   },
   {
    "duration": 12,
    "start_time": "2021-11-08T08:52:18.119Z"
   },
   {
    "duration": 66,
    "start_time": "2021-11-08T08:52:18.134Z"
   },
   {
    "duration": 6,
    "start_time": "2021-11-08T08:52:18.208Z"
   },
   {
    "duration": 7,
    "start_time": "2021-11-08T08:52:18.219Z"
   },
   {
    "duration": 833,
    "start_time": "2021-11-08T08:52:18.228Z"
   },
   {
    "duration": 29,
    "start_time": "2021-11-08T08:52:19.063Z"
   },
   {
    "duration": 19,
    "start_time": "2021-11-08T08:52:19.094Z"
   },
   {
    "duration": 13,
    "start_time": "2021-11-08T08:52:19.115Z"
   },
   {
    "duration": 22,
    "start_time": "2021-11-08T08:52:19.130Z"
   },
   {
    "duration": 21,
    "start_time": "2021-11-08T08:52:19.183Z"
   },
   {
    "duration": 22,
    "start_time": "2021-11-08T08:52:19.207Z"
   },
   {
    "duration": 58,
    "start_time": "2021-11-08T08:52:19.231Z"
   },
   {
    "duration": 29,
    "start_time": "2021-11-08T08:52:19.291Z"
   },
   {
    "duration": 11,
    "start_time": "2021-11-08T08:52:19.322Z"
   },
   {
    "duration": 710,
    "start_time": "2021-11-08T08:52:19.335Z"
   },
   {
    "duration": 6,
    "start_time": "2021-11-08T08:52:20.047Z"
   },
   {
    "duration": 31,
    "start_time": "2021-11-08T08:52:20.055Z"
   },
   {
    "duration": 57,
    "start_time": "2021-11-08T08:52:20.088Z"
   },
   {
    "duration": 176,
    "start_time": "2021-11-08T08:52:20.147Z"
   },
   {
    "duration": 23,
    "start_time": "2021-11-08T08:52:20.325Z"
   },
   {
    "duration": 47,
    "start_time": "2021-11-08T08:52:20.350Z"
   },
   {
    "duration": 6,
    "start_time": "2021-11-08T08:52:20.400Z"
   },
   {
    "duration": 548,
    "start_time": "2021-11-08T08:52:20.409Z"
   },
   {
    "duration": 38,
    "start_time": "2021-11-08T08:52:20.960Z"
   },
   {
    "duration": 5,
    "start_time": "2021-11-08T08:52:21.001Z"
   },
   {
    "duration": 437,
    "start_time": "2021-11-08T08:52:21.008Z"
   },
   {
    "duration": 41,
    "start_time": "2021-11-08T08:52:21.448Z"
   },
   {
    "duration": 675,
    "start_time": "2021-11-08T08:52:21.492Z"
   },
   {
    "duration": 22,
    "start_time": "2021-11-08T08:52:22.170Z"
   },
   {
    "duration": 14,
    "start_time": "2021-11-08T08:52:22.195Z"
   },
   {
    "duration": 955,
    "start_time": "2021-11-08T08:52:22.211Z"
   },
   {
    "duration": 28,
    "start_time": "2021-11-08T08:52:23.168Z"
   },
   {
    "duration": 31,
    "start_time": "2021-11-08T08:52:23.198Z"
   },
   {
    "duration": 50,
    "start_time": "2021-11-08T08:52:23.231Z"
   },
   {
    "duration": 1298,
    "start_time": "2021-11-08T08:52:23.284Z"
   },
   {
    "duration": 4,
    "start_time": "2021-11-08T08:52:24.584Z"
   },
   {
    "duration": 9,
    "start_time": "2021-11-08T08:52:24.591Z"
   },
   {
    "duration": 10,
    "start_time": "2021-11-08T08:52:24.603Z"
   },
   {
    "duration": 10,
    "start_time": "2021-11-08T08:52:24.615Z"
   },
   {
    "duration": 11,
    "start_time": "2021-11-08T08:52:24.627Z"
   },
   {
    "duration": 43,
    "start_time": "2021-11-08T08:52:24.640Z"
   },
   {
    "duration": 4,
    "start_time": "2021-11-08T08:52:24.685Z"
   },
   {
    "duration": 165,
    "start_time": "2021-11-08T08:52:24.691Z"
   },
   {
    "duration": 123,
    "start_time": "2021-11-08T08:52:24.859Z"
   },
   {
    "duration": 154,
    "start_time": "2021-11-08T08:52:24.985Z"
   },
   {
    "duration": 689,
    "start_time": "2021-11-08T08:52:25.142Z"
   },
   {
    "duration": 654,
    "start_time": "2021-11-08T08:52:25.833Z"
   },
   {
    "duration": 22,
    "start_time": "2021-11-08T10:01:17.312Z"
   },
   {
    "duration": 106,
    "start_time": "2021-11-08T10:05:03.313Z"
   },
   {
    "duration": 2132,
    "start_time": "2021-11-08T10:07:41.755Z"
   },
   {
    "duration": 6,
    "start_time": "2021-11-08T10:07:43.890Z"
   },
   {
    "duration": 53,
    "start_time": "2021-11-08T10:07:43.900Z"
   },
   {
    "duration": 4,
    "start_time": "2021-11-08T10:07:43.956Z"
   },
   {
    "duration": 21,
    "start_time": "2021-11-08T10:07:43.963Z"
   },
   {
    "duration": 16,
    "start_time": "2021-11-08T10:07:43.987Z"
   },
   {
    "duration": 15,
    "start_time": "2021-11-08T10:07:44.006Z"
   },
   {
    "duration": 10,
    "start_time": "2021-11-08T10:07:44.026Z"
   },
   {
    "duration": 49,
    "start_time": "2021-11-08T10:07:44.039Z"
   },
   {
    "duration": 6,
    "start_time": "2021-11-08T10:07:44.090Z"
   },
   {
    "duration": 568,
    "start_time": "2021-11-08T10:07:44.098Z"
   },
   {
    "duration": 560,
    "start_time": "2021-11-08T10:07:44.668Z"
   },
   {
    "duration": 701,
    "start_time": "2021-11-08T10:07:45.231Z"
   },
   {
    "duration": 657,
    "start_time": "2021-11-08T10:07:45.934Z"
   },
   {
    "duration": 8,
    "start_time": "2021-11-08T10:07:46.593Z"
   },
   {
    "duration": 12,
    "start_time": "2021-11-08T10:07:46.604Z"
   },
   {
    "duration": 11,
    "start_time": "2021-11-08T10:07:46.618Z"
   },
   {
    "duration": 8,
    "start_time": "2021-11-08T10:07:46.632Z"
   },
   {
    "duration": 40,
    "start_time": "2021-11-08T10:07:46.643Z"
   },
   {
    "duration": 14,
    "start_time": "2021-11-08T10:07:46.685Z"
   },
   {
    "duration": 8,
    "start_time": "2021-11-08T10:07:46.701Z"
   },
   {
    "duration": 27,
    "start_time": "2021-11-08T10:07:46.711Z"
   },
   {
    "duration": 37,
    "start_time": "2021-11-08T10:07:46.745Z"
   },
   {
    "duration": 16,
    "start_time": "2021-11-08T10:07:46.786Z"
   },
   {
    "duration": 779,
    "start_time": "2021-11-08T10:07:46.804Z"
   },
   {
    "duration": 29,
    "start_time": "2021-11-08T10:07:47.586Z"
   },
   {
    "duration": 21,
    "start_time": "2021-11-08T10:07:47.618Z"
   },
   {
    "duration": 41,
    "start_time": "2021-11-08T10:07:47.641Z"
   },
   {
    "duration": 20,
    "start_time": "2021-11-08T10:07:47.685Z"
   },
   {
    "duration": 20,
    "start_time": "2021-11-08T10:07:47.708Z"
   },
   {
    "duration": 52,
    "start_time": "2021-11-08T10:07:47.730Z"
   },
   {
    "duration": 34,
    "start_time": "2021-11-08T10:07:47.784Z"
   },
   {
    "duration": 30,
    "start_time": "2021-11-08T10:07:47.820Z"
   },
   {
    "duration": 38,
    "start_time": "2021-11-08T10:07:47.852Z"
   },
   {
    "duration": 725,
    "start_time": "2021-11-08T10:07:47.892Z"
   },
   {
    "duration": 5,
    "start_time": "2021-11-08T10:07:48.620Z"
   },
   {
    "duration": 16,
    "start_time": "2021-11-08T10:07:48.627Z"
   },
   {
    "duration": 71,
    "start_time": "2021-11-08T10:07:48.645Z"
   },
   {
    "duration": 167,
    "start_time": "2021-11-08T10:07:48.718Z"
   },
   {
    "duration": 24,
    "start_time": "2021-11-08T10:07:48.887Z"
   },
   {
    "duration": 24,
    "start_time": "2021-11-08T10:07:48.913Z"
   },
   {
    "duration": 5,
    "start_time": "2021-11-08T10:07:48.939Z"
   },
   {
    "duration": 461,
    "start_time": "2021-11-08T10:07:48.946Z"
   },
   {
    "duration": 27,
    "start_time": "2021-11-08T10:07:49.409Z"
   },
   {
    "duration": 4,
    "start_time": "2021-11-08T10:07:49.439Z"
   },
   {
    "duration": 403,
    "start_time": "2021-11-08T10:07:49.445Z"
   },
   {
    "duration": 42,
    "start_time": "2021-11-08T10:07:49.851Z"
   },
   {
    "duration": 728,
    "start_time": "2021-11-08T10:07:49.896Z"
   },
   {
    "duration": 903,
    "start_time": "2021-11-08T10:07:50.627Z"
   },
   {
    "duration": 20,
    "start_time": "2021-11-08T10:07:51.533Z"
   },
   {
    "duration": 45,
    "start_time": "2021-11-08T10:07:51.555Z"
   },
   {
    "duration": 31,
    "start_time": "2021-11-08T10:07:51.602Z"
   },
   {
    "duration": 51,
    "start_time": "2021-11-08T10:07:51.636Z"
   },
   {
    "duration": 1311,
    "start_time": "2021-11-08T10:07:51.689Z"
   },
   {
    "duration": 5,
    "start_time": "2021-11-08T10:07:53.002Z"
   },
   {
    "duration": 7,
    "start_time": "2021-11-08T10:07:53.009Z"
   },
   {
    "duration": 11,
    "start_time": "2021-11-08T10:07:53.019Z"
   },
   {
    "duration": 5,
    "start_time": "2021-11-08T10:07:53.032Z"
   },
   {
    "duration": 43,
    "start_time": "2021-11-08T10:07:53.040Z"
   },
   {
    "duration": 10,
    "start_time": "2021-11-08T10:07:53.086Z"
   },
   {
    "duration": 4,
    "start_time": "2021-11-08T10:07:53.099Z"
   },
   {
    "duration": 170,
    "start_time": "2021-11-08T10:07:53.105Z"
   },
   {
    "duration": 104,
    "start_time": "2021-11-08T10:07:53.278Z"
   },
   {
    "duration": 156,
    "start_time": "2021-11-08T10:07:53.386Z"
   },
   {
    "duration": 620,
    "start_time": "2021-11-08T10:07:53.544Z"
   },
   {
    "duration": 857,
    "start_time": "2021-11-08T10:07:54.166Z"
   },
   {
    "duration": 92,
    "start_time": "2021-11-08T10:08:14.473Z"
   },
   {
    "duration": 159,
    "start_time": "2021-11-08T18:46:23.946Z"
   }
  ],
  "kernelspec": {
   "display_name": "Python 3",
   "language": "python",
   "name": "python3"
  },
  "language_info": {
   "codemirror_mode": {
    "name": "ipython",
    "version": 3
   },
   "file_extension": ".py",
   "mimetype": "text/x-python",
   "name": "python",
   "nbconvert_exporter": "python",
   "pygments_lexer": "ipython3",
   "version": "3.7.10"
  },
  "toc": {
   "base_numbering": 1,
   "nav_menu": {},
   "number_sections": true,
   "sideBar": true,
   "skip_h1_title": false,
   "title_cell": "Table of Contents",
   "title_sidebar": "Contents",
   "toc_cell": false,
   "toc_position": {},
   "toc_section_display": true,
   "toc_window_display": false
  }
 },
 "nbformat": 4,
 "nbformat_minor": 5
}
